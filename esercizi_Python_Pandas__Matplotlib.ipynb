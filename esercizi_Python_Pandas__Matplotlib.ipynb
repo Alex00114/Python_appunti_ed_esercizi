{
  "nbformat": 4,
  "nbformat_minor": 0,
  "metadata": {
    "colab": {
      "name": "esercizi_Python_Pandas _Matplotlib.ipynb",
      "provenance": [],
      "collapsed_sections": []
    },
    "kernelspec": {
      "name": "python3",
      "display_name": "Python 3"
    },
    "language_info": {
      "name": "python"
    }
  },
  "cells": [
    {
      "cell_type": "code",
      "metadata": {
        "id": "v8X2973NX0CC"
      },
      "source": [
        "!pip install squarify"
      ],
      "execution_count": null,
      "outputs": []
    },
    {
      "cell_type": "code",
      "metadata": {
        "id": "izKb3d8U469c"
      },
      "source": [
        "import pandas as pd\n",
        "import matplotlib.pyplot as plt\n",
        "import squarify as sqf"
      ],
      "execution_count": 27,
      "outputs": []
    },
    {
      "cell_type": "markdown",
      "metadata": {
        "id": "hhaoh5fb5KFd"
      },
      "source": [
        "Caricare il dataframe"
      ]
    },
    {
      "cell_type": "code",
      "metadata": {
        "colab": {
          "base_uri": "https://localhost:8080/",
          "height": 424
        },
        "id": "nmaAhpec5OOl",
        "outputId": "94567671-99b8-4d37-e1f5-13a8e7fbc07c"
      },
      "source": [
        "df = pd.read_csv(\"https://raw.githubusercontent.com/italia/covid19-opendata-vaccini/master/dati/consegne-vaccini-latest.csv\")\n",
        "df"
      ],
      "execution_count": 3,
      "outputs": [
        {
          "output_type": "execute_result",
          "data": {
            "text/html": [
              "<div>\n",
              "<style scoped>\n",
              "    .dataframe tbody tr th:only-of-type {\n",
              "        vertical-align: middle;\n",
              "    }\n",
              "\n",
              "    .dataframe tbody tr th {\n",
              "        vertical-align: top;\n",
              "    }\n",
              "\n",
              "    .dataframe thead th {\n",
              "        text-align: right;\n",
              "    }\n",
              "</style>\n",
              "<table border=\"1\" class=\"dataframe\">\n",
              "  <thead>\n",
              "    <tr style=\"text-align: right;\">\n",
              "      <th></th>\n",
              "      <th>area</th>\n",
              "      <th>fornitore</th>\n",
              "      <th>numero_dosi</th>\n",
              "      <th>data_consegna</th>\n",
              "      <th>codice_NUTS1</th>\n",
              "      <th>codice_NUTS2</th>\n",
              "      <th>codice_regione_ISTAT</th>\n",
              "      <th>nome_area</th>\n",
              "    </tr>\n",
              "  </thead>\n",
              "  <tbody>\n",
              "    <tr>\n",
              "      <th>0</th>\n",
              "      <td>ABR</td>\n",
              "      <td>Pfizer/BioNTech</td>\n",
              "      <td>135</td>\n",
              "      <td>2020-12-27</td>\n",
              "      <td>ITF</td>\n",
              "      <td>ITF1</td>\n",
              "      <td>13</td>\n",
              "      <td>Abruzzo</td>\n",
              "    </tr>\n",
              "    <tr>\n",
              "      <th>1</th>\n",
              "      <td>ABR</td>\n",
              "      <td>Pfizer/BioNTech</td>\n",
              "      <td>7800</td>\n",
              "      <td>2020-12-30</td>\n",
              "      <td>ITF</td>\n",
              "      <td>ITF1</td>\n",
              "      <td>13</td>\n",
              "      <td>Abruzzo</td>\n",
              "    </tr>\n",
              "    <tr>\n",
              "      <th>2</th>\n",
              "      <td>ABR</td>\n",
              "      <td>Pfizer/BioNTech</td>\n",
              "      <td>3900</td>\n",
              "      <td>2021-01-05</td>\n",
              "      <td>ITF</td>\n",
              "      <td>ITF1</td>\n",
              "      <td>13</td>\n",
              "      <td>Abruzzo</td>\n",
              "    </tr>\n",
              "    <tr>\n",
              "      <th>3</th>\n",
              "      <td>ABR</td>\n",
              "      <td>Pfizer/BioNTech</td>\n",
              "      <td>3900</td>\n",
              "      <td>2021-01-07</td>\n",
              "      <td>ITF</td>\n",
              "      <td>ITF1</td>\n",
              "      <td>13</td>\n",
              "      <td>Abruzzo</td>\n",
              "    </tr>\n",
              "    <tr>\n",
              "      <th>4</th>\n",
              "      <td>ABR</td>\n",
              "      <td>Pfizer/BioNTech</td>\n",
              "      <td>3900</td>\n",
              "      <td>2021-01-11</td>\n",
              "      <td>ITF</td>\n",
              "      <td>ITF1</td>\n",
              "      <td>13</td>\n",
              "      <td>Abruzzo</td>\n",
              "    </tr>\n",
              "    <tr>\n",
              "      <th>...</th>\n",
              "      <td>...</td>\n",
              "      <td>...</td>\n",
              "      <td>...</td>\n",
              "      <td>...</td>\n",
              "      <td>...</td>\n",
              "      <td>...</td>\n",
              "      <td>...</td>\n",
              "      <td>...</td>\n",
              "    </tr>\n",
              "    <tr>\n",
              "      <th>5278</th>\n",
              "      <td>VEN</td>\n",
              "      <td>Moderna</td>\n",
              "      <td>-1200</td>\n",
              "      <td>2021-10-11</td>\n",
              "      <td>ITH</td>\n",
              "      <td>ITH3</td>\n",
              "      <td>5</td>\n",
              "      <td>Veneto</td>\n",
              "    </tr>\n",
              "    <tr>\n",
              "      <th>5279</th>\n",
              "      <td>VEN</td>\n",
              "      <td>Moderna</td>\n",
              "      <td>1</td>\n",
              "      <td>2021-10-13</td>\n",
              "      <td>ITH</td>\n",
              "      <td>ITH3</td>\n",
              "      <td>5</td>\n",
              "      <td>Veneto</td>\n",
              "    </tr>\n",
              "    <tr>\n",
              "      <th>5280</th>\n",
              "      <td>VEN</td>\n",
              "      <td>Moderna</td>\n",
              "      <td>8</td>\n",
              "      <td>2021-10-14</td>\n",
              "      <td>ITH</td>\n",
              "      <td>ITH3</td>\n",
              "      <td>5</td>\n",
              "      <td>Veneto</td>\n",
              "    </tr>\n",
              "    <tr>\n",
              "      <th>5281</th>\n",
              "      <td>VEN</td>\n",
              "      <td>Pfizer/BioNTech</td>\n",
              "      <td>4</td>\n",
              "      <td>2021-10-15</td>\n",
              "      <td>ITH</td>\n",
              "      <td>ITH3</td>\n",
              "      <td>5</td>\n",
              "      <td>Veneto</td>\n",
              "    </tr>\n",
              "    <tr>\n",
              "      <th>5282</th>\n",
              "      <td>VEN</td>\n",
              "      <td>Moderna</td>\n",
              "      <td>5</td>\n",
              "      <td>2021-11-11</td>\n",
              "      <td>ITH</td>\n",
              "      <td>ITH3</td>\n",
              "      <td>5</td>\n",
              "      <td>Veneto</td>\n",
              "    </tr>\n",
              "  </tbody>\n",
              "</table>\n",
              "<p>5283 rows × 8 columns</p>\n",
              "</div>"
            ],
            "text/plain": [
              "     area        fornitore  ...  codice_regione_ISTAT nome_area\n",
              "0     ABR  Pfizer/BioNTech  ...                    13   Abruzzo\n",
              "1     ABR  Pfizer/BioNTech  ...                    13   Abruzzo\n",
              "2     ABR  Pfizer/BioNTech  ...                    13   Abruzzo\n",
              "3     ABR  Pfizer/BioNTech  ...                    13   Abruzzo\n",
              "4     ABR  Pfizer/BioNTech  ...                    13   Abruzzo\n",
              "...   ...              ...  ...                   ...       ...\n",
              "5278  VEN          Moderna  ...                     5    Veneto\n",
              "5279  VEN          Moderna  ...                     5    Veneto\n",
              "5280  VEN          Moderna  ...                     5    Veneto\n",
              "5281  VEN  Pfizer/BioNTech  ...                     5    Veneto\n",
              "5282  VEN          Moderna  ...                     5    Veneto\n",
              "\n",
              "[5283 rows x 8 columns]"
            ]
          },
          "metadata": {},
          "execution_count": 3
        }
      ]
    },
    {
      "cell_type": "markdown",
      "metadata": {
        "id": "8oAjhyqD5X60"
      },
      "source": [
        "1. Visualizzare il numero totale di record presenti nel file"
      ]
    },
    {
      "cell_type": "code",
      "metadata": {
        "colab": {
          "base_uri": "https://localhost:8080/"
        },
        "id": "3CSC4TxG5Z48",
        "outputId": "d1cc2517-f485-4f1d-c67c-2e1b61ac8aaa"
      },
      "source": [
        "len(df.index)"
      ],
      "execution_count": 4,
      "outputs": [
        {
          "output_type": "execute_result",
          "data": {
            "text/plain": [
              "5283"
            ]
          },
          "metadata": {},
          "execution_count": 4
        }
      ]
    },
    {
      "cell_type": "markdown",
      "metadata": {
        "id": "Haf_En2B51_0"
      },
      "source": [
        "2. Visualizzare il numero di record presenti relativi ad una regione inserita dall'utente"
      ]
    },
    {
      "cell_type": "code",
      "metadata": {
        "colab": {
          "base_uri": "https://localhost:8080/"
        },
        "id": "YD2WW-f453us",
        "outputId": "b9fa9d20-1a87-4f0d-c373-13d7ef38da8d"
      },
      "source": [
        "regione = str(input(\"Inserisci regione: \"))\n",
        "\n",
        "df.loc[df['nome_area'] == regione, 'numero_dosi'].count()"
      ],
      "execution_count": 7,
      "outputs": [
        {
          "name": "stdout",
          "output_type": "stream",
          "text": [
            "Inserisci regione: Lombardia\n"
          ]
        },
        {
          "output_type": "execute_result",
          "data": {
            "text/plain": [
              "264"
            ]
          },
          "metadata": {},
          "execution_count": 7
        }
      ]
    },
    {
      "cell_type": "markdown",
      "metadata": {
        "id": "JiJsw2mW5308"
      },
      "source": [
        "3. Modificare l'esercizio precedente per rispondere con un messaggio appropriato se la regione non è presente"
      ]
    },
    {
      "cell_type": "code",
      "metadata": {
        "id": "kJAEsdNf56rd",
        "colab": {
          "base_uri": "https://localhost:8080/"
        },
        "outputId": "0d52f9fa-f582-4a8b-c0ec-048c1e64c4c8"
      },
      "source": [
        "regione = str(input(\"Inserisci regione: \"))\n",
        "n = df['nome_area'].str.contains(regione).sum()\n",
        "\n",
        "if n > 0:\n",
        "  print(df.loc[df['nome_area'] == regione, 'numero_dosi'].count())\n",
        "else:\n",
        "  print('La regione inserita non esiste')"
      ],
      "execution_count": 9,
      "outputs": [
        {
          "output_type": "stream",
          "name": "stdout",
          "text": [
            "Inserisci regione: Milano\n",
            "La regione inserita non esiste\n"
          ]
        }
      ]
    },
    {
      "cell_type": "markdown",
      "metadata": {
        "id": "4wNPOM4MU92u"
      },
      "source": [
        "4. Visualizzare il numero totale di vaccini consegnati in una regione inserita dall'utente"
      ]
    },
    {
      "cell_type": "code",
      "metadata": {
        "colab": {
          "base_uri": "https://localhost:8080/"
        },
        "id": "zHo2RRBTVeAC",
        "outputId": "a3ab5864-a417-4b4a-9e63-141551a1fc97"
      },
      "source": [
        "regione = str(input(\"Inserisci regione: \"))\n",
        "print(df.loc[df['nome_area'] == regione, 'numero_dosi'].sum())"
      ],
      "execution_count": 11,
      "outputs": [
        {
          "output_type": "stream",
          "name": "stdout",
          "text": [
            "Inserisci regione: Veneto\n",
            "8088672\n"
          ]
        }
      ]
    },
    {
      "cell_type": "markdown",
      "metadata": {
        "id": "vZsjmE-wWCjS"
      },
      "source": [
        "5. Visualizzare il numero di vaccini per ogni fornitore"
      ]
    },
    {
      "cell_type": "code",
      "metadata": {
        "colab": {
          "base_uri": "https://localhost:8080/",
          "height": 206
        },
        "id": "1elLOMHbWEmf",
        "outputId": "e09c39f7-7516-4d70-99b1-31b8991b3f6c"
      },
      "source": [
        "df.groupby('fornitore').agg({'numero_dosi': 'sum'})"
      ],
      "execution_count": 12,
      "outputs": [
        {
          "output_type": "execute_result",
          "data": {
            "text/html": [
              "<div>\n",
              "<style scoped>\n",
              "    .dataframe tbody tr th:only-of-type {\n",
              "        vertical-align: middle;\n",
              "    }\n",
              "\n",
              "    .dataframe tbody tr th {\n",
              "        vertical-align: top;\n",
              "    }\n",
              "\n",
              "    .dataframe thead th {\n",
              "        text-align: right;\n",
              "    }\n",
              "</style>\n",
              "<table border=\"1\" class=\"dataframe\">\n",
              "  <thead>\n",
              "    <tr style=\"text-align: right;\">\n",
              "      <th></th>\n",
              "      <th>numero_dosi</th>\n",
              "    </tr>\n",
              "    <tr>\n",
              "      <th>fornitore</th>\n",
              "      <th></th>\n",
              "    </tr>\n",
              "  </thead>\n",
              "  <tbody>\n",
              "    <tr>\n",
              "      <th>Janssen</th>\n",
              "      <td>1846104</td>\n",
              "    </tr>\n",
              "    <tr>\n",
              "      <th>Moderna</th>\n",
              "      <td>15235940</td>\n",
              "    </tr>\n",
              "    <tr>\n",
              "      <th>Pfizer/BioNTech</th>\n",
              "      <td>71327408</td>\n",
              "    </tr>\n",
              "    <tr>\n",
              "      <th>Vaxzevria (AstraZeneca)</th>\n",
              "      <td>11544591</td>\n",
              "    </tr>\n",
              "  </tbody>\n",
              "</table>\n",
              "</div>"
            ],
            "text/plain": [
              "                         numero_dosi\n",
              "fornitore                           \n",
              "Janssen                      1846104\n",
              "Moderna                     15235940\n",
              "Pfizer/BioNTech             71327408\n",
              "Vaxzevria (AstraZeneca)     11544591"
            ]
          },
          "metadata": {},
          "execution_count": 12
        }
      ]
    },
    {
      "cell_type": "markdown",
      "metadata": {
        "id": "SYEVjmvYWUZE"
      },
      "source": [
        "6. Visualizzare il numero di vaccini per ogni fornitore di una regione inserita dall'utente. Ordinare in ordine\n",
        "decrescente sul numero di vaccini\n"
      ]
    },
    {
      "cell_type": "code",
      "metadata": {
        "colab": {
          "base_uri": "https://localhost:8080/",
          "height": 192
        },
        "id": "PXgZeu1dWWqe",
        "outputId": "e7696f39-4fc0-400b-b4e4-6d983d2a2a11"
      },
      "source": [
        "regione = str(input(\"Inserisci regione: \"))\n",
        "df2 = df[df['nome_area'] == regione]\n",
        "df2 = df2.groupby('fornitore', as_index=False).agg({'numero_dosi': 'sum'}).sort_values('numero_dosi', ascending=False)\n",
        "df2"
      ],
      "execution_count": 16,
      "outputs": [
        {
          "name": "stdout",
          "output_type": "stream",
          "text": [
            "Inserisci regione: Abruzzo\n"
          ]
        },
        {
          "output_type": "execute_result",
          "data": {
            "text/html": [
              "<div>\n",
              "<style scoped>\n",
              "    .dataframe tbody tr th:only-of-type {\n",
              "        vertical-align: middle;\n",
              "    }\n",
              "\n",
              "    .dataframe tbody tr th {\n",
              "        vertical-align: top;\n",
              "    }\n",
              "\n",
              "    .dataframe thead th {\n",
              "        text-align: right;\n",
              "    }\n",
              "</style>\n",
              "<table border=\"1\" class=\"dataframe\">\n",
              "  <thead>\n",
              "    <tr style=\"text-align: right;\">\n",
              "      <th></th>\n",
              "      <th>fornitore</th>\n",
              "      <th>numero_dosi</th>\n",
              "    </tr>\n",
              "  </thead>\n",
              "  <tbody>\n",
              "    <tr>\n",
              "      <th>2</th>\n",
              "      <td>Pfizer/BioNTech</td>\n",
              "      <td>1575702</td>\n",
              "    </tr>\n",
              "    <tr>\n",
              "      <th>1</th>\n",
              "      <td>Moderna</td>\n",
              "      <td>357200</td>\n",
              "    </tr>\n",
              "    <tr>\n",
              "      <th>3</th>\n",
              "      <td>Vaxzevria (AstraZeneca)</td>\n",
              "      <td>298450</td>\n",
              "    </tr>\n",
              "    <tr>\n",
              "      <th>0</th>\n",
              "      <td>Janssen</td>\n",
              "      <td>35900</td>\n",
              "    </tr>\n",
              "  </tbody>\n",
              "</table>\n",
              "</div>"
            ],
            "text/plain": [
              "                 fornitore  numero_dosi\n",
              "2          Pfizer/BioNTech      1575702\n",
              "1                  Moderna       357200\n",
              "3  Vaxzevria (AstraZeneca)       298450\n",
              "0                  Janssen        35900"
            ]
          },
          "metadata": {},
          "execution_count": 16
        }
      ]
    },
    {
      "cell_type": "markdown",
      "metadata": {
        "id": "o7D-1-TvXEEk"
      },
      "source": [
        "7. Visualizzare le informazioni dell'esercizio 6 con un grafico a barre"
      ]
    },
    {
      "cell_type": "code",
      "metadata": {
        "colab": {
          "base_uri": "https://localhost:8080/",
          "height": 462
        },
        "id": "hxpxruz-XG0w",
        "outputId": "361b3509-501c-408c-bb9e-914a4bedee95"
      },
      "source": [
        "fig = plt.figure(figsize=(7,7))\n",
        "ax = plt.axes()\n",
        "\n",
        "ax.bar(df2['fornitore'], df2['numero_dosi'].values)\n",
        "fig.autofmt_xdate(rotation=30)\n",
        "\n",
        "plt.show()"
      ],
      "execution_count": 23,
      "outputs": [
        {
          "output_type": "display_data",
          "data": {
            "image/png": "[encoded data removed]",
            "text/plain": [
              "<Figure size 504x504 with 1 Axes>"
            ]
          },
          "metadata": {
            "needs_background": "light"
          }
        }
      ]
    },
    {
      "cell_type": "markdown",
      "metadata": {
        "id": "Pzh1h535Xhl8"
      },
      "source": [
        "8. Visualizzare le informazioni dell'esercizio 6 con un grafico a torta"
      ]
    },
    {
      "cell_type": "code",
      "metadata": {
        "colab": {
          "base_uri": "https://localhost:8080/",
          "height": 411
        },
        "id": "tOtg07TpXjg2",
        "outputId": "4ecedd8f-5ee1-45e3-a5c3-164fb4fc1c1f"
      },
      "source": [
        "fig = plt.figure(figsize=(7,7))\n",
        "ax = plt.axes()\n",
        "\n",
        "ax.pie(df2['numero_dosi'].values, labels=df2['fornitore'])\n",
        "\n",
        "plt.show()"
      ],
      "execution_count": 25,
      "outputs": [
        {
          "output_type": "display_data",
          "data": {
            "image/png": "[encoded data removed]",
            "text/plain": [
              "<Figure size 504x504 with 1 Axes>"
            ]
          },
          "metadata": {}
        }
      ]
    },
    {
      "cell_type": "markdown",
      "metadata": {
        "id": "Uso8uvFaXtzO"
      },
      "source": [
        "9. Visualizzare le informazioni dell'esercizio 6 con un grafico treemap"
      ]
    },
    {
      "cell_type": "code",
      "metadata": {
        "colab": {
          "base_uri": "https://localhost:8080/",
          "height": 269
        },
        "id": "Ss4xuqy_XwBQ",
        "outputId": "d9c5d38a-691e-46bb-c381-c511551520f6"
      },
      "source": [
        "sqf.plot(sizes=df2['numero_dosi'], label=df2['fornitore'])\n",
        "plt.show()"
      ],
      "execution_count": 35,
      "outputs": [
        {
          "output_type": "display_data",
          "data": {
            "image/png": "[encoded data removed]",
            "text/plain": [
              "<Figure size 432x288 with 1 Axes>"
            ]
          },
          "metadata": {
            "needs_background": "light"
          }
        }
      ]
    },
    {
      "cell_type": "markdown",
      "metadata": {
        "id": "V-0rFtWUYKne"
      },
      "source": [
        "10. Visualizzare i nomi delle tre regioni in cui sono stati consegnati più vaccini"
      ]
    },
    {
      "cell_type": "code",
      "metadata": {
        "colab": {
          "base_uri": "https://localhost:8080/",
          "height": 143
        },
        "id": "tfPBJ_LAYM5y",
        "outputId": "01098d88-0a49-4c21-cded-3d4acf6d9c6a"
      },
      "source": [
        "df2 = df.groupby('nome_area', as_index=False).agg({'numero_dosi': 'sum'}).sort_values('numero_dosi', ascending=False)\n",
        "df2.head(3)"
      ],
      "execution_count": 36,
      "outputs": [
        {
          "output_type": "execute_result",
          "data": {
            "text/html": [
              "<div>\n",
              "<style scoped>\n",
              "    .dataframe tbody tr th:only-of-type {\n",
              "        vertical-align: middle;\n",
              "    }\n",
              "\n",
              "    .dataframe tbody tr th {\n",
              "        vertical-align: top;\n",
              "    }\n",
              "\n",
              "    .dataframe thead th {\n",
              "        text-align: right;\n",
              "    }\n",
              "</style>\n",
              "<table border=\"1\" class=\"dataframe\">\n",
              "  <thead>\n",
              "    <tr style=\"text-align: right;\">\n",
              "      <th></th>\n",
              "      <th>nome_area</th>\n",
              "      <th>numero_dosi</th>\n",
              "    </tr>\n",
              "  </thead>\n",
              "  <tbody>\n",
              "    <tr>\n",
              "      <th>8</th>\n",
              "      <td>Lombardia</td>\n",
              "      <td>17274689</td>\n",
              "    </tr>\n",
              "    <tr>\n",
              "      <th>6</th>\n",
              "      <td>Lazio</td>\n",
              "      <td>10332809</td>\n",
              "    </tr>\n",
              "    <tr>\n",
              "      <th>3</th>\n",
              "      <td>Campania</td>\n",
              "      <td>9179718</td>\n",
              "    </tr>\n",
              "  </tbody>\n",
              "</table>\n",
              "</div>"
            ],
            "text/plain": [
              "   nome_area  numero_dosi\n",
              "8  Lombardia     17274689\n",
              "6      Lazio     10332809\n",
              "3   Campania      9179718"
            ]
          },
          "metadata": {},
          "execution_count": 36
        }
      ]
    },
    {
      "cell_type": "markdown",
      "metadata": {
        "id": "76maTJaXYUMl"
      },
      "source": [
        "11. Visualizzare i nomi delle regioni in cui sono stati consegnati un numero di vaccini inferiore alla media"
      ]
    },
    {
      "cell_type": "code",
      "metadata": {
        "colab": {
          "base_uri": "https://localhost:8080/",
          "height": 426
        },
        "id": "XH4M_8NdYW-x",
        "outputId": "60cb8a6a-16f5-4fe8-d8be-92d0fa4e06b1"
      },
      "source": [
        "df2.loc[df2['numero_dosi'] < df2['numero_dosi'].mean(), [\"nome_area\"]]"
      ],
      "execution_count": 39,
      "outputs": [
        {
          "output_type": "execute_result",
          "data": {
            "text/html": [
              "<div>\n",
              "<style scoped>\n",
              "    .dataframe tbody tr th:only-of-type {\n",
              "        vertical-align: middle;\n",
              "    }\n",
              "\n",
              "    .dataframe tbody tr th {\n",
              "        vertical-align: top;\n",
              "    }\n",
              "\n",
              "    .dataframe thead th {\n",
              "        text-align: right;\n",
              "    }\n",
              "</style>\n",
              "<table border=\"1\" class=\"dataframe\">\n",
              "  <thead>\n",
              "    <tr style=\"text-align: right;\">\n",
              "      <th></th>\n",
              "      <th>nome_area</th>\n",
              "    </tr>\n",
              "  </thead>\n",
              "  <tbody>\n",
              "    <tr>\n",
              "      <th>2</th>\n",
              "      <td>Calabria</td>\n",
              "    </tr>\n",
              "    <tr>\n",
              "      <th>15</th>\n",
              "      <td>Sardegna</td>\n",
              "    </tr>\n",
              "    <tr>\n",
              "      <th>7</th>\n",
              "      <td>Liguria</td>\n",
              "    </tr>\n",
              "    <tr>\n",
              "      <th>9</th>\n",
              "      <td>Marche</td>\n",
              "    </tr>\n",
              "    <tr>\n",
              "      <th>0</th>\n",
              "      <td>Abruzzo</td>\n",
              "    </tr>\n",
              "    <tr>\n",
              "      <th>5</th>\n",
              "      <td>Friuli-Venezia Giulia</td>\n",
              "    </tr>\n",
              "    <tr>\n",
              "      <th>18</th>\n",
              "      <td>Umbria</td>\n",
              "    </tr>\n",
              "    <tr>\n",
              "      <th>1</th>\n",
              "      <td>Basilicata</td>\n",
              "    </tr>\n",
              "    <tr>\n",
              "      <th>13</th>\n",
              "      <td>Provincia Autonoma Trento</td>\n",
              "    </tr>\n",
              "    <tr>\n",
              "      <th>12</th>\n",
              "      <td>Provincia Autonoma Bolzano / Bozen</td>\n",
              "    </tr>\n",
              "    <tr>\n",
              "      <th>10</th>\n",
              "      <td>Molise</td>\n",
              "    </tr>\n",
              "    <tr>\n",
              "      <th>19</th>\n",
              "      <td>Valle d'Aosta / Vallée d'Aoste</td>\n",
              "    </tr>\n",
              "  </tbody>\n",
              "</table>\n",
              "</div>"
            ],
            "text/plain": [
              "                             nome_area\n",
              "2                             Calabria\n",
              "15                            Sardegna\n",
              "7                              Liguria\n",
              "9                               Marche\n",
              "0                              Abruzzo\n",
              "5                Friuli-Venezia Giulia\n",
              "18                              Umbria\n",
              "1                           Basilicata\n",
              "13           Provincia Autonoma Trento\n",
              "12  Provincia Autonoma Bolzano / Bozen\n",
              "10                              Molise\n",
              "19      Valle d'Aosta / Vallée d'Aoste"
            ]
          },
          "metadata": {},
          "execution_count": 39
        }
      ]
    },
    {
      "cell_type": "markdown",
      "metadata": {
        "id": "uMGhqkg-Ypdu"
      },
      "source": [
        "12. Visualizzare il grafico delle consegne dei vaccini in Lombardia e nel Lazio. Visualizzare solo i dati delle\n",
        "consegne avvenute negli utlimi sei mesi. Fare in modo che la data sia determinata in modo automatico"
      ]
    },
    {
      "cell_type": "code",
      "metadata": {
        "id": "uvO7yGsxYrpe"
      },
      "source": [
        ""
      ],
      "execution_count": null,
      "outputs": []
    }
  ]
}