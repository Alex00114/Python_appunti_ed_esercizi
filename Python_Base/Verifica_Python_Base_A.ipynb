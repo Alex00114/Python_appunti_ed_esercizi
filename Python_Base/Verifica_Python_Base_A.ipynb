{
  "nbformat": 4,
  "nbformat_minor": 0,
  "metadata": {
    "colab": {
      "name": "Verifica Python Base A.ipynb",
      "provenance": [],
      "collapsed_sections": []
    },
    "kernelspec": {
      "name": "python3",
      "display_name": "Python 3"
    },
    "language_info": {
      "name": "python"
    }
  },
  "cells": [
    {
      "cell_type": "markdown",
      "metadata": {
        "id": "bkOJjNRDpaDR"
      },
      "source": [
        "1. Scrivere un programma che data una data nella forma gg/mm/aaaa visualizzi separatamente il giorno, il mese e l'anno"
      ]
    },
    {
      "cell_type": "code",
      "metadata": {
        "colab": {
          "base_uri": "https://localhost:8080/"
        },
        "id": "EtpeaRpOpFX_",
        "outputId": "a2c3dc87-9398-4a67-c50d-722ca76e7f3e"
      },
      "source": [
        "data = \"20/10/2021\"\n",
        "print(data.split(\"/\"))"
      ],
      "execution_count": null,
      "outputs": [
        {
          "output_type": "stream",
          "name": "stdout",
          "text": [
            "['20', '10', '2021']\n"
          ]
        }
      ]
    },
    {
      "cell_type": "markdown",
      "metadata": {
        "id": "wiElh-tkqtdZ"
      },
      "source": [
        "2. Scrivere un programma che permetta di stabilire se un numero dispari è divisibile per 5. L'utente inserisce il numero e il programma, una volta controllato che sia dispari, controlla anche se è divisibile per 5."
      ]
    },
    {
      "cell_type": "code",
      "metadata": {
        "colab": {
          "base_uri": "https://localhost:8080/"
        },
        "id": "7TKGWTRxrhSS",
        "outputId": "2402cb41-8226-462c-94e3-8b3b94a9a1a8"
      },
      "source": [
        "numero = int(input(\"Inserire numero: \"))\n",
        "\n",
        "if numero%2==1:\n",
        "  if numero%5==0:\n",
        "    print(\"Numero valido\")\n",
        "  else:\n",
        "    print(\"Numero non valido\")\n",
        "else:\n",
        "  print(\"Numero non valido\")"
      ],
      "execution_count": null,
      "outputs": [
        {
          "output_type": "stream",
          "name": "stdout",
          "text": [
            "Inserire numero: 720\n",
            "Numero non valido\n"
          ]
        }
      ]
    },
    {
      "cell_type": "markdown",
      "metadata": {
        "id": "FxiGodF_uASy"
      },
      "source": [
        "3. Scrivere un programma per verificare se una parola comincia e finisce con la stessa lettera"
      ]
    },
    {
      "cell_type": "code",
      "metadata": {
        "colab": {
          "base_uri": "https://localhost:8080/"
        },
        "id": "Oaf8zhpquAb5",
        "outputId": "ef152f3b-29de-492c-979f-e0de5be58ace"
      },
      "source": [
        "parola = \"aiuola\"\n",
        "\n",
        "if parola[0] == parola[-1]:\n",
        "  print(\"parola valida\")\n",
        "else:\n",
        "  print(\"parola non valida\")"
      ],
      "execution_count": null,
      "outputs": [
        {
          "output_type": "stream",
          "name": "stdout",
          "text": [
            "parola valida\n"
          ]
        }
      ]
    },
    {
      "cell_type": "markdown",
      "metadata": {
        "id": "IDf5TgaWvU26"
      },
      "source": [
        "4. scrivere un programma che permetta di caricare una lista di parole e che elimini dalla lista tutte le parole che iniziano con una lettera inserita dall’utente"
      ]
    },
    {
      "cell_type": "code",
      "metadata": {
        "colab": {
          "base_uri": "https://localhost:8080/"
        },
        "id": "_9uXbYFsuvJ6",
        "outputId": "13cfc37a-9b1a-452c-9161-c2fbfc41935e"
      },
      "source": [
        "listaParole = [\"albero\", \"mucca\", \"lampo\", \"tastiera\", \"anatra\", \"alto\"]\n",
        "lettera = str(input(\"Inserire lettera: \"))\n",
        "lista = list(filter(lambda x: x[0]!= lettera, listaParole))\n",
        "\n",
        "print(lista)"
      ],
      "execution_count": null,
      "outputs": [
        {
          "output_type": "stream",
          "name": "stdout",
          "text": [
            "Inserire lettera: a\n",
            "['mucca', 'lampo', 'tastiera']\n"
          ]
        }
      ]
    },
    {
      "cell_type": "markdown",
      "metadata": {
        "id": "ceVBkrl7AVwH"
      },
      "source": [
        "5. Scrivere una funzione che data una parola restituisca la stessa parola senza le vocali"
      ]
    },
    {
      "cell_type": "code",
      "metadata": {
        "colab": {
          "base_uri": "https://localhost:8080/",
          "height": 35
        },
        "id": "rKEph7qEDS_H",
        "outputId": "dddfa04d-71ef-40c1-8478-541f9a1761da"
      },
      "source": [
        "def eliminaVocali(parola):\n",
        "  vocali = set(\"aeiou\")\n",
        "  for i in parola:\n",
        "    if i in vocali:\n",
        "      parola = parola.replace(i, \"\")\n",
        "  return parola\n",
        "\n",
        "parola = \"elicottero\"\n",
        "eliminaVocali(parola)"
      ],
      "execution_count": null,
      "outputs": [
        {
          "output_type": "execute_result",
          "data": {
            "application/vnd.google.colaboratory.intrinsic+json": {
              "type": "string"
            },
            "text/plain": [
              "'lcttr'"
            ]
          },
          "metadata": {},
          "execution_count": 17
        }
      ]
    },
    {
      "cell_type": "markdown",
      "metadata": {
        "id": "eLo6Mn7CDIW3"
      },
      "source": [
        "6. Scrivere un programma che utilizzando la funzione precedente elimini da una frase composta da più parole tutte le vocali"
      ]
    },
    {
      "cell_type": "code",
      "metadata": {
        "colab": {
          "base_uri": "https://localhost:8080/",
          "height": 35
        },
        "id": "E2iIdh9CDKW7",
        "outputId": "bd75377b-cbc4-4ed6-c1e5-22a9dfa59695"
      },
      "source": [
        "frase = \"oggi fa molto freddo\"\n",
        "\n",
        "eliminaVocali(frase)"
      ],
      "execution_count": null,
      "outputs": [
        {
          "output_type": "execute_result",
          "data": {
            "application/vnd.google.colaboratory.intrinsic+json": {
              "type": "string"
            },
            "text/plain": [
              "'gg f mlt frdd'"
            ]
          },
          "metadata": {},
          "execution_count": 19
        }
      ]
    },
    {
      "cell_type": "markdown",
      "metadata": {
        "id": "k9BTW3_cEaZe"
      },
      "source": [
        "7. Scrivere un programma che utilizzando una lambda function  sostituisca ad ogni elemento di una lista di parole la lunghezza delle parole stesse. Ad esempio se la lista fosse [‘mamma’, ‘stella’, ‘casa’] la lista finale dovrebbe essere [5, 5, 4]"
      ]
    },
    {
      "cell_type": "code",
      "metadata": {
        "id": "YKzla5E-Ep3D",
        "colab": {
          "base_uri": "https://localhost:8080/"
        },
        "outputId": "494ccdcf-d516-4e31-9c16-54d56329973f"
      },
      "source": [
        "listaParole = [\"albero\", \"mucca\", \"lampo\", \"tastiera\", \"anatra\", \"alto\"]\n",
        "lunghezza = list(map(lambda x: len(x), listaParole))\n",
        "\n",
        "print(lunghezza)"
      ],
      "execution_count": null,
      "outputs": [
        {
          "output_type": "stream",
          "name": "stdout",
          "text": [
            "[6, 5, 5, 8, 6, 4]\n"
          ]
        }
      ]
    },
    {
      "cell_type": "markdown",
      "metadata": {
        "id": "GoCuWsWIIv6E"
      },
      "source": [
        "8. Scrivere un programma che utilizzando una lambda function elimini da una lista di parole tutte quelle più corte di un valore inserito dall’utente.  Ad esempio se la lista fosse [‘tre’, ‘stella’, ‘casa’] e l’utente inserisse il valore 5, la lista finale dovrebbe essere [‘stella’]"
      ]
    },
    {
      "cell_type": "code",
      "metadata": {
        "colab": {
          "base_uri": "https://localhost:8080/"
        },
        "id": "1lQhrywoIzOA",
        "outputId": "8a3aa6f5-e22b-4fef-9f02-8adfa5f1abaf"
      },
      "source": [
        "listaParole = [\"tre\", \"stella\", \"casa\", \"tastiera\", \"anatra\", \"alto\"]\n",
        "valore = int(input(\"Inserire valore: \"))\n",
        "\n",
        "elimina = list(filter(lambda x: len(x)>=valore, listaParole ))\n",
        "print(elimina)"
      ],
      "execution_count": null,
      "outputs": [
        {
          "output_type": "stream",
          "name": "stdout",
          "text": [
            "Inserire valore: 5\n",
            "['stella', 'tastiera', 'anatra']\n"
          ]
        }
      ]
    },
    {
      "cell_type": "markdown",
      "metadata": {
        "id": "wroQ6PCgJz1D"
      },
      "source": [
        "9. MilanoSport propone corsi di nuoto e vuole memorizzare i nomi dei corsi e i cognomi delle persone che partecipano a quel corso. Caricare in una struttura dati apposita i nomi dei corsi (solo due nomi) e i cognomi dei partecipanti (solo due cognomi) e permettere di avere i cognomi dei partecipanti di un determinato corso inserito dall’utente. "
      ]
    },
    {
      "cell_type": "code",
      "metadata": {
        "colab": {
          "base_uri": "https://localhost:8080/"
        },
        "id": "QvB6U_-1J2yJ",
        "outputId": "5de5523a-4737-4b52-ca95-0af9d97bf19c"
      },
      "source": [
        "milanoSport = {\"corso principiante\" : \"Rossi\", \"corso dilettante\" : \"Bianchi\" }\n",
        "corso = str(input(\"Inserire corso: \"))\n",
        "\n",
        "print(milanoSport[corso])"
      ],
      "execution_count": null,
      "outputs": [
        {
          "output_type": "stream",
          "name": "stdout",
          "text": [
            "Inserire corso: corso principiante\n",
            "Rossi\n"
          ]
        }
      ]
    }
  ]
}