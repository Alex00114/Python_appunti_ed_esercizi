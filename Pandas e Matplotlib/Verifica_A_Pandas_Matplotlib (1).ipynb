{
  "nbformat": 4,
  "nbformat_minor": 0,
  "metadata": {
    "colab": {
      "name": "Verifica A Pandas/Matplotlib.ipynb",
      "provenance": [],
      "collapsed_sections": []
    },
    "kernelspec": {
      "name": "python3",
      "display_name": "Python 3"
    },
    "language_info": {
      "name": "python"
    }
  },
  "cells": [
    {
      "cell_type": "code",
      "metadata": {
        "id": "vwP1PdjPruy9"
      },
      "source": [
        "import pandas as pd\n",
        "import matplotlib.pyplot as plt\n",
        "import numpy as np"
      ],
      "execution_count": null,
      "outputs": []
    },
    {
      "cell_type": "code",
      "metadata": {
        "colab": {
          "base_uri": "https://localhost:8080/",
          "height": 424
        },
        "id": "NWolIt2jsWlo",
        "outputId": "4740d47c-0f58-4593-ee10-68a6eb7f3712"
      },
      "source": [
        "df = pd.read_csv(\"https://raw.githubusercontent.com/italia/covid19-opendata-vaccini/master/dati/platea.csv\")\n",
        "df"
      ],
      "execution_count": null,
      "outputs": [
        {
          "output_type": "execute_result",
          "data": {
            "text/html": [
              "<div>\n",
              "<style scoped>\n",
              "    .dataframe tbody tr th:only-of-type {\n",
              "        vertical-align: middle;\n",
              "    }\n",
              "\n",
              "    .dataframe tbody tr th {\n",
              "        vertical-align: top;\n",
              "    }\n",
              "\n",
              "    .dataframe thead th {\n",
              "        text-align: right;\n",
              "    }\n",
              "</style>\n",
              "<table border=\"1\" class=\"dataframe\">\n",
              "  <thead>\n",
              "    <tr style=\"text-align: right;\">\n",
              "      <th></th>\n",
              "      <th>area</th>\n",
              "      <th>nome_area</th>\n",
              "      <th>fascia_anagrafica</th>\n",
              "      <th>totale_popolazione</th>\n",
              "    </tr>\n",
              "  </thead>\n",
              "  <tbody>\n",
              "    <tr>\n",
              "      <th>0</th>\n",
              "      <td>ABR</td>\n",
              "      <td>Abruzzo</td>\n",
              "      <td>12-19</td>\n",
              "      <td>94727</td>\n",
              "    </tr>\n",
              "    <tr>\n",
              "      <th>1</th>\n",
              "      <td>ABR</td>\n",
              "      <td>Abruzzo</td>\n",
              "      <td>20-29</td>\n",
              "      <td>125230</td>\n",
              "    </tr>\n",
              "    <tr>\n",
              "      <th>2</th>\n",
              "      <td>ABR</td>\n",
              "      <td>Abruzzo</td>\n",
              "      <td>30-39</td>\n",
              "      <td>146965</td>\n",
              "    </tr>\n",
              "    <tr>\n",
              "      <th>3</th>\n",
              "      <td>ABR</td>\n",
              "      <td>Abruzzo</td>\n",
              "      <td>40-49</td>\n",
              "      <td>187162</td>\n",
              "    </tr>\n",
              "    <tr>\n",
              "      <th>4</th>\n",
              "      <td>ABR</td>\n",
              "      <td>Abruzzo</td>\n",
              "      <td>50-59</td>\n",
              "      <td>208686</td>\n",
              "    </tr>\n",
              "    <tr>\n",
              "      <th>...</th>\n",
              "      <td>...</td>\n",
              "      <td>...</td>\n",
              "      <td>...</td>\n",
              "      <td>...</td>\n",
              "    </tr>\n",
              "    <tr>\n",
              "      <th>163</th>\n",
              "      <td>VEN</td>\n",
              "      <td>Veneto</td>\n",
              "      <td>40-49</td>\n",
              "      <td>715790</td>\n",
              "    </tr>\n",
              "    <tr>\n",
              "      <th>164</th>\n",
              "      <td>VEN</td>\n",
              "      <td>Veneto</td>\n",
              "      <td>50-59</td>\n",
              "      <td>806474</td>\n",
              "    </tr>\n",
              "    <tr>\n",
              "      <th>165</th>\n",
              "      <td>VEN</td>\n",
              "      <td>Veneto</td>\n",
              "      <td>60-69</td>\n",
              "      <td>610635</td>\n",
              "    </tr>\n",
              "    <tr>\n",
              "      <th>166</th>\n",
              "      <td>VEN</td>\n",
              "      <td>Veneto</td>\n",
              "      <td>70-79</td>\n",
              "      <td>494721</td>\n",
              "    </tr>\n",
              "    <tr>\n",
              "      <th>167</th>\n",
              "      <td>VEN</td>\n",
              "      <td>Veneto</td>\n",
              "      <td>80+</td>\n",
              "      <td>370529</td>\n",
              "    </tr>\n",
              "  </tbody>\n",
              "</table>\n",
              "<p>168 rows × 4 columns</p>\n",
              "</div>"
            ],
            "text/plain": [
              "    area nome_area fascia_anagrafica  totale_popolazione\n",
              "0    ABR   Abruzzo             12-19               94727\n",
              "1    ABR   Abruzzo             20-29              125230\n",
              "2    ABR   Abruzzo             30-39              146965\n",
              "3    ABR   Abruzzo             40-49              187162\n",
              "4    ABR   Abruzzo             50-59              208686\n",
              "..   ...       ...               ...                 ...\n",
              "163  VEN    Veneto             40-49              715790\n",
              "164  VEN    Veneto             50-59              806474\n",
              "165  VEN    Veneto             60-69              610635\n",
              "166  VEN    Veneto             70-79              494721\n",
              "167  VEN    Veneto               80+              370529\n",
              "\n",
              "[168 rows x 4 columns]"
            ]
          },
          "metadata": {},
          "execution_count": 24
        }
      ]
    },
    {
      "cell_type": "markdown",
      "metadata": {
        "id": "eo_jUKaasmNO"
      },
      "source": [
        "1. Visualizzare la popolazione complessiva di tutte le regioni"
      ]
    },
    {
      "cell_type": "code",
      "metadata": {
        "colab": {
          "base_uri": "https://localhost:8080/"
        },
        "id": "IZGKB15zsmw-",
        "outputId": "f8dec23d-9827-49a5-8ac5-6fa26b12aa88"
      },
      "source": [
        "df[\"totale_popolazione\"].sum()"
      ],
      "execution_count": null,
      "outputs": [
        {
          "output_type": "execute_result",
          "data": {
            "text/plain": [
              "54009944"
            ]
          },
          "metadata": {},
          "execution_count": 25
        }
      ]
    },
    {
      "cell_type": "markdown",
      "metadata": {
        "id": "jhu6DwujtE6H"
      },
      "source": [
        "2. Visualizzare la popolazione di una regione inserita dall’utente. Controllare il dato inserito: se la regione\n",
        "non esiste dare un opportuno messaggio, altrimenti dare il messaggio “La regione &lt;nome&gt; ha &lt;totale&gt;\n",
        "abitanti”"
      ]
    },
    {
      "cell_type": "code",
      "metadata": {
        "colab": {
          "base_uri": "https://localhost:8080/"
        },
        "id": "mf3hijO5tHEI",
        "outputId": "d703a62a-f5ff-47e7-f678-7715be03040e"
      },
      "source": [
        "regione = str(input(\"Inserisci regione: \"))\n",
        "popolazione = df[df[\"nome_area\"] == regione].totale_popolazione.sum()\n",
        "if popolazione > 0:\n",
        "  print(\"La regione\", regione, \"ha\", popolazione, \"abitanti\")\n",
        "else:\n",
        "  print(\"La regione non esiste\")"
      ],
      "execution_count": null,
      "outputs": [
        {
          "output_type": "stream",
          "name": "stdout",
          "text": [
            "Inserisci regione: l\n",
            "La regione non esiste\n"
          ]
        }
      ]
    },
    {
      "cell_type": "markdown",
      "metadata": {
        "id": "yybqFXXctyWW"
      },
      "source": [
        "3. Visualizzare la popolazione di ogni regione. Visualizzare il nome della regione e il numero di abitanti.\n",
        "Ordinare in ordine decrescente sul numero di abitanti (dalla regione che ha più abitanti a quella che ne\n",
        "ha di meno)"
      ]
    },
    {
      "cell_type": "code",
      "metadata": {
        "colab": {
          "base_uri": "https://localhost:8080/",
          "height": 739
        },
        "id": "FF75rDY8t3WO",
        "outputId": "8de3c44b-3379-4dec-dec5-82992588b883"
      },
      "source": [
        "df1 = df.groupby(\"nome_area\")[[\"totale_popolazione\"]].sum().sort_values(by = \"totale_popolazione\", ascending = False)\n",
        "df1"
      ],
      "execution_count": null,
      "outputs": [
        {
          "output_type": "execute_result",
          "data": {
            "text/html": [
              "<div>\n",
              "<style scoped>\n",
              "    .dataframe tbody tr th:only-of-type {\n",
              "        vertical-align: middle;\n",
              "    }\n",
              "\n",
              "    .dataframe tbody tr th {\n",
              "        vertical-align: top;\n",
              "    }\n",
              "\n",
              "    .dataframe thead th {\n",
              "        text-align: right;\n",
              "    }\n",
              "</style>\n",
              "<table border=\"1\" class=\"dataframe\">\n",
              "  <thead>\n",
              "    <tr style=\"text-align: right;\">\n",
              "      <th></th>\n",
              "      <th>totale_popolazione</th>\n",
              "    </tr>\n",
              "    <tr>\n",
              "      <th>nome_area</th>\n",
              "      <th></th>\n",
              "    </tr>\n",
              "  </thead>\n",
              "  <tbody>\n",
              "    <tr>\n",
              "      <th>Lombardia</th>\n",
              "      <td>9246804</td>\n",
              "    </tr>\n",
              "    <tr>\n",
              "      <th>Lazio</th>\n",
              "      <td>5147533</td>\n",
              "    </tr>\n",
              "    <tr>\n",
              "      <th>Campania</th>\n",
              "      <td>5104347</td>\n",
              "    </tr>\n",
              "    <tr>\n",
              "      <th>Sicilia</th>\n",
              "      <td>4435335</td>\n",
              "    </tr>\n",
              "    <tr>\n",
              "      <th>Veneto</th>\n",
              "      <td>4383999</td>\n",
              "    </tr>\n",
              "    <tr>\n",
              "      <th>Emilia-Romagna</th>\n",
              "      <td>3998406</td>\n",
              "    </tr>\n",
              "    <tr>\n",
              "      <th>Piemonte</th>\n",
              "      <td>3927641</td>\n",
              "    </tr>\n",
              "    <tr>\n",
              "      <th>Puglia</th>\n",
              "      <td>3572053</td>\n",
              "    </tr>\n",
              "    <tr>\n",
              "      <th>Toscana</th>\n",
              "      <td>3360763</td>\n",
              "    </tr>\n",
              "    <tr>\n",
              "      <th>Calabria</th>\n",
              "      <td>1689716</td>\n",
              "    </tr>\n",
              "    <tr>\n",
              "      <th>Sardegna</th>\n",
              "      <td>1484800</td>\n",
              "    </tr>\n",
              "    <tr>\n",
              "      <th>Liguria</th>\n",
              "      <td>1399466</td>\n",
              "    </tr>\n",
              "    <tr>\n",
              "      <th>Marche</th>\n",
              "      <td>1366477</td>\n",
              "    </tr>\n",
              "    <tr>\n",
              "      <th>Abruzzo</th>\n",
              "      <td>1188922</td>\n",
              "    </tr>\n",
              "    <tr>\n",
              "      <th>Friuli-Venezia Giulia</th>\n",
              "      <td>1088152</td>\n",
              "    </tr>\n",
              "    <tr>\n",
              "      <th>Umbria</th>\n",
              "      <td>790414</td>\n",
              "    </tr>\n",
              "    <tr>\n",
              "      <th>Basilicata</th>\n",
              "      <td>494881</td>\n",
              "    </tr>\n",
              "    <tr>\n",
              "      <th>P.A. Trento</th>\n",
              "      <td>481355</td>\n",
              "    </tr>\n",
              "    <tr>\n",
              "      <th>P.A. Bolzano</th>\n",
              "      <td>465181</td>\n",
              "    </tr>\n",
              "    <tr>\n",
              "      <th>Molise</th>\n",
              "      <td>273317</td>\n",
              "    </tr>\n",
              "    <tr>\n",
              "      <th>Valle d'Aosta</th>\n",
              "      <td>110382</td>\n",
              "    </tr>\n",
              "  </tbody>\n",
              "</table>\n",
              "</div>"
            ],
            "text/plain": [
              "                       totale_popolazione\n",
              "nome_area                                \n",
              "Lombardia                         9246804\n",
              "Lazio                             5147533\n",
              "Campania                          5104347\n",
              "Sicilia                           4435335\n",
              "Veneto                            4383999\n",
              "Emilia-Romagna                    3998406\n",
              "Piemonte                          3927641\n",
              "Puglia                            3572053\n",
              "Toscana                           3360763\n",
              "Calabria                          1689716\n",
              "Sardegna                          1484800\n",
              "Liguria                           1399466\n",
              "Marche                            1366477\n",
              "Abruzzo                           1188922\n",
              "Friuli-Venezia Giulia             1088152\n",
              "Umbria                             790414\n",
              "Basilicata                         494881\n",
              "P.A. Trento                        481355\n",
              "P.A. Bolzano                       465181\n",
              "Molise                             273317\n",
              "Valle d'Aosta                      110382"
            ]
          },
          "metadata": {},
          "execution_count": 27
        }
      ]
    },
    {
      "cell_type": "markdown",
      "metadata": {
        "id": "YaJDpCEEvbPY"
      },
      "source": [
        "4. Visualizzare il grafico a barre orizzontali relativo all’esercizio 3. Inserire il titolo, i nomi degli assi e la\n",
        "legenda. Fare in modo che i colori delle barre siano gradazioni dello stesso colore."
      ]
    },
    {
      "cell_type": "code",
      "metadata": {
        "colab": {
          "base_uri": "https://localhost:8080/",
          "height": 625
        },
        "id": "vH0ULNZJvdf2",
        "outputId": "eec9c3ce-89db-4f4f-d2d9-fb0634eb61b2"
      },
      "source": [
        "fig = plt.figure(figsize=(10,9))\n",
        "ax = plt.axes()\n",
        "fig.suptitle(\"Grafico a barre orizzontali\", color = \"r\", fontsize = 30)\n",
        "ax.barh(df1.index, df1[\"totale_popolazione\"], color = \"c\")\n",
        "ax.set_xlabel(\"Popolazione\", fontsize = 20)\n",
        "ax.set_ylabel(\"Regioni\", fontsize = 20)\n",
        "\n",
        "plt.show()"
      ],
      "execution_count": null,
      "outputs": [
        {
          "output_type": "display_data",
          "data": {
            "image/png": "[encoded data removed]",
            "text/plain": [
              "<Figure size 720x648 with 1 Axes>"
            ]
          },
          "metadata": {
            "needs_background": "light"
          }
        }
      ]
    },
    {
      "cell_type": "markdown",
      "metadata": {
        "id": "q5xYPhnYzV1Z"
      },
      "source": [
        "5. Eliminare la colonna ‘area’"
      ]
    },
    {
      "cell_type": "code",
      "metadata": {
        "colab": {
          "base_uri": "https://localhost:8080/",
          "height": 424
        },
        "id": "sqNmvk20zYo4",
        "outputId": "cf2066d8-3d81-40ec-8039-9e9d908c90dc"
      },
      "source": [
        "df.drop(columns = \"area\", inplace = True)\n",
        "df"
      ],
      "execution_count": null,
      "outputs": [
        {
          "output_type": "execute_result",
          "data": {
            "text/html": [
              "<div>\n",
              "<style scoped>\n",
              "    .dataframe tbody tr th:only-of-type {\n",
              "        vertical-align: middle;\n",
              "    }\n",
              "\n",
              "    .dataframe tbody tr th {\n",
              "        vertical-align: top;\n",
              "    }\n",
              "\n",
              "    .dataframe thead th {\n",
              "        text-align: right;\n",
              "    }\n",
              "</style>\n",
              "<table border=\"1\" class=\"dataframe\">\n",
              "  <thead>\n",
              "    <tr style=\"text-align: right;\">\n",
              "      <th></th>\n",
              "      <th>nome_area</th>\n",
              "      <th>fascia_anagrafica</th>\n",
              "      <th>totale_popolazione</th>\n",
              "    </tr>\n",
              "  </thead>\n",
              "  <tbody>\n",
              "    <tr>\n",
              "      <th>0</th>\n",
              "      <td>Abruzzo</td>\n",
              "      <td>12-19</td>\n",
              "      <td>94727</td>\n",
              "    </tr>\n",
              "    <tr>\n",
              "      <th>1</th>\n",
              "      <td>Abruzzo</td>\n",
              "      <td>20-29</td>\n",
              "      <td>125230</td>\n",
              "    </tr>\n",
              "    <tr>\n",
              "      <th>2</th>\n",
              "      <td>Abruzzo</td>\n",
              "      <td>30-39</td>\n",
              "      <td>146965</td>\n",
              "    </tr>\n",
              "    <tr>\n",
              "      <th>3</th>\n",
              "      <td>Abruzzo</td>\n",
              "      <td>40-49</td>\n",
              "      <td>187162</td>\n",
              "    </tr>\n",
              "    <tr>\n",
              "      <th>4</th>\n",
              "      <td>Abruzzo</td>\n",
              "      <td>50-59</td>\n",
              "      <td>208686</td>\n",
              "    </tr>\n",
              "    <tr>\n",
              "      <th>...</th>\n",
              "      <td>...</td>\n",
              "      <td>...</td>\n",
              "      <td>...</td>\n",
              "    </tr>\n",
              "    <tr>\n",
              "      <th>163</th>\n",
              "      <td>Veneto</td>\n",
              "      <td>40-49</td>\n",
              "      <td>715790</td>\n",
              "    </tr>\n",
              "    <tr>\n",
              "      <th>164</th>\n",
              "      <td>Veneto</td>\n",
              "      <td>50-59</td>\n",
              "      <td>806474</td>\n",
              "    </tr>\n",
              "    <tr>\n",
              "      <th>165</th>\n",
              "      <td>Veneto</td>\n",
              "      <td>60-69</td>\n",
              "      <td>610635</td>\n",
              "    </tr>\n",
              "    <tr>\n",
              "      <th>166</th>\n",
              "      <td>Veneto</td>\n",
              "      <td>70-79</td>\n",
              "      <td>494721</td>\n",
              "    </tr>\n",
              "    <tr>\n",
              "      <th>167</th>\n",
              "      <td>Veneto</td>\n",
              "      <td>80+</td>\n",
              "      <td>370529</td>\n",
              "    </tr>\n",
              "  </tbody>\n",
              "</table>\n",
              "<p>168 rows × 3 columns</p>\n",
              "</div>"
            ],
            "text/plain": [
              "    nome_area fascia_anagrafica  totale_popolazione\n",
              "0     Abruzzo             12-19               94727\n",
              "1     Abruzzo             20-29              125230\n",
              "2     Abruzzo             30-39              146965\n",
              "3     Abruzzo             40-49              187162\n",
              "4     Abruzzo             50-59              208686\n",
              "..        ...               ...                 ...\n",
              "163    Veneto             40-49              715790\n",
              "164    Veneto             50-59              806474\n",
              "165    Veneto             60-69              610635\n",
              "166    Veneto             70-79              494721\n",
              "167    Veneto               80+              370529\n",
              "\n",
              "[168 rows x 3 columns]"
            ]
          },
          "metadata": {},
          "execution_count": 29
        }
      ]
    },
    {
      "cell_type": "markdown",
      "metadata": {
        "id": "eQ0RIbOmz10Q"
      },
      "source": [
        "6. Visualizzare le fasce anagrafiche che hanno un numero di persone compreso tra 5 e 7 milioni"
      ]
    },
    {
      "cell_type": "code",
      "metadata": {
        "colab": {
          "base_uri": "https://localhost:8080/",
          "height": 143
        },
        "id": "_fMUJmKOz5YB",
        "outputId": "4012be76-00dd-4035-d90b-c099e897f013"
      },
      "source": [
        "df2 = df.groupby(\"fascia_anagrafica\", as_index = False)[\"totale_popolazione\"].sum()\n",
        "df3 = df2.loc[(df2[\"totale_popolazione\"] > 5000000) & (df2[\"totale_popolazione\"] < 7000000), [\"fascia_anagrafica\", \"totale_popolazione\"]]\n",
        "df3"
      ],
      "execution_count": null,
      "outputs": [
        {
          "output_type": "execute_result",
          "data": {
            "text/html": [
              "<div>\n",
              "<style scoped>\n",
              "    .dataframe tbody tr th:only-of-type {\n",
              "        vertical-align: middle;\n",
              "    }\n",
              "\n",
              "    .dataframe tbody tr th {\n",
              "        vertical-align: top;\n",
              "    }\n",
              "\n",
              "    .dataframe thead th {\n",
              "        text-align: right;\n",
              "    }\n",
              "</style>\n",
              "<table border=\"1\" class=\"dataframe\">\n",
              "  <thead>\n",
              "    <tr style=\"text-align: right;\">\n",
              "      <th></th>\n",
              "      <th>fascia_anagrafica</th>\n",
              "      <th>totale_popolazione</th>\n",
              "    </tr>\n",
              "  </thead>\n",
              "  <tbody>\n",
              "    <tr>\n",
              "      <th>1</th>\n",
              "      <td>20-29</td>\n",
              "      <td>6013709</td>\n",
              "    </tr>\n",
              "    <tr>\n",
              "      <th>2</th>\n",
              "      <td>30-39</td>\n",
              "      <td>6794332</td>\n",
              "    </tr>\n",
              "    <tr>\n",
              "      <th>6</th>\n",
              "      <td>70-79</td>\n",
              "      <td>6019293</td>\n",
              "    </tr>\n",
              "  </tbody>\n",
              "</table>\n",
              "</div>"
            ],
            "text/plain": [
              "  fascia_anagrafica  totale_popolazione\n",
              "1             20-29             6013709\n",
              "2             30-39             6794332\n",
              "6             70-79             6019293"
            ]
          },
          "metadata": {},
          "execution_count": 30
        }
      ]
    },
    {
      "cell_type": "markdown",
      "metadata": {
        "id": "sKY8jR_W2rcb"
      },
      "source": [
        "7. Visualizzare il grafico a torta dei dati dell’esercizio 6. Visualizzare negli spicchi sia il numero assoluto\n",
        "degli abitanti (ad esempio 4345767) sia la percentuale"
      ]
    },
    {
      "cell_type": "code",
      "metadata": {
        "colab": {
          "base_uri": "https://localhost:8080/",
          "height": 411
        },
        "id": "l60_2vd72AAb",
        "outputId": "c45d710e-0fc0-426d-e666-1dbd9590b8b9"
      },
      "source": [
        "fig = plt.figure(figsize = (7,7))\n",
        "ax = plt.axes()\n",
        "ax.pie(df3[\"totale_popolazione\"], labels = df3[\"fascia_anagrafica\"], colors = [\"c\",\"r\",\"gold\"], autopct=\"%1.2f%%\")\n",
        "plt.show()"
      ],
      "execution_count": null,
      "outputs": [
        {
          "output_type": "display_data",
          "data": {
            "image/png": "[encoded data removed]",
            "text/plain": [
              "<Figure size 504x504 with 1 Axes>"
            ]
          },
          "metadata": {}
        }
      ]
    },
    {
      "cell_type": "markdown",
      "metadata": {
        "id": "1tTFQZVT3j_i"
      },
      "source": [
        "8. Visualizzare un nuovo grafico con i grafici precedenti. Il nuovo grafico deve avere due colonne e tre\n",
        "righe e deve contenere nella prima colonna tre volte il grafico a barre e nelle seconda colonna tre volte\n",
        "il grafico a torta"
      ]
    },
    {
      "cell_type": "code",
      "metadata": {
        "id": "WrqnVlWz3lz2",
        "colab": {
          "base_uri": "https://localhost:8080/",
          "height": 605
        },
        "outputId": "b891f4e0-f964-46d8-a80d-c5eb5c93b223"
      },
      "source": [
        "plt.figure(figsize=(10, 10))\n",
        "\n",
        "a1=plt.subplot(3, 2, 1)\n",
        "a1.barh(df1.index,df1['totale_popolazione'],color='b')\n",
        "\n",
        "a2=plt.subplot(3, 2, 2)\n",
        "a2.pie(df3['totale_popolazione'],labels= df3['fascia_anagrafica'])\n",
        "\n",
        "\n",
        "a3=plt.subplot(3, 2, 3)\n",
        "a3.barh(df1.index,df1['totale_popolazione'],color='b')\n",
        "\n",
        "a4=plt.subplot(3, 2, 4)\n",
        "a4.pie(df3['totale_popolazione'],labels= df3['fascia_anagrafica'])\n",
        "\n",
        "a5=plt.subplot(3, 2, 5)\n",
        "a5.barh(df1.index,df1['totale_popolazione'],color='b')\n",
        "\n",
        "a6=plt.subplot(3, 2, 6)\n",
        "a6.pie(df3['totale_popolazione'],labels= df3['fascia_anagrafica'])\n",
        "\n",
        "plt.show()"
      ],
      "execution_count": null,
      "outputs": [
        {
          "output_type": "display_data",
          "data": {
            "image/png": "[encoded data removed]",
            "text/plain": [
              "<Figure size 720x720 with 6 Axes>"
            ]
          },
          "metadata": {
            "needs_background": "light"
          }
        }
      ]
    },
    {
      "cell_type": "markdown",
      "metadata": {
        "id": "Sl3F_mj1QppP"
      },
      "source": [
        "9. Salvare il grafico in un file .png"
      ]
    },
    {
      "cell_type": "code",
      "metadata": {
        "id": "tMkBgPl9Qr7F",
        "colab": {
          "base_uri": "https://localhost:8080/",
          "height": 34
        },
        "outputId": "f0541c6b-a8f8-429e-9eed-baf5b564a21c"
      },
      "source": [
        "plt.savefig(\"grafico.png\")"
      ],
      "execution_count": null,
      "outputs": [
        {
          "output_type": "display_data",
          "data": {
            "text/plain": [
              "<Figure size 432x288 with 0 Axes>"
            ]
          },
          "metadata": {}
        }
      ]
    }
  ]
}