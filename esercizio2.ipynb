{
  "nbformat": 4,
  "nbformat_minor": 0,
  "metadata": {
    "colab": {
      "name": "esercizio2.ipynb",
      "provenance": [],
      "collapsed_sections": []
    },
    "kernelspec": {
      "name": "python3",
      "display_name": "Python 3"
    },
    "language_info": {
      "name": "python"
    }
  },
  "cells": [
    {
      "cell_type": "markdown",
      "metadata": {
        "id": "OEiMt4ehA9rI"
      },
      "source": [
        "Scrivere un programma che crei una lista contenente i nomi dei capoluoghi delle regioni italiane e\n",
        "che visualizzi la lista. Chiamare la lista capoluoghiRegione"
      ]
    },
    {
      "cell_type": "code",
      "metadata": {
        "colab": {
          "base_uri": "https://localhost:8080/"
        },
        "id": "aIiwCD53A4NJ",
        "outputId": "0e210036-410e-4702-b25a-909e7c8078c5"
      },
      "source": [
        "capoluoghiRegione = [\"L'Acquila\", \"Potenza\", \"Catanzaro\", \"Napoli\", \"Bologna\", \"Trieste\", \"Roma\", \"Genova\", \"Milano\", \"Ancona\", \"Campobasso\", \"Torino\", \"Bari\", \"Cagliari\", \"Palermo\", \"Firenze\", \"Trento\", \"Perugia\", \"Aosta\", \"Venezia\"]\n",
        "print(capoluoghiRegione)"
      ],
      "execution_count": 80,
      "outputs": [
        {
          "output_type": "stream",
          "name": "stdout",
          "text": [
            "[\"L'Acquila\", 'Potenza', 'Catanzaro', 'Napoli', 'Bologna', 'Trieste', 'Roma', 'Genova', 'Milano', 'Ancona', 'Campobasso', 'Torino', 'Bari', 'Cagliari', 'Palermo', 'Firenze', 'Trento', 'Perugia', 'Aosta', 'Venezia']\n"
          ]
        }
      ]
    },
    {
      "cell_type": "markdown",
      "metadata": {
        "id": "OTL3RBPjFA6Y"
      },
      "source": [
        "Scrivere un programma che visualizzi i primi 6 capoluoghi di regione presenti in\n",
        "capoluoghiRegione"
      ]
    },
    {
      "cell_type": "code",
      "metadata": {
        "colab": {
          "base_uri": "https://localhost:8080/"
        },
        "id": "GRAWWVhpFDX8",
        "outputId": "24d76196-04d5-40d5-bdcd-3f0a91723d27"
      },
      "source": [
        "print(capoluoghiRegione[:6])"
      ],
      "execution_count": 6,
      "outputs": [
        {
          "output_type": "stream",
          "name": "stdout",
          "text": [
            "[\"L'Acquila\", 'Potenza', 'Catanzaro', 'Napoli', 'Bologna', 'Trieste']\n"
          ]
        }
      ]
    },
    {
      "cell_type": "markdown",
      "metadata": {
        "id": "5P-GjmjhFLiB"
      },
      "source": [
        "Scrivere un programma che visualizzi gli ultimi 6 capoluoghi di regione presenti in\n",
        "capoluoghiRegione"
      ]
    },
    {
      "cell_type": "code",
      "metadata": {
        "colab": {
          "base_uri": "https://localhost:8080/"
        },
        "id": "IKT6ygbyFNRm",
        "outputId": "d5d8accb-3164-4214-9ba0-2f50c6dd0990"
      },
      "source": [
        "print(capoluoghiRegione[-6:])"
      ],
      "execution_count": 5,
      "outputs": [
        {
          "output_type": "stream",
          "name": "stdout",
          "text": [
            "['Palermo', 'Firenze', 'Trento', 'Perugia', 'Aosta', 'Venezia']\n"
          ]
        }
      ]
    },
    {
      "cell_type": "markdown",
      "metadata": {
        "id": "EGeXXABGFaCV"
      },
      "source": [
        "Scrivere un programma che visualizzi i 6 capoluoghi di regione presenti nella parte centrale di\n",
        "capoluoghiRegione"
      ]
    },
    {
      "cell_type": "code",
      "metadata": {
        "colab": {
          "base_uri": "https://localhost:8080/"
        },
        "id": "H3C1Q_ylFcmQ",
        "outputId": "3d026277-b1b7-4b02-fd58-166173629456"
      },
      "source": [
        "print(capoluoghiRegione[7:13])"
      ],
      "execution_count": 7,
      "outputs": [
        {
          "output_type": "stream",
          "name": "stdout",
          "text": [
            "['Genova', 'Milano', 'Ancona', 'Campobasso', 'Torino', 'Bari']\n"
          ]
        }
      ]
    },
    {
      "cell_type": "markdown",
      "metadata": {
        "id": "rZDrsxvuFtwP"
      },
      "source": [
        "Scrivere un programma che visualizzi i capoluoghi di regione presenti in capoluoghiRegione\n",
        "nelle posizioni pari."
      ]
    },
    {
      "cell_type": "code",
      "metadata": {
        "colab": {
          "base_uri": "https://localhost:8080/"
        },
        "id": "fGwEHjX7FwXN",
        "outputId": "551398fd-9fae-40a9-9557-390fe7d170d4"
      },
      "source": [
        "for j in [0, 2, 4, 6, 8, 10, 12, 14, 16, 18]:\n",
        "  print(capoluoghiRegione[j])"
      ],
      "execution_count": 40,
      "outputs": [
        {
          "output_type": "stream",
          "name": "stdout",
          "text": [
            "L'Acquila\n",
            "Catanzaro\n",
            "Bologna\n",
            "Roma\n",
            "Milano\n",
            "Campobasso\n",
            "Bari\n",
            "Palermo\n",
            "Trento\n",
            "Aosta\n"
          ]
        }
      ]
    },
    {
      "cell_type": "markdown",
      "metadata": {
        "id": "PQWaEUPCJm0N"
      },
      "source": [
        "Scrivere un programma che visualizzi i capoluoghi di regione presenti in capoluoghiRegione\n",
        "nelle posizioni dispari."
      ]
    },
    {
      "cell_type": "code",
      "metadata": {
        "colab": {
          "base_uri": "https://localhost:8080/"
        },
        "id": "_X_5FOBjJnN-",
        "outputId": "ec3b0dd7-2127-4f13-bb52-767195a7d4bc"
      },
      "source": [
        "for j in [1, 3, 5, 7, 9, 11, 13, 15, 17, 19]:\n",
        "  print(capoluoghiRegione[j])"
      ],
      "execution_count": 41,
      "outputs": [
        {
          "output_type": "stream",
          "name": "stdout",
          "text": [
            "Potenza\n",
            "Napoli\n",
            "Trieste\n",
            "Genova\n",
            "Ancona\n",
            "Torino\n",
            "Cagliari\n",
            "Firenze\n",
            "Perugia\n",
            "Venezia\n"
          ]
        }
      ]
    },
    {
      "cell_type": "markdown",
      "metadata": {
        "id": "eMMJigz4J00a"
      },
      "source": [
        "Scrivere un programma che visualizzi il primo capoluogo di regione in ordine alfabetico"
      ]
    },
    {
      "cell_type": "code",
      "metadata": {
        "colab": {
          "base_uri": "https://localhost:8080/"
        },
        "id": "vs7-_QDJJ0fg",
        "outputId": "26b15fec-8f73-426a-f603-1775545bb95c"
      },
      "source": [
        "print(sorted(capoluoghiRegione)[0])"
      ],
      "execution_count": 67,
      "outputs": [
        {
          "output_type": "stream",
          "name": "stdout",
          "text": [
            "Ancona\n"
          ]
        }
      ]
    },
    {
      "cell_type": "markdown",
      "metadata": {
        "id": "DbHtVkHjLcmw"
      },
      "source": [
        "Scrivere un programma che visualizzi i capoluoghi in ordine alfabetico"
      ]
    },
    {
      "cell_type": "code",
      "metadata": {
        "colab": {
          "base_uri": "https://localhost:8080/"
        },
        "id": "cwtsCNm7LgKX",
        "outputId": "68dd7ae8-35de-4558-cdf0-bef96c8fccfc"
      },
      "source": [
        "print(sorted(capoluoghiRegione))"
      ],
      "execution_count": 68,
      "outputs": [
        {
          "output_type": "stream",
          "name": "stdout",
          "text": [
            "['Ancona', 'Aosta', 'Bari', 'Bologna', 'Cagliari', 'Campobasso', 'Catanzaro', 'Firenze', 'Genova', \"L'Acquila\", 'Milano', 'Napoli', 'Palermo', 'Perugia', 'Potenza', 'Roma', 'Torino', 'Trento', 'Trieste', 'Venezia']\n"
          ]
        }
      ]
    },
    {
      "cell_type": "markdown",
      "metadata": {
        "id": "OGpI-bZULruv"
      },
      "source": [
        "Scrivere un programma che visualizzi i capoluoghi in ordine alfabetico inverso (dalla Z alla A)"
      ]
    },
    {
      "cell_type": "code",
      "metadata": {
        "colab": {
          "base_uri": "https://localhost:8080/"
        },
        "id": "B4zvDznNLul9",
        "outputId": "531f5a3e-04a0-4398-e9df-b564556f530c"
      },
      "source": [
        "print(sorted(capoluoghiRegione, reverse = True))"
      ],
      "execution_count": 70,
      "outputs": [
        {
          "output_type": "stream",
          "name": "stdout",
          "text": [
            "['Venezia', 'Trieste', 'Trento', 'Torino', 'Roma', 'Potenza', 'Perugia', 'Palermo', 'Napoli', 'Milano', \"L'Acquila\", 'Genova', 'Firenze', 'Catanzaro', 'Campobasso', 'Cagliari', 'Bologna', 'Bari', 'Aosta', 'Ancona']\n"
          ]
        }
      ]
    },
    {
      "cell_type": "markdown",
      "metadata": {
        "id": "neQpVSsyMY4_"
      },
      "source": [
        "Scrivere un programma che visualizzi i capoluoghi in ordine sulla base della lunghezza del nome (da\n",
        "quello più corto a quello più lungo)"
      ]
    },
    {
      "cell_type": "code",
      "metadata": {
        "colab": {
          "base_uri": "https://localhost:8080/"
        },
        "id": "IBdcxaIOMbZO",
        "outputId": "5c573a21-85bb-4a91-c80a-1cd9e268b335"
      },
      "source": [
        "print(sorted(capoluoghiRegione, key = len))"
      ],
      "execution_count": 72,
      "outputs": [
        {
          "output_type": "stream",
          "name": "stdout",
          "text": [
            "['Roma', 'Bari', 'Aosta', 'Napoli', 'Genova', 'Milano', 'Ancona', 'Torino', 'Trento', 'Potenza', 'Bologna', 'Trieste', 'Palermo', 'Firenze', 'Perugia', 'Venezia', 'Cagliari', \"L'Acquila\", 'Catanzaro', 'Campobasso']\n"
          ]
        }
      ]
    },
    {
      "cell_type": "markdown",
      "metadata": {
        "id": "tUayrTxoM3s3"
      },
      "source": [
        "Scrivere un programma che copi la lista capoluoghiRegione nella lista\n",
        "capoluoghiRegione2 e che elimini dalla prima lista il primo e l’ultimo elemento. Al termine,\n",
        "visualizzare le due liste una sotto l’altra per verificare che effettivamente siano stati eliminati gli\n",
        "elementi della lista originale."
      ]
    },
    {
      "cell_type": "code",
      "metadata": {
        "colab": {
          "base_uri": "https://localhost:8080/"
        },
        "id": "RU0ezlXYM50r",
        "outputId": "2093d143-7eeb-487b-972c-93548db6a530"
      },
      "source": [
        "capoluoghiRegione2 = capoluoghiRegione [ : ]\n",
        "capoluoghiRegione.pop()\n",
        "capoluoghiRegione.pop(0)\n",
        "print(capoluoghiRegione)\n",
        "print(capoluoghiRegione2)"
      ],
      "execution_count": 81,
      "outputs": [
        {
          "output_type": "stream",
          "name": "stdout",
          "text": [
            "['Potenza', 'Catanzaro', 'Napoli', 'Bologna', 'Trieste', 'Roma', 'Genova', 'Milano', 'Ancona', 'Campobasso', 'Torino', 'Bari', 'Cagliari', 'Palermo', 'Firenze', 'Trento', 'Perugia', 'Aosta']\n",
            "[\"L'Acquila\", 'Potenza', 'Catanzaro', 'Napoli', 'Bologna', 'Trieste', 'Roma', 'Genova', 'Milano', 'Ancona', 'Campobasso', 'Torino', 'Bari', 'Cagliari', 'Palermo', 'Firenze', 'Trento', 'Perugia', 'Aosta', 'Venezia']\n"
          ]
        }
      ]
    },
    {
      "cell_type": "markdown",
      "metadata": {
        "id": "I_g2PW4yNsaG"
      },
      "source": [
        "Scrivere un programma che, con una sola istruzione, carichi una lista con i primi 100 numeri interi.\n",
        "Chiamare la lista numeriInteri. Al termine, visualizzare la lista."
      ]
    },
    {
      "cell_type": "code",
      "metadata": {
        "colab": {
          "base_uri": "https://localhost:8080/"
        },
        "id": "ipNj5kHDNuS5",
        "outputId": "7d9e8ff1-57e7-4ac0-df17-100603b98622"
      },
      "source": [
        "numeriInteri = []\n",
        "for i in range(101):\n",
        "  numeriInteri.append(i)\n",
        "print(numeriInteri)"
      ],
      "execution_count": 130,
      "outputs": [
        {
          "output_type": "stream",
          "name": "stdout",
          "text": [
            "[0, 1, 2, 3, 4, 5, 6, 7, 8, 9, 10, 11, 12, 13, 14, 15, 16, 17, 18, 19, 20, 21, 22, 23, 24, 25, 26, 27, 28, 29, 30, 31, 32, 33, 34, 35, 36, 37, 38, 39, 40, 41, 42, 43, 44, 45, 46, 47, 48, 49, 50, 51, 52, 53, 54, 55, 56, 57, 58, 59, 60, 61, 62, 63, 64, 65, 66, 67, 68, 69, 70, 71, 72, 73, 74, 75, 76, 77, 78, 79, 80, 81, 82, 83, 84, 85, 86, 87, 88, 89, 90, 91, 92, 93, 94, 95, 96, 97, 98, 99, 100]\n"
          ]
        }
      ]
    }
  ]
}