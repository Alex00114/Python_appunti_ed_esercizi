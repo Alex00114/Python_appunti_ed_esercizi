{
  "nbformat": 4,
  "nbformat_minor": 0,
  "metadata": {
    "colab": {
      "name": "esercizio1.ipynb",
      "provenance": [],
      "collapsed_sections": []
    },
    "kernelspec": {
      "name": "python3",
      "display_name": "Python 3"
    },
    "language_info": {
      "name": "python"
    }
  },
  "cells": [
    {
      "cell_type": "markdown",
      "metadata": {
        "id": "7Emt1Lt3iG3c"
      },
      "source": [
        "a. far inserire all'utente due valori interi"
      ]
    },
    {
      "cell_type": "code",
      "metadata": {
        "colab": {
          "base_uri": "https://localhost:8080/"
        },
        "id": "c0zAR7gYhYx2",
        "outputId": "4c329836-ff43-46d8-9d16-f72938308c9a"
      },
      "source": [
        "x = int(input(\"Inserire primo valore intero \"))\n",
        "y = int(input(\"Inserire secondo valore intero \"))\n"
      ],
      "execution_count": null,
      "outputs": [
        {
          "name": "stdout",
          "output_type": "stream",
          "text": [
            "Inserire primo valore intero 10\n",
            "Inserire secondo valore intero 3\n"
          ]
        }
      ]
    },
    {
      "cell_type": "markdown",
      "metadata": {
        "id": "QWksi_y4i0d7"
      },
      "source": [
        "b. effettuare le 4 operazioni aritmetiche tra i due numeri"
      ]
    },
    {
      "cell_type": "code",
      "metadata": {
        "colab": {
          "base_uri": "https://localhost:8080/"
        },
        "id": "e0yeJh-oi3gM",
        "outputId": "08689a98-39b7-4d35-8777-65047a9885ba"
      },
      "source": [
        "\n",
        "print(\"Som: \" + str(x + y))\n",
        "print(\"Sot: \" + str(x - y))\n",
        "print(\"Mol: \" + str(x * y))\n",
        "print(\"Div: \" + str(x / y))"
      ],
      "execution_count": null,
      "outputs": [
        {
          "output_type": "stream",
          "name": "stdout",
          "text": [
            "Som: 13\n",
            "Sot: 7\n",
            "Mol: 30\n",
            "Div: 3.3333333333333335\n"
          ]
        }
      ]
    },
    {
      "cell_type": "markdown",
      "metadata": {
        "id": "A3kfwxp3mxcL"
      },
      "source": [
        "c. effettuare l'elevamento a potenza del primo numero per il secondo"
      ]
    },
    {
      "cell_type": "code",
      "metadata": {
        "colab": {
          "base_uri": "https://localhost:8080/"
        },
        "id": "fWVz3Taym0kb",
        "outputId": "9ec87810-2f89-4397-ed77-7b542543bcfc"
      },
      "source": [
        "pow(x, y)\n"
      ],
      "execution_count": null,
      "outputs": [
        {
          "output_type": "execute_result",
          "data": {
            "text/plain": [
              "1000"
            ]
          },
          "metadata": {},
          "execution_count": 4
        }
      ]
    },
    {
      "cell_type": "markdown",
      "metadata": {
        "id": "M0wLfUTPn669"
      },
      "source": [
        "d. effettuare il calcolo del resto della divisione tra il primo e il secondo numero"
      ]
    },
    {
      "cell_type": "code",
      "metadata": {
        "colab": {
          "base_uri": "https://localhost:8080/"
        },
        "id": "Z7_o2krIn9RU",
        "outputId": "909fde33-e4ec-4aba-b930-a70b33af0a25"
      },
      "source": [
        "x % y"
      ],
      "execution_count": null,
      "outputs": [
        {
          "output_type": "execute_result",
          "data": {
            "text/plain": [
              "1"
            ]
          },
          "metadata": {},
          "execution_count": 5
        }
      ]
    },
    {
      "cell_type": "markdown",
      "metadata": {
        "id": "TQ7MxRCIrM7G"
      },
      "source": [
        "f. effettuare la divisione intera tra il primo e il secondo numero\n"
      ]
    },
    {
      "cell_type": "code",
      "metadata": {
        "colab": {
          "base_uri": "https://localhost:8080/"
        },
        "id": "baj6qMKcrTdE",
        "outputId": "8354c0a9-d833-47a7-a4d4-76b090e619c0"
      },
      "source": [
        "x // y"
      ],
      "execution_count": null,
      "outputs": [
        {
          "output_type": "execute_result",
          "data": {
            "text/plain": [
              "3"
            ]
          },
          "metadata": {},
          "execution_count": 6
        }
      ]
    },
    {
      "cell_type": "markdown",
      "metadata": {
        "id": "yl2vjLgYrZWb"
      },
      "source": [
        "g. incrementare di una unità entrambi i numeri"
      ]
    },
    {
      "cell_type": "code",
      "metadata": {
        "colab": {
          "base_uri": "https://localhost:8080/"
        },
        "id": "Git6MWyTrZ3u",
        "outputId": "a4ba2bf9-b376-475e-e0ff-7a25c25225f7"
      },
      "source": [
        "x = x + 1\n",
        "y = y + 1\n",
        "print(\"Primo valore + 1 = \", x,)\n",
        "print(\"Secondo valore + 1 = \", y,)"
      ],
      "execution_count": null,
      "outputs": [
        {
          "output_type": "stream",
          "name": "stdout",
          "text": [
            "Primo valore + 1 =  11\n",
            "Secondo valore + 1 =  4\n"
          ]
        }
      ]
    },
    {
      "cell_type": "markdown",
      "metadata": {
        "id": "NmeG8XRIr5IM"
      },
      "source": [
        "h. far inserie all'utente due valori: il primo rappresenta la sua altezza (in metri) e il secondo rappresenta il suo peso (in kg). Visualizzare poi l'IMC (google it...)"
      ]
    },
    {
      "cell_type": "code",
      "metadata": {
        "colab": {
          "base_uri": "https://localhost:8080/"
        },
        "id": "f8iUhYWpr509",
        "outputId": "880fd269-9e93-447e-cf89-5dfdec75cc27"
      },
      "source": [
        "altezza = int(input(\"Inserire propria altezza \"))\n",
        "peso = int(input(\"Inserire proprio peso \"))\n",
        "IMC = peso/pow(altezza/100, 2)\n",
        "print(IMC)"
      ],
      "execution_count": null,
      "outputs": [
        {
          "output_type": "stream",
          "name": "stdout",
          "text": [
            "Inserire propria altezza 180\n",
            "Inserire proprio peso 76\n",
            "23.456790123456788\n"
          ]
        }
      ]
    },
    {
      "cell_type": "markdown",
      "metadata": {
        "id": "xbxybePuwpLl"
      },
      "source": [
        "i. arrotondare l'IMC precedente"
      ]
    },
    {
      "cell_type": "code",
      "metadata": {
        "colab": {
          "base_uri": "https://localhost:8080/"
        },
        "id": "kco5jC0Hwp6d",
        "outputId": "aa2f2873-790f-444a-fe81-e7a9c5e4c228"
      },
      "source": [
        "print(round(IMC))"
      ],
      "execution_count": null,
      "outputs": [
        {
          "output_type": "stream",
          "name": "stdout",
          "text": [
            "23\n"
          ]
        }
      ]
    },
    {
      "cell_type": "markdown",
      "metadata": {
        "id": "ZjQv8pmuxL1j"
      },
      "source": [
        "j. visualizzare il proprio nome, cognome, data di nascita e città di nascita separando le informazioni con un trattino."
      ]
    },
    {
      "cell_type": "code",
      "metadata": {
        "colab": {
          "base_uri": "https://localhost:8080/"
        },
        "id": "p8tE-b19xMmL",
        "outputId": "86cdcded-3078-40c6-82d9-5ea4a052ee0e"
      },
      "source": [
        "print(\"Alessandro-\" \"Tag-\" \"25/10/2005-\"\"Milano\")"
      ],
      "execution_count": null,
      "outputs": [
        {
          "output_type": "stream",
          "name": "stdout",
          "text": [
            "Alessandro-Tag-25/10/2005-Milano\n"
          ]
        }
      ]
    },
    {
      "cell_type": "markdown",
      "metadata": {
        "id": "wgYYSPXSxzCM"
      },
      "source": [
        "k. visualizzare le stesse informazioni per 10 volte di seguito"
      ]
    },
    {
      "cell_type": "code",
      "metadata": {
        "colab": {
          "base_uri": "https://localhost:8080/"
        },
        "id": "Q4hzWxgDxtgs",
        "outputId": "af1dccd4-d782-456b-c452-589ba9b5d1b9"
      },
      "source": [
        "print(\"Alessandro-\" \"Tag-\" \"25/10/2005-\"\"Milano\\n\" * 10) "
      ],
      "execution_count": null,
      "outputs": [
        {
          "output_type": "stream",
          "name": "stdout",
          "text": [
            "Alessandro-Tag-25/10/2005-Milano\n",
            "Alessandro-Tag-25/10/2005-Milano\n",
            "Alessandro-Tag-25/10/2005-Milano\n",
            "Alessandro-Tag-25/10/2005-Milano\n",
            "Alessandro-Tag-25/10/2005-Milano\n",
            "Alessandro-Tag-25/10/2005-Milano\n",
            "Alessandro-Tag-25/10/2005-Milano\n",
            "Alessandro-Tag-25/10/2005-Milano\n",
            "Alessandro-Tag-25/10/2005-Milano\n",
            "Alessandro-Tag-25/10/2005-Milano\n",
            "\n"
          ]
        }
      ]
    },
    {
      "cell_type": "markdown",
      "metadata": {
        "id": "rpeNlUk4x2gN"
      },
      "source": [
        "l. assegnare il proprio nome e cognome ad una stringa e visualizzarla con tutte le lettere maiuscole"
      ]
    },
    {
      "cell_type": "code",
      "metadata": {
        "colab": {
          "base_uri": "https://localhost:8080/"
        },
        "id": "1oeXrK-ax6ls",
        "outputId": "0ec9e775-1a55-4568-eb5c-7240a03b9da7"
      },
      "source": [
        "nome = \"alessandro\"\n",
        "cognome = \"tag\"\n",
        "print(nome.upper())\n",
        "print(cognome.upper())"
      ],
      "execution_count": null,
      "outputs": [
        {
          "output_type": "stream",
          "name": "stdout",
          "text": [
            "ALESSANDRO\n",
            "TAG\n"
          ]
        }
      ]
    },
    {
      "cell_type": "markdown",
      "metadata": {
        "id": "XJfMpO0VW3X2"
      },
      "source": [
        "m. assegnare il proprio nome e cognome ad una stringa e visualizzarla con le prime lettere maiuscole"
      ]
    },
    {
      "cell_type": "code",
      "metadata": {
        "colab": {
          "base_uri": "https://localhost:8080/"
        },
        "id": "Ob1tOG0vXCHh",
        "outputId": "eabc6e36-b77d-4318-81d3-20d0831507fd"
      },
      "source": [
        "nome = \"alessandro\"\n",
        "cognome = \"tag\"\n",
        "print(nome.title())\n",
        "print(cognome.title())"
      ],
      "execution_count": null,
      "outputs": [
        {
          "output_type": "stream",
          "name": "stdout",
          "text": [
            "Alessandro\n",
            "Tag\n"
          ]
        }
      ]
    },
    {
      "cell_type": "markdown",
      "metadata": {
        "id": "L02S5h_dXIm9"
      },
      "source": [
        "n. assegnare il proprio nome e cognome ad una stringa e visualizzarne la lunghezza"
      ]
    },
    {
      "cell_type": "code",
      "metadata": {
        "colab": {
          "base_uri": "https://localhost:8080/"
        },
        "id": "JTLnX_tCXLWe",
        "outputId": "53a739d8-4e24-4f67-88be-c640d9336a3d"
      },
      "source": [
        "nome = \"alessandro\"\n",
        "cognome = \"tag\"\n",
        "print(\"La lunghezza di '%s' è\"%nome,len(nome),\"lettere\")\n",
        "print(\"La lunghezza di '%s' è\"%cognome,len(cognome),\"lettere\")"
      ],
      "execution_count": null,
      "outputs": [
        {
          "output_type": "stream",
          "name": "stdout",
          "text": [
            "La lunghezza di 'alessandro' è 10 lettere\n",
            "La lunghezza di 'tag' è 3 lettere\n"
          ]
        }
      ]
    },
    {
      "cell_type": "markdown",
      "metadata": {
        "id": "rDLmjTaVaSy5"
      },
      "source": [
        "o. assegnare il proprio nome e cognome ad una stringa e contate quante vocali contiene\n"
      ]
    },
    {
      "cell_type": "code",
      "metadata": {
        "colab": {
          "base_uri": "https://localhost:8080/"
        },
        "id": "csuT5mCjaaJt",
        "outputId": "33f04e32-aa67-4b8e-85a1-ac4e157aa8a6"
      },
      "source": [
        "nome = \"alessandro\"\n",
        "cognome = \"tag\"\n",
        "print ( \"le vocali all'interno di\", nome, \"sono: \" , nome.count (\"a\",))"
      ],
      "execution_count": null,
      "outputs": [
        {
          "output_type": "stream",
          "name": "stdout",
          "text": [
            "le vocali all'interno di alessandro sono:  2\n"
          ]
        }
      ]
    },
    {
      "cell_type": "markdown",
      "metadata": {
        "id": "er_z5s2Nex5U"
      },
      "source": [
        "p. assegnare il proprio nome e cognome ad una stringa e visualizzare i primi 5 caratteri"
      ]
    },
    {
      "cell_type": "code",
      "metadata": {
        "colab": {
          "base_uri": "https://localhost:8080/"
        },
        "id": "VqZsrgqCeycb",
        "outputId": "ebe12c1c-5d87-4906-f988-2919af0f2735"
      },
      "source": [
        "nome = \"alessandro\"\n",
        "cognome = \"tag\"\n",
        "print ( \"Le prime 5 lettere del nome: \" , nome [ :5 ] ) \n",
        "print ( \"Le prime 5 lettere del cognome: \" , cognome [ :5 ] ) "
      ],
      "execution_count": null,
      "outputs": [
        {
          "output_type": "stream",
          "name": "stdout",
          "text": [
            "Le prime 5 lettere del nome:  aless\n",
            "Le prime 5 lettere del cognome:  tag\n"
          ]
        }
      ]
    },
    {
      "cell_type": "markdown",
      "metadata": {
        "id": "Xd_LbR-kfOtj"
      },
      "source": [
        "q. assegnare il proprio nome e cognome ad una stringa e visualizzare gli ultimi 5 caratteri"
      ]
    },
    {
      "cell_type": "code",
      "metadata": {
        "colab": {
          "base_uri": "https://localhost:8080/"
        },
        "id": "X-9TxwURfPWe",
        "outputId": "2fbfe42f-c008-4a84-ba8a-5d271ce710b1"
      },
      "source": [
        "nome = \"alessandro\"\n",
        "cognome = \"tag\"\n",
        "print ( \"Ultime cinque lettere del nome: \" , nome [ - 5 : ] )\n",
        "print ( \"Ultime cinque lettere del cognome: \" , cognome [ - 5 : ] )"
      ],
      "execution_count": null,
      "outputs": [
        {
          "output_type": "stream",
          "name": "stdout",
          "text": [
            "Ultime cinque lettere del nome:  andro\n",
            "Ultime cinque lettere del cognome:  tag\n"
          ]
        }
      ]
    },
    {
      "cell_type": "markdown",
      "metadata": {
        "id": "MvhJzmY2gY0R"
      },
      "source": [
        "r.. assegnare il proprio nome e cognome ad una stringa e visualizzare i 5 caratteri centrali"
      ]
    },
    {
      "cell_type": "code",
      "metadata": {
        "colab": {
          "base_uri": "https://localhost:8080/"
        },
        "id": "r_4jjaRAgZ-Z",
        "outputId": "5ffe7b2c-b379-4bfa-fcd1-3dd59069db40"
      },
      "source": [
        "nome = \"alessandro\"\n",
        "cognome = \"tag\"\n",
        "print ( \"Le 5 lettere centrali del nome: \" , nome [ 2:7 ] ) \n",
        "print ( \"Le 5 lettere centrali del cognome: \" , cognome [ 0:3 ] ) "
      ],
      "execution_count": null,
      "outputs": [
        {
          "output_type": "stream",
          "name": "stdout",
          "text": [
            "Le 5 lettere centrali del nome:  essan\n",
            "Le 5 lettere centrali del cognome:  tag\n"
          ]
        }
      ]
    }
  ]
}