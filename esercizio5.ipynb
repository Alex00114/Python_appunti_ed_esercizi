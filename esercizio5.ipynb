{
  "nbformat": 4,
  "nbformat_minor": 0,
  "metadata": {
    "colab": {
      "name": "esercizio5.ipynb",
      "provenance": [],
      "collapsed_sections": []
    },
    "kernelspec": {
      "name": "python3",
      "display_name": "Python 3"
    },
    "language_info": {
      "name": "python"
    }
  },
  "cells": [
    {
      "cell_type": "markdown",
      "metadata": {
        "id": "37-MKk4PRnEV"
      },
      "source": [
        "1. scrivere una funzione chiamata max che dati due numeri restituisca il più grande. Scrivere poi un programma che, utilizzando la funzione creata, trovi il massimo tra tre numeri inseriti dall'utente. "
      ]
    },
    {
      "cell_type": "code",
      "metadata": {
        "colab": {
          "base_uri": "https://localhost:8080/"
        },
        "id": "l7CjNC9bReZR",
        "outputId": "53347ff4-71f4-4e2c-a1ea-2b752aa30133"
      },
      "source": [
        "def max(x,y):\n",
        "  if x > y:\n",
        "    return x\n",
        "  else:\n",
        "    return y\n",
        "a = int(input(\"Inserisci numero: \"))\n",
        "b = int(input(\"Inserisci numero: \"))\n",
        "c = int(input(\"Inserisci numero: \"))\n",
        "print(\"Il numero più grande è \", max(max(a,b), c))"
      ],
      "execution_count": null,
      "outputs": [
        {
          "output_type": "stream",
          "name": "stdout",
          "text": [
            "Inserisci numero: 456\n",
            "Inserisci numero: 781\n",
            "Inserisci numero: 124\n",
            "Il numero più grande è  781\n"
          ]
        }
      ]
    },
    {
      "cell_type": "markdown",
      "metadata": {
        "id": "bjoCa35cUt1D"
      },
      "source": [
        "2. scrivere una funzione chiamata sommaLista che data una lista di interi restituisca la somma di tutti gli elementi della lista. Scrivere poi un programma che, utilizzando la funzione create, trovi la somma degli elementi di una lista inserita dall'utente."
      ]
    },
    {
      "cell_type": "code",
      "metadata": {
        "colab": {
          "base_uri": "https://localhost:8080/"
        },
        "id": "GqgbuXSIUvi4",
        "outputId": "6204cc1a-794b-402d-9e88-350bb4e754d6"
      },
      "source": [
        "def sommaLista(lista):\n",
        "  j = 0\n",
        "  for i in lista:\n",
        "    j += i\n",
        "  return j\n",
        "numeri = [int(s) for s in input(\"Inserisci valori: \").split()]\n",
        "print(\"La somma dei numeri è \", sommaLista(numeri))"
      ],
      "execution_count": null,
      "outputs": [
        {
          "output_type": "stream",
          "name": "stdout",
          "text": [
            "Inserisci valori: 2 3 15 47\n",
            "La somma dei numeri è  67\n"
          ]
        }
      ]
    },
    {
      "cell_type": "markdown",
      "metadata": {
        "id": "W4dNvFxwWEwx"
      },
      "source": [
        "3. utilizzando le funzioni create precedentemente, scrivere un programma che permetta all'utente di inserire tre liste e di avere il valore massimo della somma degli elementi delle tre liste."
      ]
    },
    {
      "cell_type": "code",
      "metadata": {
        "colab": {
          "base_uri": "https://localhost:8080/"
        },
        "id": "f7vB_pPPWlYl",
        "outputId": "fcc23d03-02d9-4e9c-b2e8-256e7922d111"
      },
      "source": [
        "numeri1 = [int(s) for s in input(\"Inserisci valori: \").split()]\n",
        "numeri2 = [int(s) for s in input(\"Inserisci valori: \").split()]\n",
        "numeri3 = [int(s) for s in input(\"Inserisci valori: \").split()]\n",
        "print(\"Il valore più grande è \", max(max(sommaLista(numeri1), sommaLista(numeri2)), sommaLista(numeri3)))"
      ],
      "execution_count": null,
      "outputs": [
        {
          "output_type": "stream",
          "name": "stdout",
          "text": [
            "Inserisci valori: 37 13\n",
            "Inserisci valori: 45 65\n",
            "Inserisci valori: 120 1 2 \n",
            "Il valore più grande è  123\n"
          ]
        }
      ]
    },
    {
      "cell_type": "markdown",
      "metadata": {
        "id": "_2DVpTCHYs3y"
      },
      "source": [
        "4. scrivere una funzione chiamata controlla che dato un numero e due estremi restituisca True se il numero è compreso tra i due estremi, false altrimenti. Utilizzare poi la funzione per trovare il numero di elementi di una lista di numeri interi (inserita dall'utente) compresi tra due estremi (inseriti anch'essi dall'utente)"
      ]
    },
    {
      "cell_type": "code",
      "metadata": {
        "colab": {
          "base_uri": "https://localhost:8080/"
        },
        "id": "XCUo_05Bua9c",
        "outputId": "892eaaff-72bf-4fef-ca5e-677cd6dfb8ae"
      },
      "source": [
        "def controlla(x,y,z):\n",
        "  for i in range(y+1,z):\n",
        "    lista.append(i)\n",
        "  if x in lista:\n",
        "    return True\n",
        "  else:\n",
        "    return False\n",
        "\n",
        "lista = []\n",
        "estremo1 = int(input(\"Inserisci primo estremo: \"))\n",
        "estremo2 = int(input(\"Inserisci secondo estremo: \"))\n",
        "numeri = [int(s) for s in input(\"Inserisci lista di numeri: \").split()]\n",
        "\n",
        "controlla(numeri, estremo1, estremo2)\n",
        "\n",
        "contatore = 0\n",
        "for j in lista:\n",
        "  if j in numeri:\n",
        "    contatore += 1\n",
        "\n",
        "print(\"Numero di elementi compresi tra i due estremi: \", contatore)"
      ],
      "execution_count": null,
      "outputs": [
        {
          "output_type": "stream",
          "name": "stdout",
          "text": [
            "Inserisci primo estremo: 1\n",
            "Inserisci secondo estremo: 10\n",
            "Inserisci lista di numeri: 2 45 6 78 9 3 11 66\n",
            "Numero di elementi compresi tra i due estremi:  4\n"
          ]
        }
      ]
    },
    {
      "cell_type": "markdown",
      "metadata": {
        "id": "wAMP2k6Gc9Qh"
      },
      "source": [
        "5. utilizzare la funzione controlla creata precedentemente per scrivere un programma che, data una lista di numeri interi inserita  dall'utente, carichi in un'altra lista i numeri compresi tra due estremi inseriti anch'essi dall'utente."
      ]
    },
    {
      "cell_type": "code",
      "metadata": {
        "colab": {
          "base_uri": "https://localhost:8080/"
        },
        "id": "nM0rBVjGc_vJ",
        "outputId": "46ea8726-f048-4dde-907f-6700a7feaf71"
      },
      "source": [
        "lista.clear()\n",
        "numeri = [int(s) for s in input(\"Inserisci lista di numeri: \").split()]\n",
        "estremo1 = int(input(\"Inserisci primo estremo: \"))\n",
        "estremo2 = int(input(\"Inserisci secondo estremo: \"))\n",
        "controlla(numeri, estremo1, estremo2)\n",
        "lista2 = lista [ : ]\n",
        "print(\"I numeri compresi tra i due estremi sono: \", lista2)"
      ],
      "execution_count": null,
      "outputs": [
        {
          "output_type": "stream",
          "name": "stdout",
          "text": [
            "Inserisci lista di numeri: 1 2 3 4 5\n",
            "Inserisci primo estremo: 17\n",
            "Inserisci secondo estremo: 45\n",
            "I numeri compresi tra i due estremi sono:  [18, 19, 20, 21, 22, 23, 24, 25, 26, 27, 28, 29, 30, 31, 32, 33, 34, 35, 36, 37, 38, 39, 40, 41, 42, 43, 44]\n"
          ]
        }
      ]
    },
    {
      "cell_type": "markdown",
      "metadata": {
        "id": "1Xcqmc2IzRrB"
      },
      "source": [
        "6. scrivere una funzione chiamata confrontaListe che date due liste restituisca True se le due liste sono uguali, False altrimenti. Utilizzare poi la funzione in un programma che dica se una lista di interi è palindroma, cioè se può essere letta indifferentemente da sinistra a destra e da destra a sinistra. Ad esempio la lista [1, 2, 3, 4, 3, 2, 1] è palindroma, la lista [1, 2, 3, 4, 3,1, 2] non lo è."
      ]
    },
    {
      "cell_type": "code",
      "metadata": {
        "colab": {
          "base_uri": "https://localhost:8080/"
        },
        "id": "vDze2JNnzUBc",
        "outputId": "a689e737-3a5e-4a51-8af5-ed34f114adbb"
      },
      "source": [
        "def confrontaListe(lista1, lista2):\n",
        "  if lista1 == lista2:\n",
        "    return True\n",
        "  else:\n",
        "    return False\n",
        "numeri1 = [int(s) for s in input(\"Inserisci lista di numeri: \").split()]\n",
        "numeri2 = numeri1 [ : ]\n",
        "numeri2.reverse()\n",
        "print(\"La lista inserita dall'utente è palindroma: \", confrontaListe(numeri1, numeri2))"
      ],
      "execution_count": null,
      "outputs": [
        {
          "output_type": "stream",
          "name": "stdout",
          "text": [
            "Inserisci lista di numeri: 1 2 3 4 3 2 1\n",
            "La lista inserita dall'utente è palindroma:  True\n"
          ]
        }
      ]
    },
    {
      "cell_type": "markdown",
      "metadata": {
        "id": "yXLIGenb1qWV"
      },
      "source": [
        "7. scrivere una funzione chiamata celsiusToFahrenheit che data una temperatura in gradi Celsius restituisca il valore convertito in gradi Fahrenheit (per ulteriori info, google it). Scrivere poi un programma che data una lista di temperature in gradi Celsius,inserita dall'utente, converta tutte le temperature in gradi Fahrenheit."
      ]
    },
    {
      "cell_type": "code",
      "metadata": {
        "colab": {
          "base_uri": "https://localhost:8080/"
        },
        "id": "Gcs5YKZy1sDx",
        "outputId": "a801e619-d697-485a-d1f2-264f0a508b1d"
      },
      "source": [
        "def celsiusToFahrenheit(temperatura):\n",
        "  temperatura = (temperatura * 9 / 5) + 32\n",
        "  return temperatura\n",
        "\n",
        "\n",
        "listaCelsius = [float(s) for s in input(\"Inserisci temperature in gradi Celsius: \").split()]\n",
        "for i in listaCelsius:\n",
        "  print(\"La temperatura convertita in gradi Fahrenheit è \", celsiusToFahrenheit(i))"
      ],
      "execution_count": null,
      "outputs": [
        {
          "output_type": "stream",
          "name": "stdout",
          "text": [
            "Inserisci temperature in gradi Celsius: 36.7 0 38.9 -13\n",
            "La temperatura convertita in gradi Fahrenheit è  98.06\n",
            "La temperatura convertita in gradi Fahrenheit è  32.0\n",
            "La temperatura convertita in gradi Fahrenheit è  102.02\n",
            "La temperatura convertita in gradi Fahrenheit è  8.600000000000001\n"
          ]
        }
      ]
    },
    {
      "cell_type": "markdown",
      "metadata": {
        "id": "8hiKCADq_VCZ"
      },
      "source": [
        "8. scrivere una funzione chiamata IMC che calcoli l'Indice di Massa Corporea a partire dal peso (in kg) e dall'altezza (in m). Utilizzare poi la funzione per scrivere un programma che date tre liste, contenente la prima una serie di nomi, la seconda una serie di pesi e la terza una serie di altezze, produca una quarta lista contenente i valori di IMC corrispondenti. Visualizzare poi i risultati nel seguente modo: \"< nome > pesa < peso > kg, misura < altezza > m ed ha un IMC di < IMC >\" ( i valori nelle parentesi angolari vanno presi ovviamente dalle liste)"
      ]
    },
    {
      "cell_type": "code",
      "metadata": {
        "colab": {
          "base_uri": "https://localhost:8080/"
        },
        "id": "AT2d0zpy_XYE",
        "outputId": "5a015fc8-e0a7-470d-c2ef-832795673545"
      },
      "source": [
        "def IMC(peso, altezza):\n",
        "  imc = peso /(altezza * altezza)\n",
        "  return imc\n",
        "\n",
        "nomi = [str(n) for n in input(\"Inserisci lista di nomi: \").split()]\n",
        "pesi = [float(p) for p in input(\"Inserisci lista di pesi: \").split()]\n",
        "altezze = [float(a) for a in input(\"Inserisci lista di altezze: \").split()]\n",
        "listaIMC = []\n",
        "\n",
        "for i in pesi:\n",
        "  for j in altezze:\n",
        "    if pesi.index(i) == altezze.index(j):\n",
        "      listaIMC.append(IMC(i,j))\n",
        "\n",
        "for a in nomi:\n",
        "  for b in pesi:\n",
        "    for c in altezze:\n",
        "      for d in listaIMC:\n",
        "       if nomi.index(a) == pesi.index(b):\n",
        "         if pesi.index(b) == altezze.index(c):\n",
        "           if altezze.index(c) == listaIMC.index(d):\n",
        "             print(a, \"pesa\", b,\"kg\",\",\", \"misura\", c,\"m \", \"ed ha un IMC di\", d)"
      ],
      "execution_count": null,
      "outputs": [
        {
          "output_type": "stream",
          "name": "stdout",
          "text": [
            "Inserisci lista di nomi: Luca Andrea Marco Giuseppe\n",
            "Inserisci lista di pesi: 70 56 84 67\n",
            "Inserisci lista di altezze: 1.80 1.66 1.83 1.74\n",
            "Luca pesa 70.0 kg , misura 1.8 m  ed ha un IMC di 21.604938271604937\n",
            "Andrea pesa 56.0 kg , misura 1.66 m  ed ha un IMC di 20.322252866889244\n",
            "Marco pesa 84.0 kg , misura 1.83 m  ed ha un IMC di 25.082863029651524\n",
            "Giuseppe pesa 67.0 kg , misura 1.74 m  ed ha un IMC di 22.12973972783723\n"
          ]
        }
      ]
    },
    {
      "cell_type": "markdown",
      "metadata": {
        "id": "AmTddMIqZaQw"
      },
      "source": [
        "9: scrivere una lambda function per estrarre da una lista di numeri interi tutti i valori pari."
      ]
    },
    {
      "cell_type": "code",
      "metadata": {
        "id": "VZ2S-OtFZaxz",
        "colab": {
          "base_uri": "https://localhost:8080/"
        },
        "outputId": "466dca32-7872-401e-b2a2-1378be364bc4"
      },
      "source": [
        "lista = [0,4,76,81,3,54,87]\n",
        "numeriPari = lambda x: [n for n in x if n %2==0]\n",
        "numeriPari(lista)"
      ],
      "execution_count": null,
      "outputs": [
        {
          "output_type": "execute_result",
          "data": {
            "text/plain": [
              "[0, 4, 76, 54]"
            ]
          },
          "metadata": {},
          "execution_count": 40
        }
      ]
    }
  ]
}