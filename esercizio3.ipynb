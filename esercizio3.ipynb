{
  "nbformat": 4,
  "nbformat_minor": 0,
  "metadata": {
    "colab": {
      "name": "esercizio3.ipynb",
      "provenance": [],
      "collapsed_sections": []
    },
    "kernelspec": {
      "name": "python3",
      "display_name": "Python 3"
    },
    "language_info": {
      "name": "python"
    }
  },
  "cells": [
    {
      "cell_type": "markdown",
      "metadata": {
        "id": "KNJtTR_pzKGr"
      },
      "source": [
        "1. Scrivere un programma che crei un dizionario contenente i nomi delle regioni e i nomi dei loro\n",
        "capoluoghi. Il nome della regione deve essere il campo chiave. Chiamare il dizionario\n",
        "capoluoghiRegione"
      ]
    },
    {
      "cell_type": "code",
      "metadata": {
        "id": "rWZkSJHCy--d"
      },
      "source": [
        "capoluoghiRegione = {\"Abruzzo\" :\t\"L'Aquila\", \"Basilicata\" : \"Potenza\", \"Calabria\" : \"Catanzaro\", \"Campania\" : \"Napoli\", \"Emilia-Romagna\" :\t\"Bologna\", \"Friuli-Venezia\" : \"Trieste\", \"Lazio\" :\t\"Roma\", \"Liguria\" :\t\"Genova\", \"Lombardia\" :\t\"Milano\", \"Marche\" : \"Ancona\", \"Molise\" :\t\"Campobasso\", \"Piemonte\"\t: \"Torino\", \"Puglia\" :\t\"Bari\", \"Sardegna\" :\t\"Cagliari\", \"Sicilia\" :\t\"Palermo\", \"Toscana\"\t: \"Firenze\", \"Trentino-Alto Adige\" :\t\"Trento\", \"Umbria\" :\t\"Perugia\", \"Valle d'Aosta\" :\t\"Aosta\", \"Veneto\" :\t\"Venezia\" }"
      ],
      "execution_count": 30,
      "outputs": []
    },
    {
      "cell_type": "markdown",
      "metadata": {
        "id": "LR8CrbRo1Prz"
      },
      "source": [
        "2. Scrivere un programma che visualizzi tutti i nomi delle regioni presenti in capoluoghiRegione"
      ]
    },
    {
      "cell_type": "code",
      "metadata": {
        "colab": {
          "base_uri": "https://localhost:8080/"
        },
        "id": "x_ZbtTna1SKT",
        "outputId": "3ecf1352-4b99-4934-8f35-eb52edabdaa3"
      },
      "source": [
        "regioni = [k for k in capoluoghiRegione.keys()]\n",
        "print(regioni)"
      ],
      "execution_count": 31,
      "outputs": [
        {
          "output_type": "stream",
          "name": "stdout",
          "text": [
            "['Abruzzo', 'Basilicata', 'Calabria', 'Campania', 'Emilia-Romagna', 'Friuli-Venezia', 'Lazio', 'Liguria', 'Lombardia', 'Marche', 'Molise', 'Piemonte', 'Puglia', 'Sardegna', 'Sicilia', 'Toscana', 'Trentino-Alto Adige', 'Umbria', \"Valle d'Aosta\", 'Veneto']\n"
          ]
        }
      ]
    },
    {
      "cell_type": "markdown",
      "metadata": {
        "id": "vsk3MIqH3dak"
      },
      "source": [
        "3. Scrivere un programma che visualizzi tutti i nomi dei capoluoghi di regione presenti in\n",
        "capoluoghiRegione"
      ]
    },
    {
      "cell_type": "code",
      "metadata": {
        "colab": {
          "base_uri": "https://localhost:8080/"
        },
        "id": "4EYJN_Rz3eXD",
        "outputId": "1b852b8c-87d4-47f2-8176-ad008aad9090"
      },
      "source": [
        "capoluoghi = [ v for v in capoluoghiRegione.values() ]\n",
        "print(capoluoghi)"
      ],
      "execution_count": 32,
      "outputs": [
        {
          "output_type": "stream",
          "name": "stdout",
          "text": [
            "[\"L'Aquila\", 'Potenza', 'Catanzaro', 'Napoli', 'Bologna', 'Trieste', 'Roma', 'Genova', 'Milano', 'Ancona', 'Campobasso', 'Torino', 'Bari', 'Cagliari', 'Palermo', 'Firenze', 'Trento', 'Perugia', 'Aosta', 'Venezia']\n"
          ]
        }
      ]
    },
    {
      "cell_type": "markdown",
      "metadata": {
        "id": "oNyAzgX03nnc"
      },
      "source": [
        "4. Scrivere un programma che acquisisca dall’utente il nome di una regione e fornisca il nome del suo\n",
        "capoluogo."
      ]
    },
    {
      "cell_type": "code",
      "metadata": {
        "colab": {
          "base_uri": "https://localhost:8080/"
        },
        "id": "ZtZaWFaw3qfz",
        "outputId": "7d5ed315-7b36-4c23-ad22-607cc27a952f"
      },
      "source": [
        "regione = input(\"Inserire regione \")\n",
        "print(capoluoghiRegione[regione])"
      ],
      "execution_count": 33,
      "outputs": [
        {
          "output_type": "stream",
          "name": "stdout",
          "text": [
            "Inserire regione Lombardia\n",
            "Milano\n"
          ]
        }
      ]
    },
    {
      "cell_type": "markdown",
      "metadata": {
        "id": "1d-MZ3ch4o-E"
      },
      "source": [
        "5. Scrivere un programma che acquisisca dall’utente il nome di un capoluogo e fornisca il nome della\n",
        "regione a cui appartiene."
      ]
    },
    {
      "cell_type": "code",
      "metadata": {
        "id": "0XPQdTlt4per"
      },
      "source": [
        ""
      ],
      "execution_count": 33,
      "outputs": []
    },
    {
      "cell_type": "markdown",
      "metadata": {
        "id": "S_Diiyom4qoD"
      },
      "source": [
        "6. Scrivere un programma che visualizzi tutte le regioni con i rispettivi capoluoghi"
      ]
    },
    {
      "cell_type": "code",
      "metadata": {
        "colab": {
          "base_uri": "https://localhost:8080/"
        },
        "id": "6kqUILYI4sdL",
        "outputId": "55053d80-075a-42e0-f764-8f40ae4d92e8"
      },
      "source": [
        "print(capoluoghiRegione)"
      ],
      "execution_count": 34,
      "outputs": [
        {
          "output_type": "stream",
          "name": "stdout",
          "text": [
            "{'Abruzzo': \"L'Aquila\", 'Basilicata': 'Potenza', 'Calabria': 'Catanzaro', 'Campania': 'Napoli', 'Emilia-Romagna': 'Bologna', 'Friuli-Venezia': 'Trieste', 'Lazio': 'Roma', 'Liguria': 'Genova', 'Lombardia': 'Milano', 'Marche': 'Ancona', 'Molise': 'Campobasso', 'Piemonte': 'Torino', 'Puglia': 'Bari', 'Sardegna': 'Cagliari', 'Sicilia': 'Palermo', 'Toscana': 'Firenze', 'Trentino-Alto Adige': 'Trento', 'Umbria': 'Perugia', \"Valle d'Aosta\": 'Aosta', 'Veneto': 'Venezia'}\n"
          ]
        }
      ]
    },
    {
      "cell_type": "markdown",
      "metadata": {
        "id": "Oid_cXvh4xHk"
      },
      "source": [
        "7. Scrivere un programma che visualizzi tutte le regioni con i rispettivi capoluoghi. Ordinare le regioni\n",
        "in ordine alfabetico"
      ]
    },
    {
      "cell_type": "code",
      "metadata": {
        "id": "jTllWJeu4xhj",
        "colab": {
          "base_uri": "https://localhost:8080/"
        },
        "outputId": "85f9b497-6e22-4087-f931-cedbdd3efb8b"
      },
      "source": [
        "print(capoluoghiRegione)\n",
        "print(sorted(regioni))"
      ],
      "execution_count": 35,
      "outputs": [
        {
          "output_type": "stream",
          "name": "stdout",
          "text": [
            "{'Abruzzo': \"L'Aquila\", 'Basilicata': 'Potenza', 'Calabria': 'Catanzaro', 'Campania': 'Napoli', 'Emilia-Romagna': 'Bologna', 'Friuli-Venezia': 'Trieste', 'Lazio': 'Roma', 'Liguria': 'Genova', 'Lombardia': 'Milano', 'Marche': 'Ancona', 'Molise': 'Campobasso', 'Piemonte': 'Torino', 'Puglia': 'Bari', 'Sardegna': 'Cagliari', 'Sicilia': 'Palermo', 'Toscana': 'Firenze', 'Trentino-Alto Adige': 'Trento', 'Umbria': 'Perugia', \"Valle d'Aosta\": 'Aosta', 'Veneto': 'Venezia'}\n",
            "['Abruzzo', 'Basilicata', 'Calabria', 'Campania', 'Emilia-Romagna', 'Friuli-Venezia', 'Lazio', 'Liguria', 'Lombardia', 'Marche', 'Molise', 'Piemonte', 'Puglia', 'Sardegna', 'Sicilia', 'Toscana', 'Trentino-Alto Adige', 'Umbria', \"Valle d'Aosta\", 'Veneto']\n"
          ]
        }
      ]
    },
    {
      "cell_type": "markdown",
      "metadata": {
        "id": "pA7FthrbjssA"
      },
      "source": [
        "8. Scrivere un programma che visualizzi tutte le regioni con i rispettivi capoluoghi. Ordinare i\n",
        "capoluoghi in ordine alfabetico"
      ]
    },
    {
      "cell_type": "code",
      "metadata": {
        "colab": {
          "base_uri": "https://localhost:8080/"
        },
        "id": "1OMVLKfIjxFM",
        "outputId": "5e3bd2e5-7e4c-433b-d983-c161de7f5456"
      },
      "source": [
        "print(capoluoghiRegione)\n",
        "print(sorted(capoluoghi))"
      ],
      "execution_count": 36,
      "outputs": [
        {
          "output_type": "stream",
          "name": "stdout",
          "text": [
            "{'Abruzzo': \"L'Aquila\", 'Basilicata': 'Potenza', 'Calabria': 'Catanzaro', 'Campania': 'Napoli', 'Emilia-Romagna': 'Bologna', 'Friuli-Venezia': 'Trieste', 'Lazio': 'Roma', 'Liguria': 'Genova', 'Lombardia': 'Milano', 'Marche': 'Ancona', 'Molise': 'Campobasso', 'Piemonte': 'Torino', 'Puglia': 'Bari', 'Sardegna': 'Cagliari', 'Sicilia': 'Palermo', 'Toscana': 'Firenze', 'Trentino-Alto Adige': 'Trento', 'Umbria': 'Perugia', \"Valle d'Aosta\": 'Aosta', 'Veneto': 'Venezia'}\n",
            "['Ancona', 'Aosta', 'Bari', 'Bologna', 'Cagliari', 'Campobasso', 'Catanzaro', 'Firenze', 'Genova', \"L'Aquila\", 'Milano', 'Napoli', 'Palermo', 'Perugia', 'Potenza', 'Roma', 'Torino', 'Trento', 'Trieste', 'Venezia']\n"
          ]
        }
      ]
    },
    {
      "cell_type": "markdown",
      "metadata": {
        "id": "5U4n6Bf-lncw"
      },
      "source": [
        "9. Scrivere un programma che carichi in una lista i nomi delle regioni e in un’altra lista i nomi dei\n",
        "rispettivi capoluoghi. Scrivere poi l’istruzione che permette di costruire il dizionario a partire dalle\n",
        "due liste."
      ]
    },
    {
      "cell_type": "code",
      "metadata": {
        "colab": {
          "base_uri": "https://localhost:8080/"
        },
        "id": "8ppzfaumlpRG",
        "outputId": "8141662c-23e4-4789-d5aa-5c528527b809"
      },
      "source": [
        "listaRegioni = ['Abruzzo', 'Basilicata', 'Calabria', 'Campania', 'Emilia-Romagna', 'Friuli-Venezia', 'Lazio', 'Liguria', 'Lombardia', 'Marche', 'Molise', 'Piemonte', 'Puglia', 'Sardegna', 'Sicilia', 'Toscana', 'Trentino-Alto Adige', 'Umbria', \"Valle d'Aosta\", 'Veneto']\n",
        "listaCapoluoghi= [\"L'Aquila\", 'Potenza', 'Catanzaro', 'Napoli', 'Bologna', 'Trieste', 'Roma', 'Genova', 'Milano', 'Ancona', 'Campobasso', 'Torino', 'Bari', 'Cagliari', 'Palermo', 'Firenze', 'Trento', 'Perugia', 'Aosta', 'Venezia']\n",
        "dizionario = dict((listaRegioni,listaCapoluoghi) for listaRegioni,listaCapoluoghi in zip(listaRegioni,listaCapoluoghi))\n",
        "print(dizionario)"
      ],
      "execution_count": 38,
      "outputs": [
        {
          "output_type": "stream",
          "name": "stdout",
          "text": [
            "{'Abruzzo': \"L'Aquila\", 'Basilicata': 'Potenza', 'Calabria': 'Catanzaro', 'Campania': 'Napoli', 'Emilia-Romagna': 'Bologna', 'Friuli-Venezia': 'Trieste', 'Lazio': 'Roma', 'Liguria': 'Genova', 'Lombardia': 'Milano', 'Marche': 'Ancona', 'Molise': 'Campobasso', 'Piemonte': 'Torino', 'Puglia': 'Bari', 'Sardegna': 'Cagliari', 'Sicilia': 'Palermo', 'Toscana': 'Firenze', 'Trentino-Alto Adige': 'Trento', 'Umbria': 'Perugia', \"Valle d'Aosta\": 'Aosta', 'Veneto': 'Venezia'}\n"
          ]
        }
      ]
    }
  ]
}