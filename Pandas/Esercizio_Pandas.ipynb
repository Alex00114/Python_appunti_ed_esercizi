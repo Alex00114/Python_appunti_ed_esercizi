{
  "nbformat": 4,
  "nbformat_minor": 0,
  "metadata": {
    "colab": {
      "name": "Esercizio Pandas.ipynb",
      "provenance": [],
      "collapsed_sections": []
    },
    "kernelspec": {
      "name": "python3",
      "display_name": "Python 3"
    },
    "language_info": {
      "name": "python"
    }
  },
  "cells": [
    {
      "cell_type": "code",
      "metadata": {
        "id": "5u0r9gAWhn35"
      },
      "source": [
        "import pandas as pd"
      ],
      "execution_count": null,
      "outputs": []
    },
    {
      "cell_type": "code",
      "metadata": {
        "colab": {
          "base_uri": "https://localhost:8080/",
          "height": 328
        },
        "id": "w5ZGGNQ1hfQ0",
        "outputId": "5ef267fd-f890-47de-9c83-f4f130c1313a"
      },
      "source": [
        "url = \"https://raw.githubusercontent.com/italia/covid19-opendata-vaccini/master/dati/anagrafica-vaccini-summary-latest.csv\"\n",
        "\n",
        "df = pd.read_csv(url)\n",
        "df"
      ],
      "execution_count": null,
      "outputs": [
        {
          "output_type": "execute_result",
          "data": {
            "text/html": [
              "<div>\n",
              "<style scoped>\n",
              "    .dataframe tbody tr th:only-of-type {\n",
              "        vertical-align: middle;\n",
              "    }\n",
              "\n",
              "    .dataframe tbody tr th {\n",
              "        vertical-align: top;\n",
              "    }\n",
              "\n",
              "    .dataframe thead th {\n",
              "        text-align: right;\n",
              "    }\n",
              "</style>\n",
              "<table border=\"1\" class=\"dataframe\">\n",
              "  <thead>\n",
              "    <tr style=\"text-align: right;\">\n",
              "      <th></th>\n",
              "      <th>fascia_anagrafica</th>\n",
              "      <th>totale</th>\n",
              "      <th>sesso_maschile</th>\n",
              "      <th>sesso_femminile</th>\n",
              "      <th>prima_dose</th>\n",
              "      <th>seconda_dose</th>\n",
              "      <th>pregressa_infezione</th>\n",
              "      <th>dose_aggiuntiva</th>\n",
              "      <th>dose_booster</th>\n",
              "      <th>ultimo_aggiornamento</th>\n",
              "    </tr>\n",
              "  </thead>\n",
              "  <tbody>\n",
              "    <tr>\n",
              "      <th>0</th>\n",
              "      <td>12-19</td>\n",
              "      <td>6308804</td>\n",
              "      <td>3231225</td>\n",
              "      <td>3077579</td>\n",
              "      <td>3238001</td>\n",
              "      <td>2964416</td>\n",
              "      <td>105254</td>\n",
              "      <td>821</td>\n",
              "      <td>312</td>\n",
              "      <td>2021-11-02</td>\n",
              "    </tr>\n",
              "    <tr>\n",
              "      <th>1</th>\n",
              "      <td>20-29</td>\n",
              "      <td>9952887</td>\n",
              "      <td>5205881</td>\n",
              "      <td>4747006</td>\n",
              "      <td>5087800</td>\n",
              "      <td>4627853</td>\n",
              "      <td>199645</td>\n",
              "      <td>4596</td>\n",
              "      <td>32993</td>\n",
              "      <td>2021-11-02</td>\n",
              "    </tr>\n",
              "    <tr>\n",
              "      <th>2</th>\n",
              "      <td>30-39</td>\n",
              "      <td>10635031</td>\n",
              "      <td>5461666</td>\n",
              "      <td>5173365</td>\n",
              "      <td>5430456</td>\n",
              "      <td>4938503</td>\n",
              "      <td>206543</td>\n",
              "      <td>8625</td>\n",
              "      <td>50904</td>\n",
              "      <td>2021-11-02</td>\n",
              "    </tr>\n",
              "    <tr>\n",
              "      <th>3</th>\n",
              "      <td>40-49</td>\n",
              "      <td>13841099</td>\n",
              "      <td>6870789</td>\n",
              "      <td>6970310</td>\n",
              "      <td>7004775</td>\n",
              "      <td>6464458</td>\n",
              "      <td>285732</td>\n",
              "      <td>20687</td>\n",
              "      <td>65447</td>\n",
              "      <td>2021-11-02</td>\n",
              "    </tr>\n",
              "    <tr>\n",
              "      <th>4</th>\n",
              "      <td>50-59</td>\n",
              "      <td>15894534</td>\n",
              "      <td>7798588</td>\n",
              "      <td>8095946</td>\n",
              "      <td>8034933</td>\n",
              "      <td>7373699</td>\n",
              "      <td>347997</td>\n",
              "      <td>44640</td>\n",
              "      <td>93265</td>\n",
              "      <td>2021-11-02</td>\n",
              "    </tr>\n",
              "    <tr>\n",
              "      <th>5</th>\n",
              "      <td>60-69</td>\n",
              "      <td>12936179</td>\n",
              "      <td>6280062</td>\n",
              "      <td>6656117</td>\n",
              "      <td>6543748</td>\n",
              "      <td>5963662</td>\n",
              "      <td>241135</td>\n",
              "      <td>66456</td>\n",
              "      <td>121178</td>\n",
              "      <td>2021-11-02</td>\n",
              "    </tr>\n",
              "    <tr>\n",
              "      <th>6</th>\n",
              "      <td>70-79</td>\n",
              "      <td>10890264</td>\n",
              "      <td>5118796</td>\n",
              "      <td>5771468</td>\n",
              "      <td>5397350</td>\n",
              "      <td>5166146</td>\n",
              "      <td>165200</td>\n",
              "      <td>73040</td>\n",
              "      <td>88528</td>\n",
              "      <td>2021-11-02</td>\n",
              "    </tr>\n",
              "    <tr>\n",
              "      <th>7</th>\n",
              "      <td>80-89</td>\n",
              "      <td>7696231</td>\n",
              "      <td>3216605</td>\n",
              "      <td>4479626</td>\n",
              "      <td>3454146</td>\n",
              "      <td>3391935</td>\n",
              "      <td>77326</td>\n",
              "      <td>41848</td>\n",
              "      <td>730976</td>\n",
              "      <td>2021-11-02</td>\n",
              "    </tr>\n",
              "    <tr>\n",
              "      <th>8</th>\n",
              "      <td>90+</td>\n",
              "      <td>1749934</td>\n",
              "      <td>524099</td>\n",
              "      <td>1225835</td>\n",
              "      <td>797864</td>\n",
              "      <td>769471</td>\n",
              "      <td>18893</td>\n",
              "      <td>7144</td>\n",
              "      <td>156562</td>\n",
              "      <td>2021-11-02</td>\n",
              "    </tr>\n",
              "  </tbody>\n",
              "</table>\n",
              "</div>"
            ],
            "text/plain": [
              "  fascia_anagrafica    totale  ...  dose_booster  ultimo_aggiornamento\n",
              "0             12-19   6308804  ...           312            2021-11-02\n",
              "1             20-29   9952887  ...         32993            2021-11-02\n",
              "2             30-39  10635031  ...         50904            2021-11-02\n",
              "3             40-49  13841099  ...         65447            2021-11-02\n",
              "4             50-59  15894534  ...         93265            2021-11-02\n",
              "5             60-69  12936179  ...        121178            2021-11-02\n",
              "6             70-79  10890264  ...         88528            2021-11-02\n",
              "7             80-89   7696231  ...        730976            2021-11-02\n",
              "8               90+   1749934  ...        156562            2021-11-02\n",
              "\n",
              "[9 rows x 10 columns]"
            ]
          },
          "metadata": {},
          "execution_count": 25
        }
      ]
    },
    {
      "cell_type": "markdown",
      "metadata": {
        "id": "Keu2VXqZhu1W"
      },
      "source": [
        "Visualizzare il numero di vaccinati nella fascia di età 12-19"
      ]
    },
    {
      "cell_type": "code",
      "metadata": {
        "colab": {
          "base_uri": "https://localhost:8080/",
          "height": 80
        },
        "id": "q-x3sKylhva_",
        "outputId": "92c14ecb-09ee-41c8-ec53-7eba3c278449"
      },
      "source": [
        "df.loc[df[\"fascia_anagrafica\"] == \"12-19\"]"
      ],
      "execution_count": null,
      "outputs": [
        {
          "output_type": "execute_result",
          "data": {
            "text/html": [
              "<div>\n",
              "<style scoped>\n",
              "    .dataframe tbody tr th:only-of-type {\n",
              "        vertical-align: middle;\n",
              "    }\n",
              "\n",
              "    .dataframe tbody tr th {\n",
              "        vertical-align: top;\n",
              "    }\n",
              "\n",
              "    .dataframe thead th {\n",
              "        text-align: right;\n",
              "    }\n",
              "</style>\n",
              "<table border=\"1\" class=\"dataframe\">\n",
              "  <thead>\n",
              "    <tr style=\"text-align: right;\">\n",
              "      <th></th>\n",
              "      <th>fascia_anagrafica</th>\n",
              "      <th>totale</th>\n",
              "      <th>sesso_maschile</th>\n",
              "      <th>sesso_femminile</th>\n",
              "      <th>prima_dose</th>\n",
              "      <th>seconda_dose</th>\n",
              "      <th>pregressa_infezione</th>\n",
              "      <th>dose_aggiuntiva</th>\n",
              "      <th>dose_booster</th>\n",
              "      <th>ultimo_aggiornamento</th>\n",
              "    </tr>\n",
              "  </thead>\n",
              "  <tbody>\n",
              "    <tr>\n",
              "      <th>0</th>\n",
              "      <td>12-19</td>\n",
              "      <td>6308804</td>\n",
              "      <td>3231225</td>\n",
              "      <td>3077579</td>\n",
              "      <td>3238001</td>\n",
              "      <td>2964416</td>\n",
              "      <td>105254</td>\n",
              "      <td>821</td>\n",
              "      <td>312</td>\n",
              "      <td>2021-11-02</td>\n",
              "    </tr>\n",
              "  </tbody>\n",
              "</table>\n",
              "</div>"
            ],
            "text/plain": [
              "  fascia_anagrafica   totale  ...  dose_booster  ultimo_aggiornamento\n",
              "0             12-19  6308804  ...           312            2021-11-02\n",
              "\n",
              "[1 rows x 10 columns]"
            ]
          },
          "metadata": {},
          "execution_count": 3
        }
      ]
    },
    {
      "cell_type": "markdown",
      "metadata": {
        "id": "wAiKJVzYhykF"
      },
      "source": [
        "Visualizzare numero vaccinati maschi e femmine"
      ]
    },
    {
      "cell_type": "code",
      "metadata": {
        "colab": {
          "base_uri": "https://localhost:8080/",
          "height": 80
        },
        "id": "2Q9XUb_jh0he",
        "outputId": "007fad53-65d7-42ec-80c9-bca78c2dfa31"
      },
      "source": [
        "df.loc[df[\"fascia_anagrafica\"] == \"12-19\", [\"sesso_maschile\", \"sesso_femminile\"]]"
      ],
      "execution_count": null,
      "outputs": [
        {
          "output_type": "execute_result",
          "data": {
            "text/html": [
              "<div>\n",
              "<style scoped>\n",
              "    .dataframe tbody tr th:only-of-type {\n",
              "        vertical-align: middle;\n",
              "    }\n",
              "\n",
              "    .dataframe tbody tr th {\n",
              "        vertical-align: top;\n",
              "    }\n",
              "\n",
              "    .dataframe thead th {\n",
              "        text-align: right;\n",
              "    }\n",
              "</style>\n",
              "<table border=\"1\" class=\"dataframe\">\n",
              "  <thead>\n",
              "    <tr style=\"text-align: right;\">\n",
              "      <th></th>\n",
              "      <th>sesso_maschile</th>\n",
              "      <th>sesso_femminile</th>\n",
              "    </tr>\n",
              "  </thead>\n",
              "  <tbody>\n",
              "    <tr>\n",
              "      <th>0</th>\n",
              "      <td>3231225</td>\n",
              "      <td>3077579</td>\n",
              "    </tr>\n",
              "  </tbody>\n",
              "</table>\n",
              "</div>"
            ],
            "text/plain": [
              "   sesso_maschile  sesso_femminile\n",
              "0         3231225          3077579"
            ]
          },
          "metadata": {},
          "execution_count": 4
        }
      ]
    },
    {
      "cell_type": "markdown",
      "metadata": {
        "id": "bZXdAhwIh51C"
      },
      "source": [
        "Fascie d'eta con più di 10 milioni di vaccinazioni"
      ]
    },
    {
      "cell_type": "code",
      "metadata": {
        "colab": {
          "base_uri": "https://localhost:8080/"
        },
        "id": "zD8Nmj12h7xE",
        "outputId": "10ed5647-5fb7-423b-effb-5d14144090a3"
      },
      "source": [
        "df.loc[df[\"totale\"] >= 10000000, \"fascia_anagrafica\"]"
      ],
      "execution_count": null,
      "outputs": [
        {
          "output_type": "execute_result",
          "data": {
            "text/plain": [
              "2    30-39\n",
              "3    40-49\n",
              "4    50-59\n",
              "5    60-69\n",
              "6    70-79\n",
              "Name: fascia_anagrafica, dtype: object"
            ]
          },
          "metadata": {},
          "execution_count": 5
        }
      ]
    },
    {
      "cell_type": "markdown",
      "metadata": {
        "id": "dRpLm9G4h-0J"
      },
      "source": [
        "Fascie d'età dove son stati vaccinati tra i 10 e i 20 milioni"
      ]
    },
    {
      "cell_type": "code",
      "metadata": {
        "colab": {
          "base_uri": "https://localhost:8080/"
        },
        "id": "_KhAki9PiAf8",
        "outputId": "7eebfd85-c291-4a14-ca0f-1933aa206649"
      },
      "source": [
        "df.loc[(df[\"totale\"] < 20000000) & (df[\"totale\"] > 10000000), \"fascia_anagrafica\"]"
      ],
      "execution_count": null,
      "outputs": [
        {
          "output_type": "execute_result",
          "data": {
            "text/plain": [
              "2    30-39\n",
              "3    40-49\n",
              "4    50-59\n",
              "5    60-69\n",
              "6    70-79\n",
              "Name: fascia_anagrafica, dtype: object"
            ]
          },
          "metadata": {},
          "execution_count": 6
        }
      ]
    },
    {
      "cell_type": "markdown",
      "metadata": {
        "id": "9-9EK4qWK2nh"
      },
      "source": [
        "Aggiungere una colonna percentuale sesso maschile dove inserire la percentuale di maschi vaccinati sul totale."
      ]
    },
    {
      "cell_type": "code",
      "metadata": {
        "colab": {
          "base_uri": "https://localhost:8080/",
          "height": 328
        },
        "id": "sU62KyO8LHnW",
        "outputId": "18a964c9-33dd-4816-e18d-2c242a8b4460"
      },
      "source": [
        "df[\"%_sesso_maschile\"] = round(df['sesso_maschile'] *100 / df['totale'], 3)\n",
        "df"
      ],
      "execution_count": null,
      "outputs": [
        {
          "output_type": "execute_result",
          "data": {
            "text/html": [
              "<div>\n",
              "<style scoped>\n",
              "    .dataframe tbody tr th:only-of-type {\n",
              "        vertical-align: middle;\n",
              "    }\n",
              "\n",
              "    .dataframe tbody tr th {\n",
              "        vertical-align: top;\n",
              "    }\n",
              "\n",
              "    .dataframe thead th {\n",
              "        text-align: right;\n",
              "    }\n",
              "</style>\n",
              "<table border=\"1\" class=\"dataframe\">\n",
              "  <thead>\n",
              "    <tr style=\"text-align: right;\">\n",
              "      <th></th>\n",
              "      <th>fascia_anagrafica</th>\n",
              "      <th>totale</th>\n",
              "      <th>sesso_maschile</th>\n",
              "      <th>sesso_femminile</th>\n",
              "      <th>prima_dose</th>\n",
              "      <th>seconda_dose</th>\n",
              "      <th>pregressa_infezione</th>\n",
              "      <th>dose_aggiuntiva</th>\n",
              "      <th>dose_booster</th>\n",
              "      <th>ultimo_aggiornamento</th>\n",
              "      <th>%_sesso_maschile</th>\n",
              "    </tr>\n",
              "  </thead>\n",
              "  <tbody>\n",
              "    <tr>\n",
              "      <th>0</th>\n",
              "      <td>12-19</td>\n",
              "      <td>6308804</td>\n",
              "      <td>3231225</td>\n",
              "      <td>3077579</td>\n",
              "      <td>3238001</td>\n",
              "      <td>2964416</td>\n",
              "      <td>105254</td>\n",
              "      <td>821</td>\n",
              "      <td>312</td>\n",
              "      <td>2021-11-02</td>\n",
              "      <td>51.218</td>\n",
              "    </tr>\n",
              "    <tr>\n",
              "      <th>1</th>\n",
              "      <td>20-29</td>\n",
              "      <td>9952887</td>\n",
              "      <td>5205881</td>\n",
              "      <td>4747006</td>\n",
              "      <td>5087800</td>\n",
              "      <td>4627853</td>\n",
              "      <td>199645</td>\n",
              "      <td>4596</td>\n",
              "      <td>32993</td>\n",
              "      <td>2021-11-02</td>\n",
              "      <td>52.305</td>\n",
              "    </tr>\n",
              "    <tr>\n",
              "      <th>2</th>\n",
              "      <td>30-39</td>\n",
              "      <td>10635031</td>\n",
              "      <td>5461666</td>\n",
              "      <td>5173365</td>\n",
              "      <td>5430456</td>\n",
              "      <td>4938503</td>\n",
              "      <td>206543</td>\n",
              "      <td>8625</td>\n",
              "      <td>50904</td>\n",
              "      <td>2021-11-02</td>\n",
              "      <td>51.355</td>\n",
              "    </tr>\n",
              "    <tr>\n",
              "      <th>3</th>\n",
              "      <td>40-49</td>\n",
              "      <td>13841099</td>\n",
              "      <td>6870789</td>\n",
              "      <td>6970310</td>\n",
              "      <td>7004775</td>\n",
              "      <td>6464458</td>\n",
              "      <td>285732</td>\n",
              "      <td>20687</td>\n",
              "      <td>65447</td>\n",
              "      <td>2021-11-02</td>\n",
              "      <td>49.640</td>\n",
              "    </tr>\n",
              "    <tr>\n",
              "      <th>4</th>\n",
              "      <td>50-59</td>\n",
              "      <td>15894534</td>\n",
              "      <td>7798588</td>\n",
              "      <td>8095946</td>\n",
              "      <td>8034933</td>\n",
              "      <td>7373699</td>\n",
              "      <td>347997</td>\n",
              "      <td>44640</td>\n",
              "      <td>93265</td>\n",
              "      <td>2021-11-02</td>\n",
              "      <td>49.065</td>\n",
              "    </tr>\n",
              "    <tr>\n",
              "      <th>5</th>\n",
              "      <td>60-69</td>\n",
              "      <td>12936179</td>\n",
              "      <td>6280062</td>\n",
              "      <td>6656117</td>\n",
              "      <td>6543748</td>\n",
              "      <td>5963662</td>\n",
              "      <td>241135</td>\n",
              "      <td>66456</td>\n",
              "      <td>121178</td>\n",
              "      <td>2021-11-02</td>\n",
              "      <td>48.546</td>\n",
              "    </tr>\n",
              "    <tr>\n",
              "      <th>6</th>\n",
              "      <td>70-79</td>\n",
              "      <td>10890264</td>\n",
              "      <td>5118796</td>\n",
              "      <td>5771468</td>\n",
              "      <td>5397350</td>\n",
              "      <td>5166146</td>\n",
              "      <td>165200</td>\n",
              "      <td>73040</td>\n",
              "      <td>88528</td>\n",
              "      <td>2021-11-02</td>\n",
              "      <td>47.003</td>\n",
              "    </tr>\n",
              "    <tr>\n",
              "      <th>7</th>\n",
              "      <td>80-89</td>\n",
              "      <td>7696231</td>\n",
              "      <td>3216605</td>\n",
              "      <td>4479626</td>\n",
              "      <td>3454146</td>\n",
              "      <td>3391935</td>\n",
              "      <td>77326</td>\n",
              "      <td>41848</td>\n",
              "      <td>730976</td>\n",
              "      <td>2021-11-02</td>\n",
              "      <td>41.795</td>\n",
              "    </tr>\n",
              "    <tr>\n",
              "      <th>8</th>\n",
              "      <td>90+</td>\n",
              "      <td>1749934</td>\n",
              "      <td>524099</td>\n",
              "      <td>1225835</td>\n",
              "      <td>797864</td>\n",
              "      <td>769471</td>\n",
              "      <td>18893</td>\n",
              "      <td>7144</td>\n",
              "      <td>156562</td>\n",
              "      <td>2021-11-02</td>\n",
              "      <td>29.950</td>\n",
              "    </tr>\n",
              "  </tbody>\n",
              "</table>\n",
              "</div>"
            ],
            "text/plain": [
              "  fascia_anagrafica    totale  ...  ultimo_aggiornamento  %_sesso_maschile\n",
              "0             12-19   6308804  ...            2021-11-02            51.218\n",
              "1             20-29   9952887  ...            2021-11-02            52.305\n",
              "2             30-39  10635031  ...            2021-11-02            51.355\n",
              "3             40-49  13841099  ...            2021-11-02            49.640\n",
              "4             50-59  15894534  ...            2021-11-02            49.065\n",
              "5             60-69  12936179  ...            2021-11-02            48.546\n",
              "6             70-79  10890264  ...            2021-11-02            47.003\n",
              "7             80-89   7696231  ...            2021-11-02            41.795\n",
              "8               90+   1749934  ...            2021-11-02            29.950\n",
              "\n",
              "[9 rows x 11 columns]"
            ]
          },
          "metadata": {},
          "execution_count": 26
        }
      ]
    },
    {
      "cell_type": "markdown",
      "metadata": {
        "id": "USuQzIB_LHti"
      },
      "source": [
        "Fare la stessa cosa per le femmine."
      ]
    },
    {
      "cell_type": "code",
      "metadata": {
        "colab": {
          "base_uri": "https://localhost:8080/",
          "height": 328
        },
        "id": "e-orKizjLLVQ",
        "outputId": "3153df39-527b-4f5d-bac1-3282fbb84e34"
      },
      "source": [
        "df[\"%_sesso_femminile\"] = round(df['sesso_femminile'] *100 / df['totale'], 3)\n",
        "df"
      ],
      "execution_count": null,
      "outputs": [
        {
          "output_type": "execute_result",
          "data": {
            "text/html": [
              "<div>\n",
              "<style scoped>\n",
              "    .dataframe tbody tr th:only-of-type {\n",
              "        vertical-align: middle;\n",
              "    }\n",
              "\n",
              "    .dataframe tbody tr th {\n",
              "        vertical-align: top;\n",
              "    }\n",
              "\n",
              "    .dataframe thead th {\n",
              "        text-align: right;\n",
              "    }\n",
              "</style>\n",
              "<table border=\"1\" class=\"dataframe\">\n",
              "  <thead>\n",
              "    <tr style=\"text-align: right;\">\n",
              "      <th></th>\n",
              "      <th>fascia_anagrafica</th>\n",
              "      <th>totale</th>\n",
              "      <th>sesso_maschile</th>\n",
              "      <th>sesso_femminile</th>\n",
              "      <th>prima_dose</th>\n",
              "      <th>seconda_dose</th>\n",
              "      <th>pregressa_infezione</th>\n",
              "      <th>dose_aggiuntiva</th>\n",
              "      <th>dose_booster</th>\n",
              "      <th>ultimo_aggiornamento</th>\n",
              "      <th>%_sesso_maschile</th>\n",
              "      <th>%_sesso_femminile</th>\n",
              "    </tr>\n",
              "  </thead>\n",
              "  <tbody>\n",
              "    <tr>\n",
              "      <th>0</th>\n",
              "      <td>12-19</td>\n",
              "      <td>6308804</td>\n",
              "      <td>3231225</td>\n",
              "      <td>3077579</td>\n",
              "      <td>3238001</td>\n",
              "      <td>2964416</td>\n",
              "      <td>105254</td>\n",
              "      <td>821</td>\n",
              "      <td>312</td>\n",
              "      <td>2021-11-02</td>\n",
              "      <td>51.218</td>\n",
              "      <td>48.782</td>\n",
              "    </tr>\n",
              "    <tr>\n",
              "      <th>1</th>\n",
              "      <td>20-29</td>\n",
              "      <td>9952887</td>\n",
              "      <td>5205881</td>\n",
              "      <td>4747006</td>\n",
              "      <td>5087800</td>\n",
              "      <td>4627853</td>\n",
              "      <td>199645</td>\n",
              "      <td>4596</td>\n",
              "      <td>32993</td>\n",
              "      <td>2021-11-02</td>\n",
              "      <td>52.305</td>\n",
              "      <td>47.695</td>\n",
              "    </tr>\n",
              "    <tr>\n",
              "      <th>2</th>\n",
              "      <td>30-39</td>\n",
              "      <td>10635031</td>\n",
              "      <td>5461666</td>\n",
              "      <td>5173365</td>\n",
              "      <td>5430456</td>\n",
              "      <td>4938503</td>\n",
              "      <td>206543</td>\n",
              "      <td>8625</td>\n",
              "      <td>50904</td>\n",
              "      <td>2021-11-02</td>\n",
              "      <td>51.355</td>\n",
              "      <td>48.645</td>\n",
              "    </tr>\n",
              "    <tr>\n",
              "      <th>3</th>\n",
              "      <td>40-49</td>\n",
              "      <td>13841099</td>\n",
              "      <td>6870789</td>\n",
              "      <td>6970310</td>\n",
              "      <td>7004775</td>\n",
              "      <td>6464458</td>\n",
              "      <td>285732</td>\n",
              "      <td>20687</td>\n",
              "      <td>65447</td>\n",
              "      <td>2021-11-02</td>\n",
              "      <td>49.640</td>\n",
              "      <td>50.360</td>\n",
              "    </tr>\n",
              "    <tr>\n",
              "      <th>4</th>\n",
              "      <td>50-59</td>\n",
              "      <td>15894534</td>\n",
              "      <td>7798588</td>\n",
              "      <td>8095946</td>\n",
              "      <td>8034933</td>\n",
              "      <td>7373699</td>\n",
              "      <td>347997</td>\n",
              "      <td>44640</td>\n",
              "      <td>93265</td>\n",
              "      <td>2021-11-02</td>\n",
              "      <td>49.065</td>\n",
              "      <td>50.935</td>\n",
              "    </tr>\n",
              "    <tr>\n",
              "      <th>5</th>\n",
              "      <td>60-69</td>\n",
              "      <td>12936179</td>\n",
              "      <td>6280062</td>\n",
              "      <td>6656117</td>\n",
              "      <td>6543748</td>\n",
              "      <td>5963662</td>\n",
              "      <td>241135</td>\n",
              "      <td>66456</td>\n",
              "      <td>121178</td>\n",
              "      <td>2021-11-02</td>\n",
              "      <td>48.546</td>\n",
              "      <td>51.454</td>\n",
              "    </tr>\n",
              "    <tr>\n",
              "      <th>6</th>\n",
              "      <td>70-79</td>\n",
              "      <td>10890264</td>\n",
              "      <td>5118796</td>\n",
              "      <td>5771468</td>\n",
              "      <td>5397350</td>\n",
              "      <td>5166146</td>\n",
              "      <td>165200</td>\n",
              "      <td>73040</td>\n",
              "      <td>88528</td>\n",
              "      <td>2021-11-02</td>\n",
              "      <td>47.003</td>\n",
              "      <td>52.997</td>\n",
              "    </tr>\n",
              "    <tr>\n",
              "      <th>7</th>\n",
              "      <td>80-89</td>\n",
              "      <td>7696231</td>\n",
              "      <td>3216605</td>\n",
              "      <td>4479626</td>\n",
              "      <td>3454146</td>\n",
              "      <td>3391935</td>\n",
              "      <td>77326</td>\n",
              "      <td>41848</td>\n",
              "      <td>730976</td>\n",
              "      <td>2021-11-02</td>\n",
              "      <td>41.795</td>\n",
              "      <td>58.205</td>\n",
              "    </tr>\n",
              "    <tr>\n",
              "      <th>8</th>\n",
              "      <td>90+</td>\n",
              "      <td>1749934</td>\n",
              "      <td>524099</td>\n",
              "      <td>1225835</td>\n",
              "      <td>797864</td>\n",
              "      <td>769471</td>\n",
              "      <td>18893</td>\n",
              "      <td>7144</td>\n",
              "      <td>156562</td>\n",
              "      <td>2021-11-02</td>\n",
              "      <td>29.950</td>\n",
              "      <td>70.050</td>\n",
              "    </tr>\n",
              "  </tbody>\n",
              "</table>\n",
              "</div>"
            ],
            "text/plain": [
              "  fascia_anagrafica    totale  ...  %_sesso_maschile  %_sesso_femminile\n",
              "0             12-19   6308804  ...            51.218             48.782\n",
              "1             20-29   9952887  ...            52.305             47.695\n",
              "2             30-39  10635031  ...            51.355             48.645\n",
              "3             40-49  13841099  ...            49.640             50.360\n",
              "4             50-59  15894534  ...            49.065             50.935\n",
              "5             60-69  12936179  ...            48.546             51.454\n",
              "6             70-79  10890264  ...            47.003             52.997\n",
              "7             80-89   7696231  ...            41.795             58.205\n",
              "8               90+   1749934  ...            29.950             70.050\n",
              "\n",
              "[9 rows x 12 columns]"
            ]
          },
          "metadata": {},
          "execution_count": 27
        }
      ]
    },
    {
      "cell_type": "markdown",
      "metadata": {
        "id": "2r8_2TFELOt5"
      },
      "source": [
        "Visualizzare le fasce d'età in cui la percentuale di maschi vaccinati è maggiore di fermmine vaccinate."
      ]
    },
    {
      "cell_type": "code",
      "metadata": {
        "colab": {
          "base_uri": "https://localhost:8080/"
        },
        "id": "YeBTfYIpLXFo",
        "outputId": "908822e0-8dae-44ac-a9d1-193b1f6f4c0b"
      },
      "source": [
        "df.loc[df[\"%_sesso_maschile\"] > df[\"%_sesso_femminile\"], \"fascia_anagrafica\"]"
      ],
      "execution_count": null,
      "outputs": [
        {
          "output_type": "execute_result",
          "data": {
            "text/plain": [
              "0    12-19\n",
              "1    20-29\n",
              "2    30-39\n",
              "Name: fascia_anagrafica, dtype: object"
            ]
          },
          "metadata": {},
          "execution_count": 9
        }
      ]
    },
    {
      "cell_type": "markdown",
      "metadata": {
        "id": "e9uegnQ4LrsI"
      },
      "source": [
        "Visualizzare le fasce d'età dove la dose aggiuntiva è minore della dose booster."
      ]
    },
    {
      "cell_type": "code",
      "metadata": {
        "colab": {
          "base_uri": "https://localhost:8080/"
        },
        "id": "rVHbzp7XLtwz",
        "outputId": "0a8569e0-c7da-4002-eca8-ed29bdfe93af"
      },
      "source": [
        "df.loc[df[\"dose_aggiuntiva\"] < df[\"dose_booster\"], \"fascia_anagrafica\"]"
      ],
      "execution_count": null,
      "outputs": [
        {
          "output_type": "execute_result",
          "data": {
            "text/plain": [
              "1    20-29\n",
              "2    30-39\n",
              "3    40-49\n",
              "4    50-59\n",
              "5    60-69\n",
              "6    70-79\n",
              "7    80-89\n",
              "8      90+\n",
              "Name: fascia_anagrafica, dtype: object"
            ]
          },
          "metadata": {},
          "execution_count": 10
        }
      ]
    },
    {
      "cell_type": "markdown",
      "metadata": {
        "id": "tY5aeEJzLjgL"
      },
      "source": [
        "Sostituire al valore 90+ il valore 90-120"
      ]
    },
    {
      "cell_type": "code",
      "metadata": {
        "id": "HQBYkL3mLuZ3"
      },
      "source": [
        ""
      ],
      "execution_count": null,
      "outputs": []
    },
    {
      "cell_type": "markdown",
      "metadata": {
        "id": "Zo-EAGXsLuh7"
      },
      "source": [
        "Creare un nuovo dataframe contenente le prime 10 fasce anagrafiche."
      ]
    },
    {
      "cell_type": "code",
      "metadata": {
        "colab": {
          "base_uri": "https://localhost:8080/",
          "height": 328
        },
        "id": "wBAs21wdL3hR",
        "outputId": "0715af32-c19b-4e91-b9de-a1864d10ccc2"
      },
      "source": [
        "df2 = df.loc[:10,[\"fascia_anagrafica\"]]\n",
        "df2"
      ],
      "execution_count": null,
      "outputs": [
        {
          "output_type": "execute_result",
          "data": {
            "text/html": [
              "<div>\n",
              "<style scoped>\n",
              "    .dataframe tbody tr th:only-of-type {\n",
              "        vertical-align: middle;\n",
              "    }\n",
              "\n",
              "    .dataframe tbody tr th {\n",
              "        vertical-align: top;\n",
              "    }\n",
              "\n",
              "    .dataframe thead th {\n",
              "        text-align: right;\n",
              "    }\n",
              "</style>\n",
              "<table border=\"1\" class=\"dataframe\">\n",
              "  <thead>\n",
              "    <tr style=\"text-align: right;\">\n",
              "      <th></th>\n",
              "      <th>fascia_anagrafica</th>\n",
              "    </tr>\n",
              "  </thead>\n",
              "  <tbody>\n",
              "    <tr>\n",
              "      <th>0</th>\n",
              "      <td>12-19</td>\n",
              "    </tr>\n",
              "    <tr>\n",
              "      <th>1</th>\n",
              "      <td>20-29</td>\n",
              "    </tr>\n",
              "    <tr>\n",
              "      <th>2</th>\n",
              "      <td>30-39</td>\n",
              "    </tr>\n",
              "    <tr>\n",
              "      <th>3</th>\n",
              "      <td>40-49</td>\n",
              "    </tr>\n",
              "    <tr>\n",
              "      <th>4</th>\n",
              "      <td>50-59</td>\n",
              "    </tr>\n",
              "    <tr>\n",
              "      <th>5</th>\n",
              "      <td>60-69</td>\n",
              "    </tr>\n",
              "    <tr>\n",
              "      <th>6</th>\n",
              "      <td>70-79</td>\n",
              "    </tr>\n",
              "    <tr>\n",
              "      <th>7</th>\n",
              "      <td>80-89</td>\n",
              "    </tr>\n",
              "    <tr>\n",
              "      <th>8</th>\n",
              "      <td>90+</td>\n",
              "    </tr>\n",
              "  </tbody>\n",
              "</table>\n",
              "</div>"
            ],
            "text/plain": [
              "  fascia_anagrafica\n",
              "0             12-19\n",
              "1             20-29\n",
              "2             30-39\n",
              "3             40-49\n",
              "4             50-59\n",
              "5             60-69\n",
              "6             70-79\n",
              "7             80-89\n",
              "8               90+"
            ]
          },
          "metadata": {},
          "execution_count": 20
        }
      ]
    },
    {
      "cell_type": "markdown",
      "metadata": {
        "id": "kfac74htL3o2"
      },
      "source": [
        "Creare un nuovo dataframe contenente la fascia anagrafica e la prima e seconda dose."
      ]
    },
    {
      "cell_type": "code",
      "metadata": {
        "colab": {
          "base_uri": "https://localhost:8080/",
          "height": 328
        },
        "id": "tKNdrwSAL-XW",
        "outputId": "fa88c13b-a95c-4aba-962e-1055a76b58a7"
      },
      "source": [
        "df3 = df.loc[:,[\"fascia_anagrafica\", \"prima_dose\", \"seconda_dose\"]]\n",
        "df3"
      ],
      "execution_count": null,
      "outputs": [
        {
          "output_type": "execute_result",
          "data": {
            "text/html": [
              "<div>\n",
              "<style scoped>\n",
              "    .dataframe tbody tr th:only-of-type {\n",
              "        vertical-align: middle;\n",
              "    }\n",
              "\n",
              "    .dataframe tbody tr th {\n",
              "        vertical-align: top;\n",
              "    }\n",
              "\n",
              "    .dataframe thead th {\n",
              "        text-align: right;\n",
              "    }\n",
              "</style>\n",
              "<table border=\"1\" class=\"dataframe\">\n",
              "  <thead>\n",
              "    <tr style=\"text-align: right;\">\n",
              "      <th></th>\n",
              "      <th>fascia_anagrafica</th>\n",
              "      <th>prima_dose</th>\n",
              "      <th>seconda_dose</th>\n",
              "    </tr>\n",
              "  </thead>\n",
              "  <tbody>\n",
              "    <tr>\n",
              "      <th>0</th>\n",
              "      <td>12-19</td>\n",
              "      <td>3238001</td>\n",
              "      <td>2964416</td>\n",
              "    </tr>\n",
              "    <tr>\n",
              "      <th>1</th>\n",
              "      <td>20-29</td>\n",
              "      <td>5087800</td>\n",
              "      <td>4627853</td>\n",
              "    </tr>\n",
              "    <tr>\n",
              "      <th>2</th>\n",
              "      <td>30-39</td>\n",
              "      <td>5430456</td>\n",
              "      <td>4938503</td>\n",
              "    </tr>\n",
              "    <tr>\n",
              "      <th>3</th>\n",
              "      <td>40-49</td>\n",
              "      <td>7004775</td>\n",
              "      <td>6464458</td>\n",
              "    </tr>\n",
              "    <tr>\n",
              "      <th>4</th>\n",
              "      <td>50-59</td>\n",
              "      <td>8034933</td>\n",
              "      <td>7373699</td>\n",
              "    </tr>\n",
              "    <tr>\n",
              "      <th>5</th>\n",
              "      <td>60-69</td>\n",
              "      <td>6543748</td>\n",
              "      <td>5963662</td>\n",
              "    </tr>\n",
              "    <tr>\n",
              "      <th>6</th>\n",
              "      <td>70-79</td>\n",
              "      <td>5397350</td>\n",
              "      <td>5166146</td>\n",
              "    </tr>\n",
              "    <tr>\n",
              "      <th>7</th>\n",
              "      <td>80-89</td>\n",
              "      <td>3454146</td>\n",
              "      <td>3391935</td>\n",
              "    </tr>\n",
              "    <tr>\n",
              "      <th>8</th>\n",
              "      <td>90+</td>\n",
              "      <td>797864</td>\n",
              "      <td>769471</td>\n",
              "    </tr>\n",
              "  </tbody>\n",
              "</table>\n",
              "</div>"
            ],
            "text/plain": [
              "  fascia_anagrafica  prima_dose  seconda_dose\n",
              "0             12-19     3238001       2964416\n",
              "1             20-29     5087800       4627853\n",
              "2             30-39     5430456       4938503\n",
              "3             40-49     7004775       6464458\n",
              "4             50-59     8034933       7373699\n",
              "5             60-69     6543748       5963662\n",
              "6             70-79     5397350       5166146\n",
              "7             80-89     3454146       3391935\n",
              "8               90+      797864        769471"
            ]
          },
          "metadata": {},
          "execution_count": 21
        }
      ]
    },
    {
      "cell_type": "markdown",
      "metadata": {
        "id": "7kfVICnXMDoG"
      },
      "source": [
        "Eliminare dal dataframe i dati relativi alle persone tra 40-69 anni."
      ]
    },
    {
      "cell_type": "code",
      "metadata": {
        "id": "5iRaOPtNMJK1",
        "colab": {
          "base_uri": "https://localhost:8080/",
          "height": 235
        },
        "outputId": "1b3687de-2751-4e79-d65e-fec42b5c7f1c"
      },
      "source": [
        "df = df.drop(3)\n",
        "df = df.drop(4)\n",
        "df = df.drop(5)\n",
        "df"
      ],
      "execution_count": null,
      "outputs": [
        {
          "output_type": "execute_result",
          "data": {
            "text/html": [
              "<div>\n",
              "<style scoped>\n",
              "    .dataframe tbody tr th:only-of-type {\n",
              "        vertical-align: middle;\n",
              "    }\n",
              "\n",
              "    .dataframe tbody tr th {\n",
              "        vertical-align: top;\n",
              "    }\n",
              "\n",
              "    .dataframe thead th {\n",
              "        text-align: right;\n",
              "    }\n",
              "</style>\n",
              "<table border=\"1\" class=\"dataframe\">\n",
              "  <thead>\n",
              "    <tr style=\"text-align: right;\">\n",
              "      <th></th>\n",
              "      <th>fascia_anagrafica</th>\n",
              "      <th>totale</th>\n",
              "      <th>sesso_maschile</th>\n",
              "      <th>sesso_femminile</th>\n",
              "      <th>prima_dose</th>\n",
              "      <th>seconda_dose</th>\n",
              "      <th>pregressa_infezione</th>\n",
              "      <th>dose_aggiuntiva</th>\n",
              "      <th>dose_booster</th>\n",
              "      <th>ultimo_aggiornamento</th>\n",
              "      <th>%_sesso_maschile</th>\n",
              "      <th>%_sesso_femminile</th>\n",
              "    </tr>\n",
              "  </thead>\n",
              "  <tbody>\n",
              "    <tr>\n",
              "      <th>0</th>\n",
              "      <td>12-19</td>\n",
              "      <td>6308804</td>\n",
              "      <td>3231225</td>\n",
              "      <td>3077579</td>\n",
              "      <td>3238001</td>\n",
              "      <td>2964416</td>\n",
              "      <td>105254</td>\n",
              "      <td>821</td>\n",
              "      <td>312</td>\n",
              "      <td>2021-11-02</td>\n",
              "      <td>51.218</td>\n",
              "      <td>48.782</td>\n",
              "    </tr>\n",
              "    <tr>\n",
              "      <th>1</th>\n",
              "      <td>20-29</td>\n",
              "      <td>9952887</td>\n",
              "      <td>5205881</td>\n",
              "      <td>4747006</td>\n",
              "      <td>5087800</td>\n",
              "      <td>4627853</td>\n",
              "      <td>199645</td>\n",
              "      <td>4596</td>\n",
              "      <td>32993</td>\n",
              "      <td>2021-11-02</td>\n",
              "      <td>52.305</td>\n",
              "      <td>47.695</td>\n",
              "    </tr>\n",
              "    <tr>\n",
              "      <th>2</th>\n",
              "      <td>30-39</td>\n",
              "      <td>10635031</td>\n",
              "      <td>5461666</td>\n",
              "      <td>5173365</td>\n",
              "      <td>5430456</td>\n",
              "      <td>4938503</td>\n",
              "      <td>206543</td>\n",
              "      <td>8625</td>\n",
              "      <td>50904</td>\n",
              "      <td>2021-11-02</td>\n",
              "      <td>51.355</td>\n",
              "      <td>48.645</td>\n",
              "    </tr>\n",
              "    <tr>\n",
              "      <th>6</th>\n",
              "      <td>70-79</td>\n",
              "      <td>10890264</td>\n",
              "      <td>5118796</td>\n",
              "      <td>5771468</td>\n",
              "      <td>5397350</td>\n",
              "      <td>5166146</td>\n",
              "      <td>165200</td>\n",
              "      <td>73040</td>\n",
              "      <td>88528</td>\n",
              "      <td>2021-11-02</td>\n",
              "      <td>47.003</td>\n",
              "      <td>52.997</td>\n",
              "    </tr>\n",
              "    <tr>\n",
              "      <th>7</th>\n",
              "      <td>80-89</td>\n",
              "      <td>7696231</td>\n",
              "      <td>3216605</td>\n",
              "      <td>4479626</td>\n",
              "      <td>3454146</td>\n",
              "      <td>3391935</td>\n",
              "      <td>77326</td>\n",
              "      <td>41848</td>\n",
              "      <td>730976</td>\n",
              "      <td>2021-11-02</td>\n",
              "      <td>41.795</td>\n",
              "      <td>58.205</td>\n",
              "    </tr>\n",
              "    <tr>\n",
              "      <th>8</th>\n",
              "      <td>90+</td>\n",
              "      <td>1749934</td>\n",
              "      <td>524099</td>\n",
              "      <td>1225835</td>\n",
              "      <td>797864</td>\n",
              "      <td>769471</td>\n",
              "      <td>18893</td>\n",
              "      <td>7144</td>\n",
              "      <td>156562</td>\n",
              "      <td>2021-11-02</td>\n",
              "      <td>29.950</td>\n",
              "      <td>70.050</td>\n",
              "    </tr>\n",
              "  </tbody>\n",
              "</table>\n",
              "</div>"
            ],
            "text/plain": [
              "  fascia_anagrafica    totale  ...  %_sesso_maschile  %_sesso_femminile\n",
              "0             12-19   6308804  ...            51.218             48.782\n",
              "1             20-29   9952887  ...            52.305             47.695\n",
              "2             30-39  10635031  ...            51.355             48.645\n",
              "6             70-79  10890264  ...            47.003             52.997\n",
              "7             80-89   7696231  ...            41.795             58.205\n",
              "8               90+   1749934  ...            29.950             70.050\n",
              "\n",
              "[6 rows x 12 columns]"
            ]
          },
          "metadata": {},
          "execution_count": 28
        }
      ]
    },
    {
      "cell_type": "markdown",
      "metadata": {
        "id": "BNT8cQWzMJQl"
      },
      "source": [
        "Eliminare dal datframe le colonne sesso maschile e sesso femminile."
      ]
    },
    {
      "cell_type": "code",
      "metadata": {
        "id": "7M6zv-pzMQmj",
        "colab": {
          "base_uri": "https://localhost:8080/",
          "height": 235
        },
        "outputId": "a0b5277c-a041-4b25-fc6d-569d3c95eb33"
      },
      "source": [
        "df = df.drop(columns = [\"sesso_maschile\", \"sesso_femminile\"])\n",
        "df"
      ],
      "execution_count": null,
      "outputs": [
        {
          "output_type": "execute_result",
          "data": {
            "text/html": [
              "<div>\n",
              "<style scoped>\n",
              "    .dataframe tbody tr th:only-of-type {\n",
              "        vertical-align: middle;\n",
              "    }\n",
              "\n",
              "    .dataframe tbody tr th {\n",
              "        vertical-align: top;\n",
              "    }\n",
              "\n",
              "    .dataframe thead th {\n",
              "        text-align: right;\n",
              "    }\n",
              "</style>\n",
              "<table border=\"1\" class=\"dataframe\">\n",
              "  <thead>\n",
              "    <tr style=\"text-align: right;\">\n",
              "      <th></th>\n",
              "      <th>fascia_anagrafica</th>\n",
              "      <th>totale</th>\n",
              "      <th>prima_dose</th>\n",
              "      <th>seconda_dose</th>\n",
              "      <th>pregressa_infezione</th>\n",
              "      <th>dose_aggiuntiva</th>\n",
              "      <th>dose_booster</th>\n",
              "      <th>ultimo_aggiornamento</th>\n",
              "      <th>%_sesso_maschile</th>\n",
              "      <th>%_sesso_femminile</th>\n",
              "    </tr>\n",
              "  </thead>\n",
              "  <tbody>\n",
              "    <tr>\n",
              "      <th>0</th>\n",
              "      <td>12-19</td>\n",
              "      <td>6308804</td>\n",
              "      <td>3238001</td>\n",
              "      <td>2964416</td>\n",
              "      <td>105254</td>\n",
              "      <td>821</td>\n",
              "      <td>312</td>\n",
              "      <td>2021-11-02</td>\n",
              "      <td>51.218</td>\n",
              "      <td>48.782</td>\n",
              "    </tr>\n",
              "    <tr>\n",
              "      <th>1</th>\n",
              "      <td>20-29</td>\n",
              "      <td>9952887</td>\n",
              "      <td>5087800</td>\n",
              "      <td>4627853</td>\n",
              "      <td>199645</td>\n",
              "      <td>4596</td>\n",
              "      <td>32993</td>\n",
              "      <td>2021-11-02</td>\n",
              "      <td>52.305</td>\n",
              "      <td>47.695</td>\n",
              "    </tr>\n",
              "    <tr>\n",
              "      <th>2</th>\n",
              "      <td>30-39</td>\n",
              "      <td>10635031</td>\n",
              "      <td>5430456</td>\n",
              "      <td>4938503</td>\n",
              "      <td>206543</td>\n",
              "      <td>8625</td>\n",
              "      <td>50904</td>\n",
              "      <td>2021-11-02</td>\n",
              "      <td>51.355</td>\n",
              "      <td>48.645</td>\n",
              "    </tr>\n",
              "    <tr>\n",
              "      <th>6</th>\n",
              "      <td>70-79</td>\n",
              "      <td>10890264</td>\n",
              "      <td>5397350</td>\n",
              "      <td>5166146</td>\n",
              "      <td>165200</td>\n",
              "      <td>73040</td>\n",
              "      <td>88528</td>\n",
              "      <td>2021-11-02</td>\n",
              "      <td>47.003</td>\n",
              "      <td>52.997</td>\n",
              "    </tr>\n",
              "    <tr>\n",
              "      <th>7</th>\n",
              "      <td>80-89</td>\n",
              "      <td>7696231</td>\n",
              "      <td>3454146</td>\n",
              "      <td>3391935</td>\n",
              "      <td>77326</td>\n",
              "      <td>41848</td>\n",
              "      <td>730976</td>\n",
              "      <td>2021-11-02</td>\n",
              "      <td>41.795</td>\n",
              "      <td>58.205</td>\n",
              "    </tr>\n",
              "    <tr>\n",
              "      <th>8</th>\n",
              "      <td>90+</td>\n",
              "      <td>1749934</td>\n",
              "      <td>797864</td>\n",
              "      <td>769471</td>\n",
              "      <td>18893</td>\n",
              "      <td>7144</td>\n",
              "      <td>156562</td>\n",
              "      <td>2021-11-02</td>\n",
              "      <td>29.950</td>\n",
              "      <td>70.050</td>\n",
              "    </tr>\n",
              "  </tbody>\n",
              "</table>\n",
              "</div>"
            ],
            "text/plain": [
              "  fascia_anagrafica    totale  ...  %_sesso_maschile  %_sesso_femminile\n",
              "0             12-19   6308804  ...            51.218             48.782\n",
              "1             20-29   9952887  ...            52.305             47.695\n",
              "2             30-39  10635031  ...            51.355             48.645\n",
              "6             70-79  10890264  ...            47.003             52.997\n",
              "7             80-89   7696231  ...            41.795             58.205\n",
              "8               90+   1749934  ...            29.950             70.050\n",
              "\n",
              "[6 rows x 10 columns]"
            ]
          },
          "metadata": {},
          "execution_count": 29
        }
      ]
    }
  ]
}