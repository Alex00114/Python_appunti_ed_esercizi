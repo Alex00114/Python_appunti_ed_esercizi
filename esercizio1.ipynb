{
  "nbformat": 4,
  "nbformat_minor": 0,
  "metadata": {
    "colab": {
      "name": "esercizio1.ipynb",
      "provenance": [],
      "collapsed_sections": []
    },
    "kernelspec": {
      "name": "python3",
      "display_name": "Python 3"
    },
    "language_info": {
      "name": "python"
    }
  },
  "cells": [
    {
      "cell_type": "markdown",
      "metadata": {
        "id": "7Emt1Lt3iG3c"
      },
      "source": [
        "a. far inserire all'utente due valori interi"
      ]
    },
    {
      "cell_type": "code",
      "metadata": {
        "colab": {
          "base_uri": "https://localhost:8080/"
        },
        "id": "c0zAR7gYhYx2",
        "outputId": "402120c8-28b0-4d0c-dc07-796617ca9d85"
      },
      "source": [
        "x = int(input(\"Inserire primo valore intero \"))\n",
        "y = int(input(\"Inserire secondo valore intero \"))\n"
      ],
      "execution_count": 63,
      "outputs": [
        {
          "name": "stdout",
          "output_type": "stream",
          "text": [
            "Inserire primo valore intero 10\n",
            "Inserire secondo valore intero 3\n"
          ]
        }
      ]
    },
    {
      "cell_type": "markdown",
      "metadata": {
        "id": "QWksi_y4i0d7"
      },
      "source": [
        "b. effettuare le 4 operazioni aritmetiche tra i due numeri"
      ]
    },
    {
      "cell_type": "code",
      "metadata": {
        "colab": {
          "base_uri": "https://localhost:8080/"
        },
        "id": "e0yeJh-oi3gM",
        "outputId": "2efceebf-9fc7-4e79-8529-b603dc5ebb34"
      },
      "source": [
        "\n",
        "print(\"Som: \" + str(x + y))\n",
        "print(\"Sot: \" + str(x - y))\n",
        "print(\"Mol: \" + str(x * y))\n",
        "print(\"Div: \" + str(x + y))"
      ],
      "execution_count": 64,
      "outputs": [
        {
          "output_type": "stream",
          "name": "stdout",
          "text": [
            "Som: 13\n",
            "Sot: 7\n",
            "Mol: 30\n",
            "Div: 13\n"
          ]
        }
      ]
    },
    {
      "cell_type": "markdown",
      "metadata": {
        "id": "A3kfwxp3mxcL"
      },
      "source": [
        "c. effettuare l'elevamento a potenza del primo numero per il secondo"
      ]
    },
    {
      "cell_type": "code",
      "metadata": {
        "colab": {
          "base_uri": "https://localhost:8080/"
        },
        "id": "fWVz3Taym0kb",
        "outputId": "650ac61d-10fb-45ec-f004-604b3e6267bf"
      },
      "source": [
        "pow(x, y)\n"
      ],
      "execution_count": 65,
      "outputs": [
        {
          "output_type": "execute_result",
          "data": {
            "text/plain": [
              "1000"
            ]
          },
          "metadata": {},
          "execution_count": 65
        }
      ]
    },
    {
      "cell_type": "markdown",
      "metadata": {
        "id": "M0wLfUTPn669"
      },
      "source": [
        "d. effettuare il calcolo del resto della divisione tra il primo e il secondo numero"
      ]
    },
    {
      "cell_type": "code",
      "metadata": {
        "colab": {
          "base_uri": "https://localhost:8080/"
        },
        "id": "Z7_o2krIn9RU",
        "outputId": "d72e6f8e-44c3-4bc0-c50f-626e5d205ea5"
      },
      "source": [
        "x % y"
      ],
      "execution_count": 66,
      "outputs": [
        {
          "output_type": "execute_result",
          "data": {
            "text/plain": [
              "1"
            ]
          },
          "metadata": {},
          "execution_count": 66
        }
      ]
    },
    {
      "cell_type": "markdown",
      "metadata": {
        "id": "TQ7MxRCIrM7G"
      },
      "source": [
        "f. effettuare la divisione intera tra il primo e il secondo numero\n"
      ]
    },
    {
      "cell_type": "code",
      "metadata": {
        "colab": {
          "base_uri": "https://localhost:8080/"
        },
        "id": "baj6qMKcrTdE",
        "outputId": "1e55a4ac-7dd6-43de-eadf-4ac02ea28ecb"
      },
      "source": [
        "x // y"
      ],
      "execution_count": 67,
      "outputs": [
        {
          "output_type": "execute_result",
          "data": {
            "text/plain": [
              "3"
            ]
          },
          "metadata": {},
          "execution_count": 67
        }
      ]
    },
    {
      "cell_type": "markdown",
      "metadata": {
        "id": "yl2vjLgYrZWb"
      },
      "source": [
        "g. incrementare di una unità entrambi i numeri"
      ]
    },
    {
      "cell_type": "code",
      "metadata": {
        "colab": {
          "base_uri": "https://localhost:8080/"
        },
        "id": "Git6MWyTrZ3u",
        "outputId": "5961ccf5-90d2-4fe0-98ca-b429c45fe27d"
      },
      "source": [
        "x = x + 1\n",
        "y = y + 1\n",
        "print(\"Primo valore + 1 = \", x,)\n",
        "print(\"Secondo valore + 1 = \", y,)"
      ],
      "execution_count": 68,
      "outputs": [
        {
          "output_type": "stream",
          "name": "stdout",
          "text": [
            "Primo valore + 1 =  11\n",
            "Secondo valore + 1 =  4\n"
          ]
        }
      ]
    },
    {
      "cell_type": "markdown",
      "metadata": {
        "id": "NmeG8XRIr5IM"
      },
      "source": [
        "h. far inserie all'utente due valori: il primo rappresenta la sua altezza (in metri) e il secondo rappresenta il suo peso (in kg). Visualizzare poi l'IMC (google it...)"
      ]
    },
    {
      "cell_type": "code",
      "metadata": {
        "colab": {
          "base_uri": "https://localhost:8080/"
        },
        "id": "f8iUhYWpr509",
        "outputId": "61b6e22b-27c6-469f-86fa-f0c62afbafd4"
      },
      "source": [
        "altezza = int(input(\"Inserire propria altezza \"))\n",
        "peso = int(input(\"Inserire proprio peso \"))\n",
        "IMC = peso/pow(altezza/100, 2)\n",
        "print(IMC)"
      ],
      "execution_count": 91,
      "outputs": [
        {
          "output_type": "stream",
          "name": "stdout",
          "text": [
            "Inserire propria altezza 180\n",
            "Inserire proprio peso 78\n",
            "24.074074074074073\n"
          ]
        }
      ]
    },
    {
      "cell_type": "markdown",
      "metadata": {
        "id": "xbxybePuwpLl"
      },
      "source": [
        "i. arrotondare l'IMC precedente"
      ]
    },
    {
      "cell_type": "code",
      "metadata": {
        "colab": {
          "base_uri": "https://localhost:8080/"
        },
        "id": "kco5jC0Hwp6d",
        "outputId": "75117466-f52d-47fc-a942-ad4124bf6567"
      },
      "source": [
        "print(round(IMC))"
      ],
      "execution_count": 92,
      "outputs": [
        {
          "output_type": "stream",
          "name": "stdout",
          "text": [
            "24\n"
          ]
        }
      ]
    },
    {
      "cell_type": "markdown",
      "metadata": {
        "id": "ZjQv8pmuxL1j"
      },
      "source": [
        "j. visualizzare il proprio nome, cognome, data di nascita e città di nascita separando le informazioni con un trattino."
      ]
    },
    {
      "cell_type": "code",
      "metadata": {
        "colab": {
          "base_uri": "https://localhost:8080/"
        },
        "id": "p8tE-b19xMmL",
        "outputId": "2705d4a9-af8e-4303-b9a6-5bbcaa9b187f"
      },
      "source": [
        "print(\"Alessandro-\" \"Tag-\" \"25/10/2005-\"\"Milano\")"
      ],
      "execution_count": 93,
      "outputs": [
        {
          "output_type": "stream",
          "name": "stdout",
          "text": [
            "Alessandro-Tag-25/10/2005-Milano\n"
          ]
        }
      ]
    },
    {
      "cell_type": "markdown",
      "metadata": {
        "id": "wgYYSPXSxzCM"
      },
      "source": [
        "k. visualizzare le stesse informazioni per 10 volte di seguito"
      ]
    },
    {
      "cell_type": "code",
      "metadata": {
        "colab": {
          "base_uri": "https://localhost:8080/"
        },
        "id": "Q4hzWxgDxtgs",
        "outputId": "be18cdfb-b478-41ab-b6d1-afaed857c074"
      },
      "source": [
        "print(\"Alessandro-\" \"Tag-\" \"25/10/2005-\"\"Milano\" * 10) "
      ],
      "execution_count": 94,
      "outputs": [
        {
          "output_type": "stream",
          "name": "stdout",
          "text": [
            "Alessandro-Tag-25/10/2005-MilanoAlessandro-Tag-25/10/2005-MilanoAlessandro-Tag-25/10/2005-MilanoAlessandro-Tag-25/10/2005-MilanoAlessandro-Tag-25/10/2005-MilanoAlessandro-Tag-25/10/2005-MilanoAlessandro-Tag-25/10/2005-MilanoAlessandro-Tag-25/10/2005-MilanoAlessandro-Tag-25/10/2005-MilanoAlessandro-Tag-25/10/2005-Milano\n"
          ]
        }
      ]
    },
    {
      "cell_type": "markdown",
      "metadata": {
        "id": "rpeNlUk4x2gN"
      },
      "source": [
        "l. assegnare il proprio nome e cognome ad una stringa e visualizzarla con tutte le lettere maiuscole"
      ]
    },
    {
      "cell_type": "code",
      "metadata": {
        "colab": {
          "base_uri": "https://localhost:8080/"
        },
        "id": "1oeXrK-ax6ls",
        "outputId": "ae65f367-e9c0-4ed2-fad7-4b2ee0714b15"
      },
      "source": [
        "Nome = \"Alessandro\"\n",
        "Cognome = \"Tag\"\n",
        "print(Nome.upper )"
      ],
      "execution_count": 96,
      "outputs": [
        {
          "output_type": "stream",
          "name": "stdout",
          "text": [
            "<built-in method upper of str object at 0x7f8f878b3b30>\n"
          ]
        }
      ]
    }
  ]
}