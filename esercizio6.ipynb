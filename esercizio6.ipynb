{
  "nbformat": 4,
  "nbformat_minor": 0,
  "metadata": {
    "colab": {
      "name": "esercizio6.ipynb",
      "provenance": [],
      "collapsed_sections": []
    },
    "kernelspec": {
      "name": "python3",
      "display_name": "Python 3"
    },
    "language_info": {
      "name": "python"
    }
  },
  "cells": [
    {
      "cell_type": "markdown",
      "metadata": {
        "id": "-eiPltLsACwW"
      },
      "source": [
        "1. scrivere una funzione chiamata sommaTutti che permetta di sommare un numero arbitrario di valori interi passati come parametri. Scrivere poi un programma che permetta all'utente di inserire un numero variabile di interi e visualizzi la somma."
      ]
    },
    {
      "cell_type": "code",
      "metadata": {
        "colab": {
          "base_uri": "https://localhost:8080/"
        },
        "id": "f5D8FWBwAArI",
        "outputId": "3a0a2db0-293c-460b-ab35-6b79b9549050"
      },
      "source": [
        "def sommaTutti(x):\n",
        "  return sum(x)\n",
        "\n",
        "numeri = [int(s) for s in input(\"Inserisci valori: \").split()]\n",
        "sommaTutti(numeri)"
      ],
      "execution_count": null,
      "outputs": [
        {
          "name": "stdout",
          "output_type": "stream",
          "text": [
            "Inserisci valori: 10 55 35 22\n"
          ]
        },
        {
          "output_type": "execute_result",
          "data": {
            "text/plain": [
              "122"
            ]
          },
          "metadata": {},
          "execution_count": 9
        }
      ]
    },
    {
      "cell_type": "markdown",
      "metadata": {
        "id": "yNhTP-9uBBdc"
      },
      "source": [
        "2. scrivere una lambda function che calcoli la lunghezza della circonferenza di un cerchio dato il raggio. Utilizzarla poi in un programma che chieda all'utente il valore del raggio e visualizzi la lunghezza della circonferenza\n"
      ]
    },
    {
      "cell_type": "code",
      "metadata": {
        "colab": {
          "base_uri": "https://localhost:8080/"
        },
        "id": "UKWXTnKoBH3D",
        "outputId": "61a80831-f839-4638-ed73-7839546b8d3b"
      },
      "source": [
        "circonferenza = lambda x: x * (2*3.14)\n",
        "circonferenza(float(input(\"Inserisci valore del raggio: \")))"
      ],
      "execution_count": null,
      "outputs": [
        {
          "name": "stdout",
          "output_type": "stream",
          "text": [
            "Inserisci valore del raggio: 90\n"
          ]
        },
        {
          "output_type": "execute_result",
          "data": {
            "text/plain": [
              "565.2"
            ]
          },
          "metadata": {},
          "execution_count": 6
        }
      ]
    },
    {
      "cell_type": "markdown",
      "metadata": {
        "id": "RTgE4NI3DQr2"
      },
      "source": [
        "3. scrivere una funzione che calcoli il quadrato di un numero. Scrivere poi una funzione che calcoli la radice quadrata della somma di due numeri. Scrivere poi una lambda function che date le lunghezze di due cateti di un triangolo calcoli l'ipotenusa utilizzando le funzioni definite precedentemente. Utilizzare quest'ultima funzione in un programma che permetta all'utente di inserire le lunghezze dei cateti e di avere in risposta la lunghezza dell'ipotenusa di un triangolo rettangolo"
      ]
    },
    {
      "cell_type": "code",
      "metadata": {
        "id": "mxE5CZunDSNE",
        "colab": {
          "base_uri": "https://localhost:8080/"
        },
        "outputId": "64c07166-72ee-4e18-cd43-658edb8171d4"
      },
      "source": [
        "def quadrato(num):\n",
        "  return num * num\n",
        "\n",
        "def radice(num1, num2):\n",
        "  somma = num1 + num2\n",
        "  return somma **(1/2)\n",
        "\n",
        "ipotenusa = lambda x,y: radice(quadrato(x), quadrato(y))\n",
        "\n",
        "print(\"L'ipotenusa è \", ipotenusa(int(input(\"Inserisci primo cateto: \")),int(input(\"Inserisci secondo cateto: \"))))"
      ],
      "execution_count": 8,
      "outputs": [
        {
          "output_type": "stream",
          "name": "stdout",
          "text": [
            "Inserisci primo cateto: 3\n",
            "Inserisci secondo cateto: 2\n",
            "L'ipotenusa è  3.605551275463989\n"
          ]
        }
      ]
    },
    {
      "cell_type": "markdown",
      "metadata": {
        "id": "xD-O8sXVverR"
      },
      "source": [
        "4. Scrivere le funzioni quadrato, cubo e radiceQuadrata che calcolano il quadrato, il cubo e la radice quadrata di un numero intero. Scrivere poi un programma che, utilizzando un ciclo for, richiami le tre funzioni su un valore intero inserito dall'utente e visualizzi i tre risultati."
      ]
    },
    {
      "cell_type": "code",
      "metadata": {
        "colab": {
          "base_uri": "https://localhost:8080/"
        },
        "id": "gYCJrOAWvgOE",
        "outputId": "875bf3fc-9e96-41e9-bd78-e9f697d78826"
      },
      "source": [
        "def quadrato(num):\n",
        "  return num * num\n",
        "\n",
        "def cubo(num):\n",
        "  return num * (num * num)\n",
        "\n",
        "def radice(num):\n",
        "  return num **(1/2)\n",
        "\n",
        "numero = int(input(\"Inserisci numero: \"))\n",
        "\n",
        "for numero in (quadrato(numero), cubo(numero), radice(numero)):\n",
        "  print(numero) "
      ],
      "execution_count": 37,
      "outputs": [
        {
          "output_type": "stream",
          "name": "stdout",
          "text": [
            "Inserisci numero: 4\n",
            "16\n",
            "64\n",
            "2.0\n"
          ]
        }
      ]
    },
    {
      "cell_type": "markdown",
      "metadata": {
        "id": "cPhnXqqkxE1G"
      },
      "source": [
        "5. Utilizzando una lambda function, scrivere un programma che data una lista di numeri interi inserita dall'utente carichi in altre due liste i quadrati e i cubi dei numeri presenti nella lista inserita. Al termine, visualizzare le due liste."
      ]
    },
    {
      "cell_type": "code",
      "metadata": {
        "colab": {
          "base_uri": "https://localhost:8080/"
        },
        "id": "qbeRcdHSxGsM",
        "outputId": "faf8c174-6bd6-4651-c4d6-2f739f0da981"
      },
      "source": [
        "numeri = [int(s) for s in input(\"Inserisci valori: \").split()]\n",
        "\n",
        "quadrati = list(map(lambda x: x*x, numeri))\n",
        "cubi = list(map(lambda x: x*(x*x), numeri))\n",
        "\n",
        "print(quadrati)\n",
        "print(cubi)"
      ],
      "execution_count": 18,
      "outputs": [
        {
          "output_type": "stream",
          "name": "stdout",
          "text": [
            "Inserisci valori: 1 2 3 4\n",
            "[1, 4, 9, 16]\n",
            "[1, 8, 27, 64]\n"
          ]
        }
      ]
    },
    {
      "cell_type": "markdown",
      "metadata": {
        "id": "9l4y_NJ41z93"
      },
      "source": [
        "6. Utilizzando una lambda function, scrivere un programma che data una lista di numeri interi inserita dall'utente carichi in altre due liste i numeri pari e i numeri dispari presenti nella lista inserita. Al termine, visualizzare le due liste."
      ]
    },
    {
      "cell_type": "code",
      "metadata": {
        "colab": {
          "base_uri": "https://localhost:8080/"
        },
        "id": "_IU0AsQM17gT",
        "outputId": "47bad466-1a19-4b13-cd1c-eddb811397dc"
      },
      "source": [
        "numeri = [int(s) for s in input(\"Inserisci valori: \").split()]\n",
        "\n",
        "numeriPari = list(filter(lambda x: x%2==0, numeri))\n",
        "numeriDispari = list(filter(lambda x: x%2==1, numeri))\n",
        "\n",
        "print(numeriPari)\n",
        "print(numeriDispari)"
      ],
      "execution_count": 20,
      "outputs": [
        {
          "output_type": "stream",
          "name": "stdout",
          "text": [
            "Inserisci valori: 0 1 2 3 4 5 6 7 8 9\n",
            "[0, 2, 4, 6, 8]\n",
            "[1, 3, 5, 7, 9]\n"
          ]
        }
      ]
    },
    {
      "cell_type": "markdown",
      "metadata": {
        "id": "4hlytnpg2xip"
      },
      "source": [
        "7. Cercare su internet che cosa si intende per fattoriale di un numero. \n",
        "Scrivere poi una funzione ricorsiva che calcoli il fattoriale di un numero. Utilizzare poi la funzione creata per scrivere un programma che permetta all'utente di inserire un numero intero e che visualizzi il fattoriale di quel numero."
      ]
    },
    {
      "cell_type": "code",
      "metadata": {
        "colab": {
          "base_uri": "https://localhost:8080/"
        },
        "id": "wtfgA5KG23ZX",
        "outputId": "29aec6d2-72b7-4e6c-ebd7-1159f2e699b1"
      },
      "source": [
        "def fattoriale(x):\n",
        "  if x == 0:\n",
        "    return 1\n",
        "  else:\n",
        "    return x * fattoriale(x-1)\n",
        "\n",
        "numero = int(input(\"Inserisci numero: \"))\n",
        "print(\"Il fattoriale di\", numero, \"è\", fattoriale(numero))"
      ],
      "execution_count": 39,
      "outputs": [
        {
          "output_type": "stream",
          "name": "stdout",
          "text": [
            "Inserisci numero: 5\n",
            "Il fattoriale di 5 è 120\n"
          ]
        }
      ]
    },
    {
      "cell_type": "markdown",
      "metadata": {
        "id": "O989lTS16G-w"
      },
      "source": [
        "8. Svolgere l'esercizio 7, senza ricorsione"
      ]
    },
    {
      "cell_type": "code",
      "metadata": {
        "id": "JoIc_EU66Ihj"
      },
      "source": [
        ""
      ],
      "execution_count": null,
      "outputs": []
    },
    {
      "cell_type": "markdown",
      "metadata": {
        "id": "KQCvhspI6WCI"
      },
      "source": [
        "9. Cercare su internet che cosa sono i numeri di Fibonacci. Scrivere poi una funzione ricorsiva che calcoli l'n-esimo numero della sequenza di Fibonacci. Utilizzare poi la funzione creata per scrivere un programma che permetta all'utente di inserire un numero intero e che visualizzi il numero della sequenza di Fibonacci corrispondente."
      ]
    },
    {
      "cell_type": "code",
      "metadata": {
        "colab": {
          "base_uri": "https://localhost:8080/"
        },
        "id": "tFpUuhoi6X4N",
        "outputId": "fd29a45b-444a-4a45-e755-ca0924133484"
      },
      "source": [
        "def fib(x):\n",
        "  if x == 0:\n",
        "    return 0\n",
        "  elif x == 1:\n",
        "    return 1\n",
        "  else:\n",
        "    return fib(x-1) + fib(x-2)\n",
        "\n",
        "numero = int(input(\"Inserisci numero: \"))\n",
        "print(fib(numero))"
      ],
      "execution_count": 53,
      "outputs": [
        {
          "output_type": "stream",
          "name": "stdout",
          "text": [
            "Inserisci numero: 6\n",
            "8\n"
          ]
        }
      ]
    }
  ]
}