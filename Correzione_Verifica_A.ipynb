{
  "nbformat": 4,
  "nbformat_minor": 0,
  "metadata": {
    "colab": {
      "name": "Correzione Verifica A.ipynb",
      "provenance": [],
      "collapsed_sections": []
    },
    "kernelspec": {
      "name": "python3",
      "display_name": "Python 3"
    },
    "language_info": {
      "name": "python"
    }
  },
  "cells": [
    {
      "cell_type": "markdown",
      "metadata": {
        "id": "V7e_1Is_Y0uh"
      },
      "source": [
        "1. Srivere un programma che calcoli il volume di un parallelepipedo data la base, l’altezza e la profondità. I valori inseriti possono essere decimali e il risultato deve essere fornito con due cifre decimali. I valori della base, dell’altezza e della profondità devono essere inseriti dall’utente"
      ]
    },
    {
      "cell_type": "code",
      "metadata": {
        "colab": {
          "base_uri": "https://localhost:8080/"
        },
        "id": "_W3pkOp427Xc",
        "outputId": "8350f942-6a4c-4b75-ceeb-078ffbc5bc21"
      },
      "source": [
        "base = float(input(\"Inserisci base: \"))\n",
        "altezza = float(input(\"Inserisci altezza: \"))\n",
        "profondita = float(input(\"Inserisci profondità: \"))\n",
        "\n",
        "volume = base * altezza * profondita\n",
        "print(volume)"
      ],
      "execution_count": null,
      "outputs": [
        {
          "output_type": "stream",
          "name": "stdout",
          "text": [
            "Inserisci base: 8.98\n",
            "Inserisci altezza: 1.8765\n",
            "Inserisci profondità: 3\n",
            "50.55291\n"
          ]
        }
      ]
    },
    {
      "cell_type": "markdown",
      "metadata": {
        "id": "Zo1XTreRY7GJ"
      },
      "source": [
        "2. Modificare il programma precedente in modo che prima di effettuare il calcolo controlli che i valori inseriti dall’utente siano positivi. Visualizzare gli opportuni messaggi di errore a seconda del verificarsi delle diverse condizioni\n"
      ]
    },
    {
      "cell_type": "code",
      "metadata": {
        "colab": {
          "base_uri": "https://localhost:8080/"
        },
        "id": "n72bQDec4mqy",
        "outputId": "8d44fc49-a2d5-4d59-f97f-c56f1d3cd991"
      },
      "source": [
        "base = float(input(\"Inserisci base: \"))\n",
        "if base < 0:\n",
        "  print(\"dati non corretti\")\n",
        "else:\n",
        "  altezza = float(input(\"Inserisci altezza: \"))\n",
        "  if altezza < 0:\n",
        "    print(\"dati non corretti\")\n",
        "  else: \n",
        "    profondita = float(input(\"Inserisci profondità: \"))\n",
        "    if profondita < 0:\n",
        "      print(\"dati non corretti\")\n",
        "    else:\n",
        "      volume = base * altezza * profondita\n",
        "      print(round(volume,2))"
      ],
      "execution_count": null,
      "outputs": [
        {
          "output_type": "stream",
          "name": "stdout",
          "text": [
            "Inserisci base: 8.76\n",
            "Inserisci altezza: -5\n",
            "dati non corretti\n"
          ]
        }
      ]
    },
    {
      "cell_type": "markdown",
      "metadata": {
        "id": "VYEathboY_AJ"
      },
      "source": [
        "3. Scrivere un programma che permetta di visualizzare tutti i quadrati perfetti minori di un numero intero inserito dall’utente. I quadrati perfetti sono numeri interi che possono essere espressi come il quadrato di un numero intero. Ad esempio 9 è un quadrato perfetto perché è il quadrato del numero intero 3 mentre 8 non è un quadrato perfetto perché non è il quadrato di nessun numero intero)"
      ]
    },
    {
      "cell_type": "code",
      "metadata": {
        "colab": {
          "base_uri": "https://localhost:8080/"
        },
        "id": "fdmOP_UoUvtb",
        "outputId": "93fdc076-150b-43f6-b567-6b24d9bfdffd"
      },
      "source": [
        "numero = int(input(\"numero: \"))\n",
        "quadratiPerfetti = []\n",
        "i = 1\n",
        "\n",
        "while i*i < numero:\n",
        "  print(i*i)\n",
        "  i +=1"
      ],
      "execution_count": null,
      "outputs": [
        {
          "output_type": "stream",
          "name": "stdout",
          "text": [
            "numero: 20\n",
            "1\n",
            "4\n",
            "9\n",
            "16\n"
          ]
        }
      ]
    },
    {
      "cell_type": "markdown",
      "metadata": {
        "id": "1Rk_HdbIZKVp"
      },
      "source": [
        "4. Scrivere un programma che inserisca in una lista tutti i numeri interi compresi tra due estremi forniti dall’utente. Al termine, visualizzare la lista dei numeri e la lista al contrario"
      ]
    },
    {
      "cell_type": "code",
      "metadata": {
        "colab": {
          "base_uri": "https://localhost:8080/"
        },
        "id": "PMO_dP5V8ujZ",
        "outputId": "dafd8e19-ace2-49f8-90ae-8b12dda1fe78"
      },
      "source": [
        "estremo1 = int(input(\"Inserire primo estremo: \"))\n",
        "estremo2 = int(input(\"Inserire secondo estremo: \"))\n",
        "listaNumeri = [i for i in range(estremo1+1,estremo2)]\n",
        "\n",
        "print(listaNumeri)\n",
        "print(sorted(listaNumeri, reverse = True))"
      ],
      "execution_count": null,
      "outputs": [
        {
          "output_type": "stream",
          "name": "stdout",
          "text": [
            "Inserire primo estremo: 12\n",
            "Inserire secondo estremo: 24\n",
            "[13, 14, 15, 16, 17, 18, 19, 20, 21, 22, 23]\n",
            "[23, 22, 21, 20, 19, 18, 17, 16, 15, 14, 13]\n"
          ]
        }
      ]
    },
    {
      "cell_type": "markdown",
      "metadata": {
        "id": "hsimjrxEZokL"
      },
      "source": [
        "5. Scrivere un programma che carichi in una lista chiamata “tutti” i numeri pari compresi tra -30 e +30. Usando poi lo slicing, caricare in una lista chiamata “negativi” gli elementi della lista “tutti” minori di 0 e in una chiamata “positivi” gli elementi della lista “tutti” maggiori di zero. Al termine visualizzare le tre liste.."
      ]
    },
    {
      "cell_type": "code",
      "metadata": {
        "colab": {
          "base_uri": "https://localhost:8080/"
        },
        "id": "cx45GaOE-h_x",
        "outputId": "3330fcee-8948-48b8-f98c-9720c9ae2de8"
      },
      "source": [
        "tutti = [i for i in range(-30,30, 2)]\n",
        "negativi = tutti[:15]\n",
        "positivi = tutti[15:]\n",
        "\n",
        "print(tutti)\n",
        "print(negativi)\n",
        "print(positivi)"
      ],
      "execution_count": null,
      "outputs": [
        {
          "output_type": "stream",
          "name": "stdout",
          "text": [
            "[-30, -28, -26, -24, -22, -20, -18, -16, -14, -12, -10, -8, -6, -4, -2, 0, 2, 4, 6, 8, 10, 12, 14, 16, 18, 20, 22, 24, 26, 28]\n",
            "[-30, -28, -26, -24, -22, -20, -18, -16, -14, -12, -10, -8, -6, -4, -2]\n",
            "[0, 2, 4, 6, 8, 10, 12, 14, 16, 18, 20, 22, 24, 26, 28]\n"
          ]
        }
      ]
    },
    {
      "cell_type": "markdown",
      "metadata": {
        "id": "tdtdcGSZZ0pZ"
      },
      "source": [
        "6. Scrivere una funzione chiamata volumeSfera che dato il raggio in metri di una sfera calcoli il suo volume. Utilizzare poi quella funzione per scrivere un’altra funzione chiamata pesoSfera che permetta di calcolare il peso di una sfera dato il suo raggio in metri e la sua densità, espressa in grammi al centimetro cubo. Infine, scrivere un programma che calcoli il peso di una sfera di piombo del raggio di un metro (la densità del piombo è di 11.34 g/cm3)"
      ]
    },
    {
      "cell_type": "code",
      "metadata": {
        "colab": {
          "base_uri": "https://localhost:8080/"
        },
        "id": "1dDqIVS-CHtS",
        "outputId": "ba8f14a1-5f37-40f8-c91e-8755165ac96c"
      },
      "source": [
        "import math\n",
        "def volumeSfera(r):\n",
        "  volume = (4 * math.pi * pow(r, 3)) / 3\n",
        "  return volume\n",
        "def pesoSfera(r, d):\n",
        "  peso = d * volumeSfera(r)\n",
        "  return peso\n",
        "\n",
        "print(pesoSfera(1, 11.34*1000), \"kg\")"
      ],
      "execution_count": null,
      "outputs": [
        {
          "output_type": "stream",
          "name": "stdout",
          "text": [
            "47500.88092227767 kg\n"
          ]
        }
      ]
    },
    {
      "cell_type": "markdown",
      "metadata": {
        "id": "jN5azyCHaNhS"
      },
      "source": [
        "7. Data una lista di 100 numeri pari casuali caricata tramite una list comprehension, sostituire ogni elemento con il suo quadrato "
      ]
    },
    {
      "cell_type": "code",
      "metadata": {
        "id": "cIw8D6yaaRFC"
      },
      "source": [
        ""
      ],
      "execution_count": null,
      "outputs": []
    },
    {
      "cell_type": "markdown",
      "metadata": {
        "id": "fHrrvRraaRrZ"
      },
      "source": [
        "8. Data una lista di 100 numeri pari casuali caricata tramite una list comprehension, eliminare tutti gli elementi della lista che sono multipli di 6"
      ]
    },
    {
      "cell_type": "code",
      "metadata": {
        "id": "eXGTSlh7aW35"
      },
      "source": [
        ""
      ],
      "execution_count": null,
      "outputs": []
    },
    {
      "cell_type": "markdown",
      "metadata": {
        "id": "j42Iu-Rnajkp"
      },
      "source": [
        "9. Progettare una struttura dati che permetta di memorizzare l’orario di partenza e di arrivo dei treni della tratta Milano Roma dell’alta velocità. Ad esempio il treno 9645 parte alle 16.00 e arriva alle 19.10, il treno 9647 parte alle 16.30 e arriva alle 19.40 a Roma. Memorizzare nella struttura dati progettata queste informazioni e scrivere il codice necessario per cercare un treno ed avere l’ora di partenza e l’ora di arrivo. Se non c’è il treno che l’utente inserisce, dare un opportuno messaggio di errore.\n"
      ]
    },
    {
      "cell_type": "code",
      "metadata": {
        "colab": {
          "base_uri": "https://localhost:8080/"
        },
        "id": "9cykpLFwaqix",
        "outputId": "3049cf3d-6d3a-40e2-c1d0-27990f5bcbfe"
      },
      "source": [
        "treni = [{\"treno\" : \"9645\", \"partenza\" : \"16.00\", \"arrivo\" : \"19.10\"}, {\"treno\" : \"9647\", \"partenza\" : \"16.30\", \"arrivo\" : \"19.40\"}]\n",
        "treno = input(\"Inserisci treno: \")\n",
        "\n",
        "for train in treni:\n",
        "  if train[\"treno\"] == treno:\n",
        "    print(train[\"partenza\"], train[\"arrivo\"], sep = \"   \")\n",
        "    break\n",
        "  else:\n",
        "    print(\"Il treno inserito non esiste\")\n",
        "    break"
      ],
      "execution_count": null,
      "outputs": [
        {
          "output_type": "stream",
          "name": "stdout",
          "text": [
            "Inserisci treno: 9645\n",
            "16.00   19.10\n"
          ]
        }
      ]
    }
  ]
}