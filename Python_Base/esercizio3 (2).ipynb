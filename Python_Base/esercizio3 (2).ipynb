{
  "nbformat": 4,
  "nbformat_minor": 0,
  "metadata": {
    "colab": {
      "name": "esercizio3.ipynb",
      "provenance": [],
      "collapsed_sections": []
    },
    "kernelspec": {
      "name": "python3",
      "display_name": "Python 3"
    },
    "language_info": {
      "name": "python"
    }
  },
  "cells": [
    {
      "cell_type": "markdown",
      "metadata": {
        "id": "KNJtTR_pzKGr"
      },
      "source": [
        "1. Scrivere un programma che crei un dizionario contenente i nomi delle regioni e i nomi dei loro\n",
        "capoluoghi. Il nome della regione deve essere il campo chiave. Chiamare il dizionario\n",
        "capoluoghiRegione"
      ]
    },
    {
      "cell_type": "code",
      "metadata": {
        "id": "rWZkSJHCy--d"
      },
      "source": [
        "capoluoghiRegione = {\"Abruzzo\" :\t\"L'Aquila\", \"Basilicata\" : \"Potenza\", \"Calabria\" : \"Catanzaro\", \"Campania\" : \"Napoli\", \"Emilia-Romagna\" :\t\"Bologna\", \"Friuli-Venezia\" : \"Trieste\", \"Lazio\" :\t\"Roma\", \"Liguria\" :\t\"Genova\", \"Lombardia\" :\t\"Milano\", \"Marche\" : \"Ancona\", \"Molise\" :\t\"Campobasso\", \"Piemonte\"\t: \"Torino\", \"Puglia\" :\t\"Bari\", \"Sardegna\" :\t\"Cagliari\", \"Sicilia\" :\t\"Palermo\", \"Toscana\"\t: \"Firenze\", \"Trentino-Alto Adige\" :\t\"Trento\", \"Umbria\" :\t\"Perugia\", \"Valle d'Aosta\" :\t\"Aosta\", \"Veneto\" :\t\"Venezia\" }"
      ],
      "execution_count": 15,
      "outputs": []
    },
    {
      "cell_type": "markdown",
      "metadata": {
        "id": "LR8CrbRo1Prz"
      },
      "source": [
        "2. Scrivere un programma che visualizzi tutti i nomi delle regioni presenti in capoluoghiRegione"
      ]
    },
    {
      "cell_type": "code",
      "metadata": {
        "colab": {
          "base_uri": "https://localhost:8080/"
        },
        "id": "x_ZbtTna1SKT",
        "outputId": "fcd113be-3d4d-4ea8-9a71-c84c67b16e50"
      },
      "source": [
        "regioni = [k for k in capoluoghiRegione.keys()]\n",
        "print(regioni)"
      ],
      "execution_count": 17,
      "outputs": [
        {
          "output_type": "stream",
          "name": "stdout",
          "text": [
            "['Abruzzo', 'Basilicata', 'Calabria', 'Campania', 'Emilia-Romagna', 'Friuli-Venezia', 'Lazio', 'Liguria', 'Lombardia', 'Marche', 'Molise', 'Piemonte', 'Puglia', 'Sardegna', 'Sicilia', 'Toscana', 'Trentino-Alto Adige', 'Umbria', \"Valle d'Aosta\", 'Veneto']\n"
          ]
        }
      ]
    },
    {
      "cell_type": "markdown",
      "metadata": {
        "id": "vsk3MIqH3dak"
      },
      "source": [
        "3. Scrivere un programma che visualizzi tutti i nomi dei capoluoghi di regione presenti in\n",
        "capoluoghiRegione"
      ]
    },
    {
      "cell_type": "code",
      "metadata": {
        "colab": {
          "base_uri": "https://localhost:8080/"
        },
        "id": "4EYJN_Rz3eXD",
        "outputId": "a2743ad4-16b2-40b4-cb9e-d93aefd86627"
      },
      "source": [
        "capoluoghi = [ v for v in capoluoghiRegione.values() ]\n",
        "print(capoluoghi)"
      ],
      "execution_count": 23,
      "outputs": [
        {
          "output_type": "stream",
          "name": "stdout",
          "text": [
            "[\"L'Aquila\", 'Potenza', 'Catanzaro', 'Napoli', 'Bologna', 'Trieste', 'Roma', 'Genova', 'Milano', 'Ancona', 'Campobasso', 'Torino', 'Bari', 'Cagliari', 'Palermo', 'Firenze', 'Trento', 'Perugia', 'Aosta', 'Venezia']\n"
          ]
        }
      ]
    },
    {
      "cell_type": "markdown",
      "metadata": {
        "id": "oNyAzgX03nnc"
      },
      "source": [
        "4. Scrivere un programma che acquisisca dall’utente il nome di una regione e fornisca il nome del suo\n",
        "capoluogo."
      ]
    },
    {
      "cell_type": "code",
      "metadata": {
        "colab": {
          "base_uri": "https://localhost:8080/"
        },
        "id": "ZtZaWFaw3qfz",
        "outputId": "499a8b21-cddc-411d-8bb4-a4aa246858e0"
      },
      "source": [
        "regione = input(\"Inserire regione: \")\n",
        "print(capoluoghiRegione[regione])"
      ],
      "execution_count": null,
      "outputs": [
        {
          "output_type": "stream",
          "name": "stdout",
          "text": [
            "Inserire regione: Lombardia\n",
            "Milano\n"
          ]
        }
      ]
    },
    {
      "cell_type": "markdown",
      "metadata": {
        "id": "1d-MZ3ch4o-E"
      },
      "source": [
        "5. Scrivere un programma che acquisisca dall’utente il nome di un capoluogo e fornisca il nome della\n",
        "regione a cui appartiene."
      ]
    },
    {
      "cell_type": "code",
      "metadata": {
        "id": "0XPQdTlt4per",
        "colab": {
          "base_uri": "https://localhost:8080/"
        },
        "outputId": "463e9439-1c0e-4d43-9a3c-8a527c4c077a"
      },
      "source": [
        "capoluogo = input(\"Inserire capoluogo: \")\n",
        "for regioni,capoluoghi in capoluoghiRegione.items():\n",
        "  if capoluoghi==capoluogo:\n",
        "    print(regioni)"
      ],
      "execution_count": null,
      "outputs": [
        {
          "output_type": "stream",
          "name": "stdout",
          "text": [
            "Inserire capoluogo: Milano\n",
            "Lombardia\n"
          ]
        }
      ]
    },
    {
      "cell_type": "markdown",
      "metadata": {
        "id": "S_Diiyom4qoD"
      },
      "source": [
        "6. Scrivere un programma che visualizzi tutte le regioni con i rispettivi capoluoghi"
      ]
    },
    {
      "cell_type": "code",
      "metadata": {
        "colab": {
          "base_uri": "https://localhost:8080/"
        },
        "id": "6kqUILYI4sdL",
        "outputId": "00b0d51a-5c11-4dc6-8fb2-9cc3a4cb04a1"
      },
      "source": [
        "print(capoluoghiRegione)"
      ],
      "execution_count": null,
      "outputs": [
        {
          "output_type": "stream",
          "name": "stdout",
          "text": [
            "{'Abruzzo': \"L'Aquila\", 'Basilicata': 'Potenza', 'Calabria': 'Catanzaro', 'Campania': 'Napoli', 'Emilia-Romagna': 'Bologna', 'Friuli-Venezia': 'Trieste', 'Lazio': 'Roma', 'Liguria': 'Genova', 'Lombardia': 'Milano', 'Marche': 'Ancona', 'Molise': 'Campobasso', 'Piemonte': 'Torino', 'Puglia': 'Bari', 'Sardegna': 'Cagliari', 'Sicilia': 'Palermo', 'Toscana': 'Firenze', 'Trentino-Alto Adige': 'Trento', 'Umbria': 'Perugia', \"Valle d'Aosta\": 'Aosta', 'Veneto': 'Venezia'}\n"
          ]
        }
      ]
    },
    {
      "cell_type": "markdown",
      "metadata": {
        "id": "Oid_cXvh4xHk"
      },
      "source": [
        "7. Scrivere un programma che visualizzi tutte le regioni con i rispettivi capoluoghi. Ordinare le regioni\n",
        "in ordine alfabetico"
      ]
    },
    {
      "cell_type": "code",
      "metadata": {
        "id": "jTllWJeu4xhj",
        "colab": {
          "base_uri": "https://localhost:8080/"
        },
        "outputId": "616409fe-bbcb-4043-c16d-1e14b5a8b5d2"
      },
      "source": [
        "oridneAlfabeticoRegioni = capoluoghiRegione.items()\n",
        "print(sorted(oridneAlfabeticoRegioni))"
      ],
      "execution_count": null,
      "outputs": [
        {
          "output_type": "stream",
          "name": "stdout",
          "text": [
            "[('Abruzzo', \"L'Aquila\"), ('Basilicata', 'Potenza'), ('Calabria', 'Catanzaro'), ('Campania', 'Napoli'), ('Emilia-Romagna', 'Bologna'), ('Friuli-Venezia', 'Trieste'), ('Lazio', 'Roma'), ('Liguria', 'Genova'), ('Lombardia', 'Milano'), ('Marche', 'Ancona'), ('Molise', 'Campobasso'), ('Piemonte', 'Torino'), ('Puglia', 'Bari'), ('Sardegna', 'Cagliari'), ('Sicilia', 'Palermo'), ('Toscana', 'Firenze'), ('Trentino-Alto Adige', 'Trento'), ('Umbria', 'Perugia'), (\"Valle d'Aosta\", 'Aosta'), ('Veneto', 'Venezia')]\n"
          ]
        }
      ]
    },
    {
      "cell_type": "markdown",
      "metadata": {
        "id": "pA7FthrbjssA"
      },
      "source": [
        "8. Scrivere un programma che visualizzi tutte le regioni con i rispettivi capoluoghi. Ordinare i\n",
        "capoluoghi in ordine alfabetico"
      ]
    },
    {
      "cell_type": "code",
      "metadata": {
        "colab": {
          "base_uri": "https://localhost:8080/"
        },
        "id": "1OMVLKfIjxFM",
        "outputId": "e710d7d8-f1be-42fd-97bb-6911c23f234f"
      },
      "source": [
        "print(capoluoghiRegione)\n",
        "print(sorted(capoluoghi))"
      ],
      "execution_count": 24,
      "outputs": [
        {
          "output_type": "stream",
          "name": "stdout",
          "text": [
            "{'Abruzzo': \"L'Aquila\", 'Basilicata': 'Potenza', 'Calabria': 'Catanzaro', 'Campania': 'Napoli', 'Emilia-Romagna': 'Bologna', 'Friuli-Venezia': 'Trieste', 'Lazio': 'Roma', 'Liguria': 'Genova', 'Lombardia': 'Milano', 'Marche': 'Ancona', 'Molise': 'Campobasso', 'Piemonte': 'Torino', 'Puglia': 'Bari', 'Sardegna': 'Cagliari', 'Sicilia': 'Palermo', 'Toscana': 'Firenze', 'Trentino-Alto Adige': 'Trento', 'Umbria': 'Perugia', \"Valle d'Aosta\": 'Aosta', 'Veneto': 'Venezia'}\n",
            "['Ancona', 'Aosta', 'Bari', 'Bologna', 'Cagliari', 'Campobasso', 'Catanzaro', 'Firenze', 'Genova', \"L'Aquila\", 'Milano', 'Napoli', 'Palermo', 'Perugia', 'Potenza', 'Roma', 'Torino', 'Trento', 'Trieste', 'Venezia']\n"
          ]
        }
      ]
    },
    {
      "cell_type": "markdown",
      "metadata": {
        "id": "5U4n6Bf-lncw"
      },
      "source": [
        "9. Scrivere un programma che carichi in una lista i nomi delle regioni e in un’altra lista i nomi dei\n",
        "rispettivi capoluoghi. Scrivere poi l’istruzione che permette di costruire il dizionario a partire dalle\n",
        "due liste."
      ]
    },
    {
      "cell_type": "code",
      "metadata": {
        "colab": {
          "base_uri": "https://localhost:8080/"
        },
        "id": "8ppzfaumlpRG",
        "outputId": "9c726216-ec78-42d0-bb7b-479984b56f9e"
      },
      "source": [
        "listaRegioni = ['Abruzzo', 'Basilicata', 'Calabria', 'Campania', 'Emilia-Romagna', 'Friuli-Venezia', 'Lazio', 'Liguria', 'Lombardia', 'Marche', 'Molise', 'Piemonte', 'Puglia', 'Sardegna', 'Sicilia', 'Toscana', 'Trentino-Alto Adige', 'Umbria', \"Valle d'Aosta\", 'Veneto']\n",
        "listaCapoluoghi= [\"L'Aquila\", 'Potenza', 'Catanzaro', 'Napoli', 'Bologna', 'Trieste', 'Roma', 'Genova', 'Milano', 'Ancona', 'Campobasso', 'Torino', 'Bari', 'Cagliari', 'Palermo', 'Firenze', 'Trento', 'Perugia', 'Aosta', 'Venezia']\n",
        "dizionario = dict((listaRegioni,listaCapoluoghi) for listaRegioni,listaCapoluoghi in zip(listaRegioni,listaCapoluoghi))\n",
        "print(dizionario)"
      ],
      "execution_count": null,
      "outputs": [
        {
          "output_type": "stream",
          "name": "stdout",
          "text": [
            "{'Abruzzo': \"L'Aquila\", 'Basilicata': 'Potenza', 'Calabria': 'Catanzaro', 'Campania': 'Napoli', 'Emilia-Romagna': 'Bologna', 'Friuli-Venezia': 'Trieste', 'Lazio': 'Roma', 'Liguria': 'Genova', 'Lombardia': 'Milano', 'Marche': 'Ancona', 'Molise': 'Campobasso', 'Piemonte': 'Torino', 'Puglia': 'Bari', 'Sardegna': 'Cagliari', 'Sicilia': 'Palermo', 'Toscana': 'Firenze', 'Trentino-Alto Adige': 'Trento', 'Umbria': 'Perugia', \"Valle d'Aosta\": 'Aosta', 'Veneto': 'Venezia'}\n"
          ]
        }
      ]
    }
  ]
}