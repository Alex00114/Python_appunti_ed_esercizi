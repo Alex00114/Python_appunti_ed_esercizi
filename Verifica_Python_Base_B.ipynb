{
  "nbformat": 4,
  "nbformat_minor": 0,
  "metadata": {
    "colab": {
      "name": "Verifica Python Base B.ipynb",
      "provenance": []
    },
    "kernelspec": {
      "name": "python3",
      "display_name": "Python 3"
    },
    "language_info": {
      "name": "python"
    }
  },
  "cells": [
    {
      "cell_type": "markdown",
      "metadata": {
        "id": "h_yKoNjRHhxH"
      },
      "source": [
        "1. scrivere un programma che dato un indirizzo email nella forma nome.cognome@dominio visualizzi separatamente il nome, il cognome e il dominio"
      ]
    },
    {
      "cell_type": "code",
      "metadata": {
        "colab": {
          "base_uri": "https://localhost:8080/"
        },
        "id": "EpqtKqpNHk3p",
        "outputId": "3fd0cad5-6dbb-4388-ed82-296942a05522"
      },
      "source": [
        "indirizzo = \"nome.cognome@dominio\"\n",
        "indirizzo2 = str(indirizzo.split(\".\"))\n",
        "print(indirizzo2.split(\"@\"))"
      ],
      "execution_count": null,
      "outputs": [
        {
          "output_type": "stream",
          "name": "stdout",
          "text": [
            "[\"['nome', 'cognome\", \"dominio']\"]\n"
          ]
        }
      ]
    },
    {
      "cell_type": "markdown",
      "metadata": {
        "id": "ldlyfCu_I9kI"
      },
      "source": [
        "2. Scrivere un programma che permetta di stabilire se un numero pari è divisibile per 6. L’utente inserisce il numero e il programma, una volta controllato che sia pari, controlla anche se è divisibile per 6."
      ]
    },
    {
      "cell_type": "code",
      "metadata": {
        "colab": {
          "base_uri": "https://localhost:8080/"
        },
        "id": "jb63PPmJJBZX",
        "outputId": "528eac98-7c6e-4f62-b5a0-086ca9836c08"
      },
      "source": [
        "numero = int(input(\"Inserisci numero: \"))\n",
        "if numero%2==0:\n",
        "  if numero%6==0:\n",
        "    print(\"numero valido\")\n",
        "  else:\n",
        "    print(\"numero non valido\")\n",
        "else: \n",
        "  print(\"numero non valido\")"
      ],
      "execution_count": null,
      "outputs": [
        {
          "output_type": "stream",
          "name": "stdout",
          "text": [
            "Inserisci numero: 18\n",
            "numero valido\n"
          ]
        }
      ]
    },
    {
      "cell_type": "markdown",
      "metadata": {
        "id": "WBcKXlAqKORu"
      },
      "source": [
        "3. Scrivere un programma per verificare se una parola contiene solo vocali."
      ]
    },
    {
      "cell_type": "code",
      "metadata": {
        "colab": {
          "base_uri": "https://localhost:8080/"
        },
        "id": "UqwRI2UIKRIh",
        "outputId": "2ec46da6-da98-497a-ed95-94e9fe281625"
      },
      "source": [
        "parola = str(input(\"Inserisci parola: \"))\n",
        "vocali = set(\"aeiou\")\n",
        "contatore = 0\n",
        "for i in parola:\n",
        "  if i in vocali:\n",
        "    contatore+=1\n",
        "\n",
        "if contatore == len(parola):\n",
        "  print(\"solo vocali\")\n",
        "else:\n",
        "  print(\"anche consonanti\")"
      ],
      "execution_count": null,
      "outputs": [
        {
          "output_type": "stream",
          "name": "stdout",
          "text": [
            "Inserisci parola: aoieu\n",
            "solo vocali\n"
          ]
        }
      ]
    },
    {
      "cell_type": "markdown",
      "metadata": {
        "id": "CSFsJEWXNP9M"
      },
      "source": [
        "4. Scrivere un programma che permetta di caricare una lista di parole e che elimini dalla lista tutte le parole più lunghe di un valore inserito dall’utente"
      ]
    },
    {
      "cell_type": "code",
      "metadata": {
        "colab": {
          "base_uri": "https://localhost:8080/"
        },
        "id": "xZo3893ANSvE",
        "outputId": "db451b13-0200-4094-894a-8bf65620b2b0"
      },
      "source": [
        "listaParole = [\"albero\", \"mucca\", \"lampo\", \"tastiera\", \"anatra\", \"alto\"]\n",
        "valore = int(input(\"Inserisci valore: \"))\n",
        "\n",
        "elimina = list(filter(lambda x: len(x)<valore, listaParole ))\n",
        "print(elimina)"
      ],
      "execution_count": null,
      "outputs": [
        {
          "output_type": "stream",
          "name": "stdout",
          "text": [
            "Inserisci valore: 6\n",
            "['mucca', 'lampo', 'alto']\n"
          ]
        }
      ]
    },
    {
      "cell_type": "markdown",
      "metadata": {
        "id": "YmFRnD41PjS9"
      },
      "source": [
        "5. Scrivere una funzione che data una parola restituisca la stessa parola con i caratteri separati da uno spazio"
      ]
    },
    {
      "cell_type": "code",
      "metadata": {
        "id": "RLK6uF7DPmMl",
        "outputId": "262e4ea3-f8da-42f4-ce21-08d0ec0ef50f",
        "colab": {
          "base_uri": "https://localhost:8080/"
        }
      },
      "source": [
        "parola = \"pianta\"\n",
        "def parolaDivisa(parola):\n",
        "  return list(parola)\n",
        "\n",
        "parolaDivisa(parola)"
      ],
      "execution_count": 7,
      "outputs": [
        {
          "output_type": "execute_result",
          "data": {
            "text/plain": [
              "['p', 'i', 'a', 'n', 't', 'a']"
            ]
          },
          "metadata": {},
          "execution_count": 7
        }
      ]
    },
    {
      "cell_type": "markdown",
      "metadata": {
        "id": "aa6fS5OP0ReB"
      },
      "source": [
        "6. Scrivere un programma che utilizzando la funzione precedente inserisca uno spazio tra i caratteri di tutte le parole presenti in una stringa"
      ]
    },
    {
      "cell_type": "code",
      "metadata": {
        "id": "8JqajQ8X0WSC",
        "outputId": "5c3d547c-f885-4049-cc1f-d4d908ddbf59",
        "colab": {
          "base_uri": "https://localhost:8080/"
        }
      },
      "source": [
        "stringa = \"oggi fa più caldo rispetto a ieri\"\n",
        "\n",
        "print(parolaDivisa(stringa))"
      ],
      "execution_count": 9,
      "outputs": [
        {
          "output_type": "stream",
          "name": "stdout",
          "text": [
            "['o', 'g', 'g', 'i', ' ', 'f', 'a', ' ', 'p', 'i', 'ù', ' ', 'c', 'a', 'l', 'd', 'o', ' ', 'r', 'i', 's', 'p', 'e', 't', 't', 'o', ' ', 'a', ' ', 'i', 'e', 'r', 'i']\n"
          ]
        }
      ]
    },
    {
      "cell_type": "markdown",
      "metadata": {
        "id": "UniRMRjz1KHS"
      },
      "source": [
        "7. Scrivere un programma che utilizzando una lambda function  sostituisca ad ogni elemento di una lista di parole la lunghezza delle parole stesse. Ad esempio se la lista fosse [‘mamma’, ‘stella’, ‘casa’] la lista finale dovrebbe essere [5, 5, 4]"
      ]
    },
    {
      "cell_type": "code",
      "metadata": {
        "id": "cjE38Uz51YIi",
        "outputId": "6fc66825-f9da-4fc7-b23c-8f0b7815458b",
        "colab": {
          "base_uri": "https://localhost:8080/"
        }
      },
      "source": [
        "listaParole = [\"albero\", \"mucca\", \"lampo\", \"tastiera\"]\n",
        "lunghezza = list(map(lambda x: len(x), listaParole))\n",
        "\n",
        "print(lunghezza)"
      ],
      "execution_count": 13,
      "outputs": [
        {
          "output_type": "stream",
          "name": "stdout",
          "text": [
            "[6, 5, 5, 8]\n"
          ]
        }
      ]
    },
    {
      "cell_type": "markdown",
      "metadata": {
        "id": "vojQuer_17Yz"
      },
      "source": [
        "8. Scrivere un programma che utilizzando una lambda function elimini da una lista di parole tutte quelle più corte di un valore inserito dall’utente.  Ad esempio se la lista fosse [‘tre’, ‘stella’, ‘casa’] e l’utente inserisse il valore 5, la lista finale dovrebbe essere [‘stella’]"
      ]
    },
    {
      "cell_type": "code",
      "metadata": {
        "id": "CVkx0hxL19nY",
        "outputId": "a3ea86e7-5af2-4258-ac36-c417aff5c6d1",
        "colab": {
          "base_uri": "https://localhost:8080/"
        }
      },
      "source": [
        "listaParole = [\"albero\", \"mucca\", \"lampo\", \"tastiera\"]\n",
        "valore = int(input(\"Inserisci valore: \"))\n",
        "\n",
        "elimina = list(filter(lambda x: len(x)>=valore, listaParole ))\n",
        "print(elimina)"
      ],
      "execution_count": 16,
      "outputs": [
        {
          "output_type": "stream",
          "name": "stdout",
          "text": [
            "Inserisci valore: 6\n",
            "['albero', 'tastiera']\n"
          ]
        }
      ]
    },
    {
      "cell_type": "markdown",
      "metadata": {
        "id": "Z0_pvqz52jd8"
      },
      "source": [
        "9. Il centro vaccinale Covid di Milano vuole memorizzare le informazioni dei cittadini che si sono vaccinati. Le informazioni da inserire sono il codice fiscale del cittadino, le date in cui ha fatto la vaccinazione e il vaccino utilizzato. Caricare in una struttura dati apposita i codici fiscali dei cittadini (solo due codici) e le vaccinazioni effettuate (solo due vaccinazioni) e permettere di avere le informazioni relative ad un cittadino di cui si inserisce il codice fiscle. Inventare ovviamente tutte le informazioni."
      ]
    },
    {
      "cell_type": "code",
      "metadata": {
        "id": "BaI81XU92mxc",
        "outputId": "4f1fa34a-0ede-4617-b95d-49c507c7510f",
        "colab": {
          "base_uri": "https://localhost:8080/"
        }
      },
      "source": [
        "vaccinati = [{\"codice fiscale\" : \"RSSMRA78H14F205D\", \"data della vaccinazione\" : \"22/09/2021\", \"vaccino utilizzato\" : \"pfizer\"}, {\"codice fiscale\":\"BNCLCU93A07F205P\", \"data della vaccinazione\" : \"17/10/2021\",  \"vaccino utilizzato\" : \"pfizer\"}]\n",
        "codiceFiscale = input(\"Inserisci codice fiscale: \")\n",
        "\n",
        "for codiceFisc in vaccinati:\n",
        "  if codiceFisc[\"codice fiscale\"] == codiceFiscale:\n",
        "    print(codiceFisc[\"data della vaccinazione\"], codiceFisc[\"vaccino utilizzato\"], sep = \"   \")"
      ],
      "execution_count": 20,
      "outputs": [
        {
          "output_type": "stream",
          "name": "stdout",
          "text": [
            "Inserisci codice fiscale: RSSMRA78H14F205D\n",
            "22/09/2021   pfizer\n"
          ]
        }
      ]
    }
  ]
}