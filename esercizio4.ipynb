{
  "nbformat": 4,
  "nbformat_minor": 0,
  "metadata": {
    "colab": {
      "name": "esrcizio4.ipynb",
      "provenance": [],
      "collapsed_sections": []
    },
    "kernelspec": {
      "name": "python3",
      "display_name": "Python 3"
    },
    "language_info": {
      "name": "python"
    }
  },
  "cells": [
    {
      "cell_type": "markdown",
      "metadata": {
        "id": "w1qq9VMltFK0"
      },
      "source": [
        "1. scrivere una funzione chiamata media che dati due numeri restituisca la media. Utilizzare poi la funzione in un programma che acquisisca dall'utente due numeri e calcoli la media"
      ]
    },
    {
      "cell_type": "code",
      "metadata": {
        "colab": {
          "base_uri": "https://localhost:8080/"
        },
        "id": "sF_-lVfPtA_N",
        "outputId": "3f221500-1933-45b4-a2f7-b17006c159cd"
      },
      "source": [
        "def media(x, y):\n",
        "  z = (x + y) / 2\n",
        "  return z\n",
        "media(float(input(\"Inserire primo numero: \")), float(input(\"Inserire secondo numero: \")))"
      ],
      "execution_count": null,
      "outputs": [
        {
          "name": "stdout",
          "output_type": "stream",
          "text": [
            "Inserire primo numero: 4.5\n",
            "Inserire secondo numero: 3.5\n"
          ]
        },
        {
          "output_type": "execute_result",
          "data": {
            "text/plain": [
              "4.0"
            ]
          },
          "metadata": {},
          "execution_count": 73
        }
      ]
    },
    {
      "cell_type": "markdown",
      "metadata": {
        "id": "kjDfz0MotzwU"
      },
      "source": [
        "2. scrivere una funzione chiamata piuCorta che date due liste restituisca la lista con meno elementi. Utilizzare poi la funzione in un programma che acquisisca dall'utente due liste e visualizzi gli elementi della lista più corta."
      ]
    },
    {
      "cell_type": "code",
      "metadata": {
        "colab": {
          "base_uri": "https://localhost:8080/"
        },
        "id": "haylVdn75dLK",
        "outputId": "ea413607-6c54-40c1-8293-620298a906c8"
      },
      "source": [
        "def piuCorta(lista1, lista2):\n",
        "  if len(lista1) > len(lista2):\n",
        "    return lista2\n",
        "  else:\n",
        "    return lista1\n",
        "\n",
        "lst = []\n",
        "n = int(input(\"Inserisci il numero di elementi: \"))\n",
        "for i in range(0, n):\n",
        "   element = str(input())\n",
        "   lst.append(element)\n",
        "\n",
        "lst2 = []\n",
        "n2 = int(input(\"Inserisci il numero di elementi: \"))\n",
        "for i in range(0, n2):\n",
        "   element2 = str(input())\n",
        "   lst2.append(element2)\n",
        "print(\"La lista più corta è \", piuCorta(lst, lst2))"
      ],
      "execution_count": null,
      "outputs": [
        {
          "output_type": "stream",
          "name": "stdout",
          "text": [
            "Inserisci il numero di elementi: 2\n",
            "a\n",
            "b\n",
            "Inserisci il numero di elementi: 4\n",
            "c\n",
            "e\n",
            "f\n",
            "g\n",
            "La lista più corta è  ['a', 'b']\n"
          ]
        }
      ]
    },
    {
      "cell_type": "markdown",
      "metadata": {
        "id": "hBynoU4420H8"
      },
      "source": [
        "3. scrivere una funzione chiamata costruisciLista che dati due numeri interi restituisca la lista formata da tutti i numeri interi compresi tra i due numeri dati. Utilizzare poi la funzione in un programma che acquisisca dall'utente due numeri e visualizzi la lista formata da tutti i numeri interi compresi tra i due numeri dati ma a partire dal più grande fino al più piccolo."
      ]
    },
    {
      "cell_type": "code",
      "metadata": {
        "colab": {
          "base_uri": "https://localhost:8080/"
        },
        "id": "JEPqflpY2G9_",
        "outputId": "f3a1051b-3cf8-4411-f46f-018e0e37f42d"
      },
      "source": [
        "def costruisciLista(x,y):\n",
        "  z = [i for i in range(x+1,y)]\n",
        "  z.reverse()\n",
        "  return z\n",
        "costruisciLista(int(input(\"Inserire primo numero: \")), int(input(\"Inserire secondo numero: \")))"
      ],
      "execution_count": null,
      "outputs": [
        {
          "name": "stdout",
          "output_type": "stream",
          "text": [
            "Inserire primo numero: 5\n",
            "Inserire secondo numero: 12\n"
          ]
        },
        {
          "output_type": "execute_result",
          "data": {
            "text/plain": [
              "[11, 10, 9, 8, 7, 6]"
            ]
          },
          "metadata": {},
          "execution_count": 78
        }
      ]
    },
    {
      "cell_type": "markdown",
      "metadata": {
        "id": "9ZYQt4X23vHl"
      },
      "source": [
        "4. scrivere una funzione chiamata valoreAssoluto che dato un numero restituisca il suo valore assoluto. Utilizzare poi questa funzione per determinare il valore assoluto degli elementi di una lista inserita dall'utente."
      ]
    },
    {
      "cell_type": "code",
      "metadata": {
        "id": "mD3-edES3xGF",
        "colab": {
          "base_uri": "https://localhost:8080/"
        },
        "outputId": "7bae411d-cc2f-422a-fd0a-f7b983ce0bfa"
      },
      "source": [
        "def valoreAssoluto(num1):\n",
        "  num1 = abs(num1)\n",
        "  return num1\n",
        "\n",
        "lst = []\n",
        "n = int(input(\"Inserisci il numero di elementi: \"))\n",
        "for i in range(0, n):\n",
        "   element = int(input(\"Inserire numero: \"))\n",
        "   lst.append(element)\n",
        "\n",
        "for j in range(0, n):\n",
        "  print(\"Valore assoluto: \", valoreAssoluto(lst[j]))"
      ],
      "execution_count": null,
      "outputs": [
        {
          "output_type": "stream",
          "name": "stdout",
          "text": [
            "Inserisci il numero di elementi: 3\n",
            "Inserire numero: -19\n",
            "Inserire numero: -25\n",
            "Inserire numero: -18\n",
            "Valore assoluto:  19\n",
            "Valore assoluto:  25\n",
            "Valore assoluto:  18\n"
          ]
        }
      ]
    },
    {
      "cell_type": "markdown",
      "metadata": {
        "id": "39fLQCTv_yum"
      },
      "source": [
        "5. scrivere una funzione chiamata scambia che data una lista scambi il primo elemento con l'ultimo, il secondo con il penultimo e così via. Utilizzare poi la funzione in un programma che acquisisca dall'utente una lista di 10 elementi e li visualizzi scambiati."
      ]
    },
    {
      "cell_type": "code",
      "metadata": {
        "colab": {
          "base_uri": "https://localhost:8080/"
        },
        "id": "_NsXoDUNKT9K",
        "outputId": "7d2bb6dc-e640-4538-c61c-e08ed4b60e0f"
      },
      "source": [
        "def scambia(lst):\n",
        "  for i in lst:\n",
        "    lst.reverse()\n",
        "    return lst\n",
        "lst= []\n",
        "for n in range(0, 10):\n",
        "   element = str(input(\"Inserire elemento: \"))\n",
        "   lst.append(element)\n",
        "\n",
        "print(scambia(lst))"
      ],
      "execution_count": null,
      "outputs": [
        {
          "output_type": "stream",
          "name": "stdout",
          "text": [
            "Inserire elemento: 0\n",
            "Inserire elemento: 1\n",
            "Inserire elemento: 2\n",
            "Inserire elemento: 3\n",
            "Inserire elemento: 4\n",
            "Inserire elemento: 5\n",
            "Inserire elemento: a\n",
            "Inserire elemento: b\n",
            "Inserire elemento: c\n",
            "Inserire elemento: d\n",
            "['d', 'c', 'b', 'a', '5', '4', '3', '2', '1', '0']\n"
          ]
        }
      ]
    },
    {
      "cell_type": "markdown",
      "metadata": {
        "id": "15sSdnev8pGl"
      },
      "source": [
        "6. scrivere una funzione lambda che dati due numeri calcoli la loro somma. Utilizzare la funzione in un programma che chieda all'utente due numeri interi e visualizzi la loro somma."
      ]
    },
    {
      "cell_type": "code",
      "metadata": {
        "colab": {
          "base_uri": "https://localhost:8080/"
        },
        "id": "e_mGX6WU8u-c",
        "outputId": "451f2a17-02d2-4958-f1b4-b98ae36f69dd"
      },
      "source": [
        "z = lambda x, y: x + y\n",
        "z(int(input(\"Inserire primo numero: \")), int(input(\"Inserire secondo numero: \")))"
      ],
      "execution_count": null,
      "outputs": [
        {
          "name": "stdout",
          "output_type": "stream",
          "text": [
            "Inserire primo numero: 187\n",
            "Inserire secondo numero: 13\n"
          ]
        },
        {
          "output_type": "execute_result",
          "data": {
            "text/plain": [
              "200"
            ]
          },
          "metadata": {},
          "execution_count": 81
        }
      ]
    },
    {
      "cell_type": "markdown",
      "metadata": {
        "id": "z_2YmzVeCSBc"
      },
      "source": [
        "7. scrivere un programma che utilizzi una lambda function per aumentare di 10 unità tutti gli elementi di una lista di interi inserita dall'utente."
      ]
    },
    {
      "cell_type": "code",
      "metadata": {
        "colab": {
          "base_uri": "https://localhost:8080/"
        },
        "id": "aHcIFFZ2CUMZ",
        "outputId": "f4c437a2-db1b-475e-9fca-64aab318f9ae"
      },
      "source": [
        "lst = []\n",
        "n = int(input(\"Inserisci il numero di elementi: \"))\n",
        "for i in range(0, n):\n",
        "   element = int(input(\"Inserisci numero: \"))\n",
        "   lst.append(element)\n",
        "\n",
        "for i in range(0, n):\n",
        "   z = lambda x, y: x[i] + y\n",
        "   print(z(lst,10))"
      ],
      "execution_count": null,
      "outputs": [
        {
          "output_type": "stream",
          "name": "stdout",
          "text": [
            "Inserisci il numero di elementi: 4\n",
            "Inserisci numero: 8\n",
            "Inserisci numero: 124\n",
            "Inserisci numero: 32\n",
            "Inserisci numero: 97\n",
            "18\n",
            "134\n",
            "42\n",
            "107\n"
          ]
        }
      ]
    },
    {
      "cell_type": "markdown",
      "metadata": {
        "id": "ZSUUd-3ND1P-"
      },
      "source": [
        "8. scrivere una funzione lambda che sostituisca il valore 0 se il parametro è negativo, il valore del parametro se è positivo. Utilizzare poi la funzione in un programma che chieda all'utente i 10 elementi di una lista e visualizzi la lista con il valore 0 al posto dei numeri negativi."
      ]
    },
    {
      "cell_type": "code",
      "metadata": {
        "colab": {
          "base_uri": "https://localhost:8080/"
        },
        "id": "iykHJw1QD3xc",
        "outputId": "d7dbb8d9-85bb-4aae-d9ba-427778e604aa"
      },
      "source": [
        "lst = []\n",
        "for i in range(0, 10):\n",
        "   element = int(input(\"Inserisci numero: \"))\n",
        "   lst.append(element)\n",
        "\n",
        "for i in range(0,10):\n",
        "  if lst[i] < 0:\n",
        "    lst[i] = 0\n",
        "print(lst)"
      ],
      "execution_count": null,
      "outputs": [
        {
          "output_type": "stream",
          "name": "stdout",
          "text": [
            "Inserisci numero: 1\n",
            "Inserisci numero: -2\n",
            "Inserisci numero: 345\n",
            "Inserisci numero: -76545\n",
            "Inserisci numero: 3423\n",
            "Inserisci numero: -66\n",
            "Inserisci numero: 22\n",
            "Inserisci numero: -9654\n",
            "Inserisci numero: 21\n",
            "Inserisci numero: 111\n",
            "[1, 0, 345, 0, 3423, 0, 22, 0, 21, 111]\n"
          ]
        }
      ]
    },
    {
      "cell_type": "markdown",
      "metadata": {
        "id": "PIx-LX93HHjS"
      },
      "source": [
        "9. scrivere un programma che calcoli il fattoriale di un numero utilizzando una lambda function. Provare a realizzare una lambda function ricorsiva (per la ricorsione, google it...)"
      ]
    },
    {
      "cell_type": "code",
      "metadata": {
        "id": "6n8b_POTHIIc"
      },
      "source": [
        ""
      ],
      "execution_count": null,
      "outputs": []
    }
  ]
}
